{
 "cells": [
  {
   "cell_type": "code",
   "execution_count": 98,
   "id": "139e4cdf",
   "metadata": {},
   "outputs": [],
   "source": [
    "#import all the required libraries\n",
    "import pandas as pd\n",
    "import selenium\n",
    "from selenium import webdriver\n",
    "from selenium.common.exceptions import StaleElementReferenceException, NoSuchElementException\n",
    "import time\n",
    "import re"
   ]
  },
  {
   "cell_type": "markdown",
   "id": "6ee32e39",
   "metadata": {},
   "source": [
    "# 7. Write a program to scrap all the available details of best gaming laptops from digit.in."
   ]
  },
  {
   "cell_type": "code",
   "execution_count": 99,
   "id": "c5a2bad8",
   "metadata": {},
   "outputs": [
    {
     "name": "stderr",
     "output_type": "stream",
     "text": [
      "C:\\Users\\patel\\AppData\\Local\\Temp/ipykernel_60880/1705928529.py:1: DeprecationWarning: executable_path has been deprecated, please pass in a Service object\n",
      "  driver = webdriver.Chrome(r\"C:/Users/patel/Downloads/chromedriver_win32/chromedriver.exe\")\n"
     ]
    }
   ],
   "source": [
    "driver = webdriver.Chrome(r\"C:/Users/patel/Downloads/chromedriver_win32/chromedriver.exe\")"
   ]
  },
  {
   "cell_type": "code",
   "execution_count": 23,
   "id": "9ad48c5e",
   "metadata": {},
   "outputs": [],
   "source": [
    "url=\"https://www.digit.in/top-products/best-gaming-laptops-40.html\""
   ]
  },
  {
   "cell_type": "code",
   "execution_count": 24,
   "id": "d93915e3",
   "metadata": {},
   "outputs": [],
   "source": [
    "driver.get(url)"
   ]
  },
  {
   "cell_type": "code",
   "execution_count": 25,
   "id": "af7b073e",
   "metadata": {},
   "outputs": [],
   "source": [
    "Brands=[]\n",
    "Products_Description=[]\n",
    "Specification=[]\n",
    "Price=[]"
   ]
  },
  {
   "cell_type": "code",
   "execution_count": 27,
   "id": "f4dfaa1d",
   "metadata": {},
   "outputs": [
    {
     "name": "stderr",
     "output_type": "stream",
     "text": [
      "C:\\Users\\patel\\AppData\\Local\\Temp/ipykernel_58728/1498785572.py:1: DeprecationWarning: find_elements_by_xpath is deprecated. Please use find_elements(by=By.XPATH, value=xpath) instead\n",
      "  br=driver.find_elements_by_xpath(\"//div[@class='TopNumbeHeading sticky-footer']\")\n"
     ]
    },
    {
     "data": {
      "text/plain": [
       "9"
      ]
     },
     "execution_count": 27,
     "metadata": {},
     "output_type": "execute_result"
    }
   ],
   "source": [
    "br=driver.find_elements_by_xpath(\"//div[@class='TopNumbeHeading sticky-footer']\")\n",
    "len(br)"
   ]
  },
  {
   "cell_type": "code",
   "execution_count": 28,
   "id": "96da770c",
   "metadata": {},
   "outputs": [
    {
     "data": {
      "text/plain": [
       "['2.ASUS ROG STRIX SCAR 15',\n",
       " '3.ACER NITRO 5',\n",
       " '4.MSI STEALTH 15M',\n",
       " '5.ASUS ROG STRIX SCAR 15',\n",
       " '6.ASUS ROG STRIX SCAR 15',\n",
       " '7.ASUS ZEPHYRUS G14',\n",
       " '8.HP OMEN 16',\n",
       " '9.ASUS ROG ZEPHYRUS DUO 15',\n",
       " '10.ACER ASPIRE 7 GAMING LAPTOP']"
      ]
     },
     "execution_count": 28,
     "metadata": {},
     "output_type": "execute_result"
    }
   ],
   "source": [
    "for i in br:\n",
    "   \n",
    "    Brands.append(str(i.text).replace(\"\\n\",\"\"))\n",
    "Brands"
   ]
  },
  {
   "cell_type": "code",
   "execution_count": 29,
   "id": "d6357256",
   "metadata": {},
   "outputs": [
    {
     "name": "stderr",
     "output_type": "stream",
     "text": [
      "C:\\Users\\patel\\AppData\\Local\\Temp/ipykernel_58728/2723260401.py:1: DeprecationWarning: find_elements_by_xpath is deprecated. Please use find_elements(by=By.XPATH, value=xpath) instead\n",
      "  sp=driver.find_elements_by_xpath(\"//div[@class='Specs-Wrap']\")\n"
     ]
    },
    {
     "data": {
      "text/plain": [
       "10"
      ]
     },
     "execution_count": 29,
     "metadata": {},
     "output_type": "execute_result"
    }
   ],
   "source": [
    "sp=driver.find_elements_by_xpath(\"//div[@class='Specs-Wrap']\")\n",
    "len(sp)"
   ]
  },
  {
   "cell_type": "code",
   "execution_count": 30,
   "id": "95c2abbe",
   "metadata": {},
   "outputs": [
    {
     "data": {
      "text/plain": [
       "['OSWINDOWS 11 HOMEDISPLAY17\" (3840 X 2160)PROCESSOR12TH GEN INTEL CORE I9-12900HK | 5 GHZMEMORY2 TB SSD/16 GBGB DDR5',\n",
       " 'OSWINDOWS 11 HOMEDISPLAY15.6\" (2560 X 1440)PROCESSOR12TH GEN INTEL CORE I9-12900H | 2.5 GHZMEMORY2 TB SSD/32 GBGB DDR5',\n",
       " 'OSWINDOWS 10DISPLAY15.6\" (1920 X 1080)PROCESSORAMD RYZEN 9 OCTA CORE | 2.4 GHZMEMORY1 TB HDD/16 GBGB DDR4',\n",
       " 'OSWINDOWS 10DISPLAY15.6\" (1920 X 1080)PROCESSORINTEL CORE I7 11TH GEN - 11375H | NAMEMORY1 TB SSD/16 GBGB DDR4',\n",
       " 'OSWINDOWS 10DISPLAY15.6\" (2560 X 1440)PROCESSORAMD RYZEN 9 OCTA CORE - 5900HX | 3.3 GHZMEMORY2 TB SSD/32 GBGB DDR4',\n",
       " 'OSWINDOWS 10 HOMEDISPLAY15.6\" (1920 X 1080)PROCESSORAMD RYZEN™ 9 5900HX | 3.3 GHZMEMORY1 TB SSD/16 GBGB DDR4',\n",
       " 'OSWINDOWS 10 HOMEDISPLAY14\" (1920 X 1080)PROCESSORAMD 3RD GEN RYZEN 9 | 3.3 GHZMEMORY1 TB SSD/16 GBGB DDR4',\n",
       " 'OSWINDOWS 11 HOMEDISPLAY16.1\" (1920 X 1080)PROCESSOR12TH GEN INTEL CORE I7-12700H | 4.7 GHZMEMORY1 TB SSD/16 GBGB DDR4',\n",
       " 'OSWINDOWS 10DISPLAY15.6\" (3840 X 1100)PROCESSORINTEL CORE I7 10TH GEN 10875H | NAMEMORY512 GB SSD/4 GBGB DDR4',\n",
       " 'OSWINDOWS 10 HOMEDISPLAY15.6\" (1920 X 1080)PROCESSORAMD RYZEN™ 5-5500U HEXA-CORE | NAMEMORY512 GB SSD/8 GBGB DDR4']"
      ]
     },
     "execution_count": 30,
     "metadata": {},
     "output_type": "execute_result"
    }
   ],
   "source": [
    "for i in sp:\n",
    "   \n",
    "    Specification.append(str(i.text).replace(\"\\n\",\"\"))\n",
    "Specification"
   ]
  },
  {
   "cell_type": "code",
   "execution_count": 31,
   "id": "b802523b",
   "metadata": {},
   "outputs": [
    {
     "name": "stderr",
     "output_type": "stream",
     "text": [
      "C:\\Users\\patel\\AppData\\Local\\Temp/ipykernel_58728/1938359309.py:1: DeprecationWarning: find_elements_by_xpath is deprecated. Please use find_elements(by=By.XPATH, value=xpath) instead\n",
      "  des=driver.find_elements_by_xpath(\"//div[@class='Section-center']\")\n"
     ]
    },
    {
     "data": {
      "text/plain": [
       "10"
      ]
     },
     "execution_count": 31,
     "metadata": {},
     "output_type": "execute_result"
    }
   ],
   "source": [
    "des=driver.find_elements_by_xpath(\"//div[@class='Section-center']\")\n",
    "len(des)"
   ]
  },
  {
   "cell_type": "code",
   "execution_count": 32,
   "id": "d20047ff",
   "metadata": {},
   "outputs": [
    {
     "data": {
      "text/plain": [
       "['Possibly the most high-end gaming laptop anyone can buy is the MSI Raider GTE76 2022 edition. Last year’s model was impressive that it won the Digit Zero 1 award for the best gaming laptop bar none. The current year model is no different either. It comes with an Intel 12th Gen Core i9-12900HK chip, which is a 14-core, 20-thread CPU. It is probably the most powerful processor in a laptop at the time of writing this article. It is paired with an equally capable Nvidia GeForce RTX 3080 Ti with 16GB GDDR6 VRAM featuring 175W TGP. The laptop also features 32GB DDR5 memory running in Quad-channel mode. To top it all off, the MSI Raider GE76 also comes equipped with a 2TB NVMe PCIe Gen 4 SSD to load all your files and games in an instant. If you have the budget, then the MSI Raider GE76 stands top of the list of the best gaming laptops and it’ll do so probably for a while now.SPECIFICATIONOS : Windows 11 HomeDisplay : 17\" (3840 x 2160)Processor : 12th Gen Intel Core i9-12900HK | 5 GHzMemory : 2 TB SSD/16 GBGB DDR5Weight : 2.9Dimension : 397 x 284 x 26Graphics Processor : NVIDIA GeForce RTX 3080TiAVAILABLE ₹ 429,940BUY NOW₹ 71,656/MONTHGET EMI*0% Interest*0 Down Payment*No Processing Fee',\n",
       " 'The second high-end gaming laptop on the list is the ASUS ROG Strix Scar 15 featuring an Intel 12th Gen Core i9-12900H CPU and an Nvidia RTX 3080 Ti GPU. The Intel chip is a little slower than the Core i9-12900HK mostly in multicore performance, but in most applications, the user will hardly notice a major difference. Both, the Intel Core i9-12900HK and the i9-12900H can hit the 5.00GHz boost clock, which is also a good thing. The top gaming laptop features an Nvidia RTX 3080 Ti GPU with 16GB GDDR6 VRAM and 150W TGP. The ASUS ROG Strix Scar 15 also features 32GB DDR5 memory running in quad-channel mode. For easy and fast access to all your files, the ASUS ROG Strix Scar 15 comes equipped with a PCI Gen 4 SSD as well. Overall, it is one of the top gaming laptops in India that money can buy.SPECIFICATIONOS : Windows 11 HomeDisplay : 15.6\" (2560 x 1440)Processor : 12th Gen Intel Core i9-12900H | 2.5 GHzMemory : 2 TB SSD/32 GBGB DDR5Weight : 2.3Dimension : 259 x 354 x 27Graphics Processor : NVIDIA GeForce RTX 3070 TiAVAILABLE ₹ 285,390BUY NOW₹ 47,565/MONTHGET EMI*0% Interest*0 Down Payment*No Processing Fee',\n",
       " 'Possibly the best value-for-money gaming laptop on the market, the Acer Nitro 5 checks all the right boxes. It features an ultra-fast Ryzen 9 Octa-Core processor paired with an RTX 3070 GPU. The high-end gaming laptop comes with 16GB RAM, 256GB SSD, 1TB SSD and a 15.6-inch FHD display.SPECIFICATIONOS : Windows 10Display : 15.6\" (1920 x 1080)Processor : AMD Ryzen 9 Octa Core | 2.4 GHzMemory : 1 TB HDD/16 GBGB DDR4Weight : 2.4Dimension : 363.4 x 255 x 23.9Graphics Processor : NVIDIA GeForce RTX 3070AVAILABLE ₹ 129,990BUY NOW₹ 21,665/MONTHGET EMI*0% Interest*0 Down Payment*No Processing Fee',\n",
       " 'If you’re looking for a powerful gaming laptop that is also portable then MSI Stealth 15M is the one for you. It strikes a great balance between form factor and performance thanks to the 11th Gen Core i7 processor, RTX 3060 GPU, 16GB RAM, and 1TB SSD. On top of that, the high-end gaming laptop looks very sleek.SPECIFICATIONOS : Windows 10Display : 15.6\" (1920 x 1080)Processor : Intel Core i7 11th Gen - 11375H | NAMemory : 1 TB SSD/16 GBGB DDR4Weight : 1.7Dimension : 358.3 x 248 x 16.15Graphics Processor : NVIDIA GeForce RTX 3060AVAILABLE ₹ 134,990BUY NOW₹ 22,498/MONTHGET EMI*0% Interest*0 Down Payment*No Processing Fee',\n",
       " 'If you want possibly the best performance possible on a gaming laptop that’s not Alienware then ASUS ROG Strix Scar 15 should fir the bill. It’s on the list of the best gaming laptops thanks to a superfast Ryzen 9 5900HX processor, an Nvidia RTX 3080 GPU, 32GB RAM, and 2TB SSD. The laptop is a super-charged machine capable of delivering high performance in all modern tasks.SPECIFICATIONOS : Windows 10Display : 15.6\" (2560 x 1440)Processor : AMD Ryzen 9 Octa Core - 5900HX | 3.3 GHzMemory : 2 TB SSD/32 GBGB DDR4Weight : 2.30Dimension : 354 x 259 x 22.6Graphics Processor : NVIDIA GeForce RTX 3080AVAILABLE ₹ 268,990BUY NOWOUT OF STOCK ₹ 193,990BUY NOW₹ 32,331/MONTHGET EMI*0% Interest*0 Down Payment*No Processing Fee',\n",
       " 'When the ASUS ROG Strix Scar 15 ended up on our test bench, we immediately knew it was overkill. But you know what? It\\'s a good kind of overkill. ASUS\\' annual upgrade to the Scar lineup saw some significant changes this year and we like most of them. The Asus ROG Strix Scar 15 comes with up to AMD Ryzen 9 5900HX and Nvidia GeForce RTX 3080. The laptop also features per-key RGB on its opto-mechanical keyboard. The new Scar laptops also have a slightly new design, making them look a little different from the older ones. It\\'s also worth pointing out that the laptop comes with a 15.6-inch 1440p display with a refresh rate of 165Hz.Pros1440p, 165Hz display is great for gaming.Impressive performance beyond just gaming.On-board speakers are loud and good.ConsTends to run hot, but doesn\\'t throttle.No game leveraged 16GB VRAM on the Nvidia GeForce RTX 3080.SPECIFICATIONOS : Windows 10 HomeDisplay : 15.6\" (1920 x 1080)Processor : AMD Ryzen™ 9 5900HX | 3.3 GHzMemory : 1 TB SSD/16 GBGB DDR4Weight : 2.30Dimension : 35.4 x 25.9 x 2.26Graphics Processor : NVIDIA® GeForce RTX™ 3070AVAILABLE ₹ 215,990BUY NOW₹ 35,998/MONTHGET EMI*0% Interest*0 Down Payment*No Processing Fee',\n",
       " 'The Asus Zephyrus G14 is a first-of-its-kind gaming laptop, featuring a high-power 8-core CPU in a 14-inch chassis. Powered by the AMD Ryzen 4000 series processors going all the way up to Ryzen 9 4900HS and an Nvidia GeForce RTX 2060, the AMD Zephyrus G14 is a perfect laptop for those kinds of people who like to game and create, but put a priority on doing so using a light-weight machine.ProsImpressive performance for the form-factor.Anime Matrix display is a very well implemented gimmick.Truly one-of-a-kind machine at the moment.ConsHeat makes the keyboard unusable.Uses a mid-range SSD.No Pg Up or Pg Dn keysSPECIFICATIONOS : Windows 10 HomeDisplay : 14\" (1920 x 1080)Processor : AMD 3rd Gen Ryzen 9 | 3.3 GHzMemory : 1 TB SSD/16 GBGB DDR4Weight : 1.65Dimension : 32.5 x 22.1 x 1.8Graphics Processor : NVIDIA GeForce RTX 2060AVAILABLE ₹ 164,990BUY NOWOUT OF STOCK ₹ 144,990BUY NOW₹ 24,165/MONTHGET EMI*0% Interest*0 Down Payment*No Processing Fee',\n",
       " 'It is difficult to find a laptop that offers a good mixture of high specifications, good thermal performance, and a decent price tag. HP Omen 16 is probably one of the laptops that offer all these things in a great overall package. The gaming laptop is powered by an Intel Core i7-12700H an 14-core 20-thread processor capable of delivering up to 4.70GHz of maximum clock speed with Intel Turbo boost technology. The powerful CPU is paired with an Nvidia RTX 3060 GPU with 6GB GDDR6 VRAM, to deliver high performance while gaming. To further take advantage of these two chips, the HP Omen 16 gaming laptop also comes with a 16.1-inch 1080p display with support for up to 144Hz maximum refresh rate so the user can play all the modern gaming titles at a high refresh rate. For memory and storage, the HP Omen 16 comes with 16GB DDR5 memory running in quad-channel mode and 1TB PCIe NVMe M.2 SSD, making the laptop easily capable of handling games and other resource-heavy applications.SPECIFICATIONOS : Windows 11 HomeDisplay : 16.1\" (1920 x 1080)Processor : 12th Gen Intel Core i7-12700H | 4.7 GHzMemory : 1 TB SSD/16 GBGB DDR4Weight : 2.32Dimension : 36.92 x 24.8 x 2.3Graphics Processor : NVIDIA GeForce RTX 3060AVAILABLE ₹ 139,990BUY NOWAVAILABLE ₹ 145,999BUY NOW₹ 23,331/MONTHGET EMI*0% Interest*0 Down Payment*No Processing Fee',\n",
       " 'The machine is powered by an Intel Core i7-10875H processor, offering 8 cores and 16 threads. So, you can leave behind all your concerns around the CPU bottlenecking the overall performance during gaming. With an Nvidia GeForce RTX 2070 Max-Q, this laptop can manage pretty much anything game you throw at it and then some more. The star of the show however is the awesome 300Hz refresh rate capable, 1080p IPS panel on this gaming laptop. Yes, you read that correctly, 300Hz, which means you can get silky smooth, brag-worthy 300FPS on e-sports centric games on this machine.SPECIFICATIONOS : Windows 10Display : 15.6\" (3840 x 1100)Processor : Intel Core i7 10th Gen 10875H | NAMemory : 512 GB SSD/4 GBGB DDR4Weight : 2.4Dimension : 268.30 x 360.00 x 20.90Graphics Processor : NVIDIA GeForce RTX 2070 Max-QAVAILABLE ₹ 185,000BUY NOW₹ 30,833/MONTHGET EMI*0% Interest*0 Down Payment*No Processing Fee',\n",
       " 'The Acer Aspire 7 gaming laptop is a very capable laptop that has made it to a lot of our recommendation lists. It costs less than Rs 60,000 but it packs a decent set of internals that should be enough to handle your gaming needs. The laptop even managed to run a lot of modern AAA titles without any issues even though it only has a GTX 1650 GPU. The Ryzen 5 5500U processor inside this laptop runs the show flawlessly. It also has a really good battery life, something that often goes missing when it comes to gaming laptops. You can check out our review of the laptop right here.ProsUnderstated designGreat performance with AMD Ryzen 5 5500UExcellent battery lifeGood port selectionConsHighly uncalibrated displayThe speakers could have been betterSPECIFICATIONOS : Windows 10 HomeDisplay : 15.6\" (1920 x 1080)Processor : AMD Ryzen™ 5-5500U hexa-core | NAMemory : 512 GB SSD/8 GBGB DDR4Weight : 2.15Dimension : 2.29 x 36.3 x 25.4Graphics Processor : NVIDIA® GeForce® GTX 1650OUT OF STOCK ₹ 53,490BUY NOW₹ 8,915/MONTHGET EMI*0% Interest*0 Down Payment*No Processing Fee']"
      ]
     },
     "execution_count": 32,
     "metadata": {},
     "output_type": "execute_result"
    }
   ],
   "source": [
    "for i in des:\n",
    "    \n",
    "    Products_Description.append(str(i.text).replace(\"\\n\",\"\"))\n",
    "Products_Description"
   ]
  },
  {
   "cell_type": "code",
   "execution_count": 33,
   "id": "a8717470",
   "metadata": {},
   "outputs": [
    {
     "name": "stderr",
     "output_type": "stream",
     "text": [
      "C:\\Users\\patel\\AppData\\Local\\Temp/ipykernel_58728/4110193034.py:1: DeprecationWarning: find_elements_by_xpath is deprecated. Please use find_elements(by=By.XPATH, value=xpath) instead\n",
      "  pri=driver.find_elements_by_xpath(\"//td[@class='smprice']\")\n"
     ]
    },
    {
     "data": {
      "text/plain": [
       "10"
      ]
     },
     "execution_count": 33,
     "metadata": {},
     "output_type": "execute_result"
    }
   ],
   "source": [
    "pri=driver.find_elements_by_xpath(\"//td[@class='smprice']\")\n",
    "len(pri)"
   ]
  },
  {
   "cell_type": "code",
   "execution_count": 34,
   "id": "2c911424",
   "metadata": {},
   "outputs": [
    {
     "data": {
      "text/plain": [
       "['₹ 429,940',\n",
       " '₹ 285,390',\n",
       " '₹ 129,990',\n",
       " '₹ 134,990',\n",
       " '₹ 193,990',\n",
       " '₹ 215,990',\n",
       " '₹ 144,990',\n",
       " '₹ 139,990',\n",
       " '₹ 185,000',\n",
       " '₹ 53,490']"
      ]
     },
     "execution_count": 34,
     "metadata": {},
     "output_type": "execute_result"
    }
   ],
   "source": [
    "for i in pri:\n",
    "    \n",
    "    Price.append(str(i.text).replace(\"\\n\",\"\"))\n",
    "Price    "
   ]
  },
  {
   "cell_type": "code",
   "execution_count": 37,
   "id": "b9996231",
   "metadata": {},
   "outputs": [
    {
     "data": {
      "text/html": [
       "<div>\n",
       "<style scoped>\n",
       "    .dataframe tbody tr th:only-of-type {\n",
       "        vertical-align: middle;\n",
       "    }\n",
       "\n",
       "    .dataframe tbody tr th {\n",
       "        vertical-align: top;\n",
       "    }\n",
       "\n",
       "    .dataframe thead th {\n",
       "        text-align: right;\n",
       "    }\n",
       "</style>\n",
       "<table border=\"1\" class=\"dataframe\">\n",
       "  <thead>\n",
       "    <tr style=\"text-align: right;\">\n",
       "      <th></th>\n",
       "      <th>Brand</th>\n",
       "      <th>Price</th>\n",
       "      <th>Specification</th>\n",
       "      <th>Description</th>\n",
       "    </tr>\n",
       "  </thead>\n",
       "  <tbody>\n",
       "    <tr>\n",
       "      <th>0</th>\n",
       "      <td>2.ASUS ROG STRIX SCAR 15</td>\n",
       "      <td>₹ 429,940</td>\n",
       "      <td>OSWINDOWS 11 HOMEDISPLAY17\" (3840 X 2160)PROCE...</td>\n",
       "      <td>Possibly the most high-end gaming laptop anyon...</td>\n",
       "    </tr>\n",
       "    <tr>\n",
       "      <th>1</th>\n",
       "      <td>3.ACER NITRO 5</td>\n",
       "      <td>₹ 285,390</td>\n",
       "      <td>OSWINDOWS 11 HOMEDISPLAY15.6\" (2560 X 1440)PRO...</td>\n",
       "      <td>The second high-end gaming laptop on the list ...</td>\n",
       "    </tr>\n",
       "    <tr>\n",
       "      <th>2</th>\n",
       "      <td>4.MSI STEALTH 15M</td>\n",
       "      <td>₹ 129,990</td>\n",
       "      <td>OSWINDOWS 10DISPLAY15.6\" (1920 X 1080)PROCESSO...</td>\n",
       "      <td>Possibly the best value-for-money gaming lapto...</td>\n",
       "    </tr>\n",
       "    <tr>\n",
       "      <th>3</th>\n",
       "      <td>5.ASUS ROG STRIX SCAR 15</td>\n",
       "      <td>₹ 134,990</td>\n",
       "      <td>OSWINDOWS 10DISPLAY15.6\" (1920 X 1080)PROCESSO...</td>\n",
       "      <td>If you’re looking for a powerful gaming laptop...</td>\n",
       "    </tr>\n",
       "    <tr>\n",
       "      <th>4</th>\n",
       "      <td>6.ASUS ROG STRIX SCAR 15</td>\n",
       "      <td>₹ 193,990</td>\n",
       "      <td>OSWINDOWS 10DISPLAY15.6\" (2560 X 1440)PROCESSO...</td>\n",
       "      <td>If you want possibly the best performance poss...</td>\n",
       "    </tr>\n",
       "    <tr>\n",
       "      <th>5</th>\n",
       "      <td>7.ASUS ZEPHYRUS G14</td>\n",
       "      <td>₹ 215,990</td>\n",
       "      <td>OSWINDOWS 10 HOMEDISPLAY15.6\" (1920 X 1080)PRO...</td>\n",
       "      <td>When the ASUS ROG Strix Scar 15 ended up on ou...</td>\n",
       "    </tr>\n",
       "    <tr>\n",
       "      <th>6</th>\n",
       "      <td>8.HP OMEN 16</td>\n",
       "      <td>₹ 144,990</td>\n",
       "      <td>OSWINDOWS 10 HOMEDISPLAY14\" (1920 X 1080)PROCE...</td>\n",
       "      <td>The Asus Zephyrus G14 is a first-of-its-kind g...</td>\n",
       "    </tr>\n",
       "    <tr>\n",
       "      <th>7</th>\n",
       "      <td>9.ASUS ROG ZEPHYRUS DUO 15</td>\n",
       "      <td>₹ 139,990</td>\n",
       "      <td>OSWINDOWS 11 HOMEDISPLAY16.1\" (1920 X 1080)PRO...</td>\n",
       "      <td>It is difficult to find a laptop that offers a...</td>\n",
       "    </tr>\n",
       "    <tr>\n",
       "      <th>8</th>\n",
       "      <td>10.ACER ASPIRE 7 GAMING LAPTOP</td>\n",
       "      <td>₹ 185,000</td>\n",
       "      <td>OSWINDOWS 10DISPLAY15.6\" (3840 X 1100)PROCESSO...</td>\n",
       "      <td>The machine is powered by an Intel Core i7-108...</td>\n",
       "    </tr>\n",
       "  </tbody>\n",
       "</table>\n",
       "</div>"
      ],
      "text/plain": [
       "                            Brand      Price  \\\n",
       "0        2.ASUS ROG STRIX SCAR 15  ₹ 429,940   \n",
       "1                  3.ACER NITRO 5  ₹ 285,390   \n",
       "2               4.MSI STEALTH 15M  ₹ 129,990   \n",
       "3        5.ASUS ROG STRIX SCAR 15  ₹ 134,990   \n",
       "4        6.ASUS ROG STRIX SCAR 15  ₹ 193,990   \n",
       "5             7.ASUS ZEPHYRUS G14  ₹ 215,990   \n",
       "6                    8.HP OMEN 16  ₹ 144,990   \n",
       "7      9.ASUS ROG ZEPHYRUS DUO 15  ₹ 139,990   \n",
       "8  10.ACER ASPIRE 7 GAMING LAPTOP  ₹ 185,000   \n",
       "\n",
       "                                       Specification  \\\n",
       "0  OSWINDOWS 11 HOMEDISPLAY17\" (3840 X 2160)PROCE...   \n",
       "1  OSWINDOWS 11 HOMEDISPLAY15.6\" (2560 X 1440)PRO...   \n",
       "2  OSWINDOWS 10DISPLAY15.6\" (1920 X 1080)PROCESSO...   \n",
       "3  OSWINDOWS 10DISPLAY15.6\" (1920 X 1080)PROCESSO...   \n",
       "4  OSWINDOWS 10DISPLAY15.6\" (2560 X 1440)PROCESSO...   \n",
       "5  OSWINDOWS 10 HOMEDISPLAY15.6\" (1920 X 1080)PRO...   \n",
       "6  OSWINDOWS 10 HOMEDISPLAY14\" (1920 X 1080)PROCE...   \n",
       "7  OSWINDOWS 11 HOMEDISPLAY16.1\" (1920 X 1080)PRO...   \n",
       "8  OSWINDOWS 10DISPLAY15.6\" (3840 X 1100)PROCESSO...   \n",
       "\n",
       "                                         Description  \n",
       "0  Possibly the most high-end gaming laptop anyon...  \n",
       "1  The second high-end gaming laptop on the list ...  \n",
       "2  Possibly the best value-for-money gaming lapto...  \n",
       "3  If you’re looking for a powerful gaming laptop...  \n",
       "4  If you want possibly the best performance poss...  \n",
       "5  When the ASUS ROG Strix Scar 15 ended up on ou...  \n",
       "6  The Asus Zephyrus G14 is a first-of-its-kind g...  \n",
       "7  It is difficult to find a laptop that offers a...  \n",
       "8  The machine is powered by an Intel Core i7-108...  "
      ]
     },
     "execution_count": 37,
     "metadata": {},
     "output_type": "execute_result"
    }
   ],
   "source": [
    "digit_lap=pd.DataFrame([])\n",
    "digit_lap['Brand']=Brands[0:9]\n",
    "digit_lap['Price']=Price[0:9]\n",
    "digit_lap['Specification']=Specification[0:9]\n",
    "digit_lap['Description']=Products_Description[0:9]\n",
    "digit_lap"
   ]
  },
  {
   "cell_type": "markdown",
   "id": "b99fff14",
   "metadata": {},
   "source": [
    "# 6. Write a program to scrap details of all the funding deals for second quarter (i.e Jan 21 – March 21) from trak.in."
   ]
  },
  {
   "cell_type": "code",
   "execution_count": 38,
   "id": "1ee2283a",
   "metadata": {},
   "outputs": [
    {
     "name": "stderr",
     "output_type": "stream",
     "text": [
      "C:\\Users\\patel\\AppData\\Local\\Temp/ipykernel_58728/1705928529.py:1: DeprecationWarning: executable_path has been deprecated, please pass in a Service object\n",
      "  driver = webdriver.Chrome(r\"C:/Users/patel/Downloads/chromedriver_win32/chromedriver.exe\")\n"
     ]
    }
   ],
   "source": [
    "driver = webdriver.Chrome(r\"C:/Users/patel/Downloads/chromedriver_win32/chromedriver.exe\")"
   ]
  },
  {
   "cell_type": "code",
   "execution_count": 39,
   "id": "bf41e709",
   "metadata": {},
   "outputs": [],
   "source": [
    "url1=\"https://trak.in/india-startup-funding-investment-2015/\""
   ]
  },
  {
   "cell_type": "code",
   "execution_count": 40,
   "id": "dd57c6a7",
   "metadata": {},
   "outputs": [],
   "source": [
    "driver.get(url1)"
   ]
  },
  {
   "cell_type": "code",
   "execution_count": 41,
   "id": "e84b3856",
   "metadata": {},
   "outputs": [],
   "source": [
    "Dates=[]\n",
    "Company=[]\n",
    "Industry=[]\n",
    "Investor_Name=[]\n",
    "Investment_Type=[]\n",
    "Amount=[]\n"
   ]
  },
  {
   "cell_type": "code",
   "execution_count": 42,
   "id": "5731d658",
   "metadata": {},
   "outputs": [
    {
     "name": "stderr",
     "output_type": "stream",
     "text": [
      "C:\\Users\\patel\\AppData\\Local\\Temp/ipykernel_58728/2357157221.py:2: DeprecationWarning: find_elements_by_xpath is deprecated. Please use find_elements(by=By.XPATH, value=xpath) instead\n",
      "  companies=driver.find_elements_by_xpath(\"//td[@class='column-3']\")\n"
     ]
    },
    {
     "name": "stdout",
     "output_type": "stream",
     "text": [
      "392 ['BYJU’S', 'Meesho', 'Swiggy', 'Groww', 'Beldara', 'DealShare', 'Uniphore', 'Dunzo', 'BYJU’S', 'SkilloVilla', 'CityMall', 'DotPe', 'Doubtnut', 'Zomato', 'Fingerlix', 'Zolve', 'KreditBee', 'Pepperfry', 'Grofers', 'Nothing', 'SplashLearn', 'Digit Insurance', 'Bombay Shaving Company', 'DeHaat', 'Darwinbox', 'mfine', 'Udayy', 'True Elements', 'Saveo', 'Bira 91', 'Pine Labs', 'Zenoti', 'Tax Buddy India', 'Delhivery', 'PagarBook', 'Codingal', 'CRED', 'Bira 91', 'Chumbak', 'Cityflo', 'Shipsy', 'Unacademy', 'Cashfree', 'Credgenics', 'Country Delight', 'Nykaa', 'Betterplace', 'FlexiLoans', 'GetVantage', 'FreshToHome', 'Origo', 'Origo', 'Treebo Hotels', 'Hubilo', 'CredAble', 'Byju’s', 'mCaffeine', 'Qshala', 'Winzo', 'Hippo Video', 'Melorra', '1mg', 'mfine', 'Apna', 'Railofy', 'Practo', 'Medlife', 'HungerBox', 'Dunzo', 'Terra.do', 'Classplus', 'Niyo', 'ZestMoney', 'FreshToHome', 'Eduvanz', 'Flipkart', 'Vedantu', 'Crio', 'goDutch', 'Mystifly', 'JetSynthesys', 'gigIndia', 'PumPumPum', 'FLYX', 'Open Appliances Pvt. Ltd.', 'Drishti Technologies', 'Stellaps', 'Peppermint', 'Jai Kisan', 'Biomoneta', 'Sai Estate Management and Skills Institute', 'LetsTransport', 'WayCool Foods', 'Myelin Foundry', 'Hapramp', 'leap.club', 'Tring', 'Khatabook', 'Vakilsearch', 'Lendingkart', 'No Worry No Tension Healthcare (NWNT)', 'Classplus', 'Nykaa', 'Magicpin', 'LetsTransport', 'Vedantu', 'Swiggy', 'Zupee', 'DeHaat', 'BigBasket', 'Fingerlix', 'Nykaa', 'Recko', 'Soxytoes', 'Chqbook.com', 'Paperboat', 'CollegeKhabri', 'FamPay', 'MultiLiving', 'Ola Electric', 'Mera Kisan', '1mg', 'RACEnergy', 'Adonmo', 'DoubtNut', 'MultiplyMyLeads', 'Embibe', 'FirstCry', 'Pepperfry', 'MaxWholesale', 'Dot', 'BYJU’S', 'Shuttl', 'Mamaearth', 'https://www.wealthbucket.in/', 'Fashor', 'Pando', 'Zomato', 'Ecozen', 'CarDekho', 'Dhruva Space', 'Rivigo', 'Healthians', 'Licious', 'InCred', 'Trell', 'Rein Games', 'Lenskart.com', 'Freshworks', 'Misters', 'Sunstone Eduversity Pvt. Ltd', 'Burger Singh', 'Healthians', 'Ninjacart', 'Aye Finance', 'SuperGaming', 'Clumio', 'eBikeGo', 'Dunzo', 'Udaan', 'The Man Company', 'FPL Technologies', 'Cashflo', 'Digital F5', '3rdFlix', '75F', 'Myelin Foundry', 'Atomberg Technology', 'GOQii', 'Vyapar App', '', 'CarDekho', 'Progcap', 'MyPetrolPump', 'Alteria Capital', 'Pine Labs', 'Meesho', 'Cars24', 'Uniphore', 'Zendrive', 'Lo! Foods', 'RenewBuy', 'Atlan', 'WizCounsel', 'Ola Cabs', 'Uniphore', 'Daalchini Technologies', \"BYJU'S\", 'Moglix', 'Ezyhaul', 'Indus OS', 'NoBroker', 'Bira91', 'FabHotels', 'Avail Finance', 'BharatPe', 'Recykal', 'Agara Labs', 'Sistema.bio', 'Chakr Innovation', 'Pratilipi', 'Ola Electric', 'Saahas Zero Waste', 'StyleDotMe', 'BlackBuck', 'Zenoti', 'Ather Energy', 'FreshVnF', 'GlowRoad', 'Bira91', 'Kuvera', 'Medlife', 'Kabadiwala', 'Tripoto', 'Azah', 'Setu', 'Toppr', 'Craftsvilla', 'Unacademy', 'CleverTap', 'FleetX', 'Zilingo', 'NanoClean Global', 'OyoRooms', 'CarDekho', 'Vyome Therapeutics Inc.', 'Samunnati Financial Intermediation & Services Pvt. Ltd', 'Manch', 'UrbanClap Technologies Pvt. Ltd', 'Guiddoo', 'Career Anna', 'Nagpur Wholesale', 'ShopKirana', 'BuildSupply', 'GoDesi', 'Veritas Finance Ltd.', 'Meesho', 'Mobile Premier League', 'A&R Bon Vivants', 'Blackbuck', 'MilkBAsket', 'DriveU', 'CleanseCar', 'Automation Anywhere', 'Northmist', 'Origo Commodities India Pvt. Ltd', 'Grover Zampa', 'Droom', 'Innov8', 'Blackbuck', 'LetsTransport', 'Netmeds', 'Udaan', 'Daily hunt', '3HCare', 'HappyGoEasy', 'Nykaa', 'Mad Street Den', 'Dream11', 'MamaEarth', 'AutoGrid', 'dishq', 'HealthFin', 'Samosa Labs', 'ZiffyHomes', 'My OmNamo', 'ShopX', 'MakeMyTrip', 'Hansel io', 'Metro Bikes', 'Phone Pe', 'Leena AI', 'Biryani By Kilo', 'Anchanto', 'Loan Tap', 'PolicyBazaar', 'zippserv', 'Groww', 'Avenue Growth', 'iNICU', 'Kinara Capital', 'Northmist', 'Origo Commodities India Pvt. Ltd', 'Grover Zampa', 'Droom', 'Innov8', 'Blackbuck', 'LetsTransport', 'Netmeds', 'Udaan', 'Daily hunt', '3HCare', 'HappyGoEasy', 'Nykaa', 'Mad Street Den', 'Dream11', 'MamaEarth', 'AutoGrid', 'dishq', 'HealthFin', 'Samosa Labs', 'ZiffyHomes', 'My OmNamo', 'ShopX', 'MakeMyTrip', 'Hansel io', 'Metro Bikes', 'Phone Pe', 'Leena AI', 'Biryani By Kilo', 'Anchanto', 'Loan Tap', 'PolicyBazaar', 'zippserv', 'Groww', 'Avenue Growth', 'iNICU', 'Kinara Capital', 'Northmist', 'Origo Commodities India Pvt. Ltd', 'Grover Zampa', 'Droom', 'Innov8', 'Blackbuck', 'LetsTransport', 'Netmeds', 'Udaan', 'Daily hunt', '3HCare', 'HappyGoEasy', 'Nykaa', 'Mad Street Den', 'Dream11', 'MamaEarth', 'AutoGrid', 'dishq', 'HealthFin', 'Samosa Labs', 'ZiffyHomes', 'My OmNamo', 'ShopX', 'MakeMyTrip', 'Hansel io', 'Metro Bikes', 'Phone Pe', 'Leena AI', 'Biryani By Kilo', 'Anchanto', 'Loan Tap', 'PolicyBazaar', 'zippserv', 'Groww', 'Avenue Growth', 'iNICU', 'Kinara Capital', 'Northmist', 'Origo Commodities India Pvt. Ltd', 'Grover Zampa', 'Droom', 'Innov8', 'Blackbuck', 'LetsTransport', 'Netmeds', 'Udaan', 'Daily hunt', '3HCare', 'HappyGoEasy', 'Nykaa', 'Mad Street Den', 'Dream11', 'MamaEarth', 'AutoGrid', 'dishq', 'HealthFin', 'Samosa Labs', 'ZiffyHomes', 'My OmNamo', 'ShopX', 'MakeMyTrip', 'Hansel io', 'Metro Bikes', 'Phone Pe', 'Leena AI', 'Biryani By Kilo', 'Anchanto', 'Loan Tap', 'PolicyBazaar', 'zippserv', 'Groww', 'Avenue Growth', 'iNICU', 'Kinara Capital']\n"
     ]
    }
   ],
   "source": [
    "#scraping the company_name \n",
    "companies=driver.find_elements_by_xpath(\"//td[@class='column-3']\")\n",
    "for i in companies:\n",
    "    if i.text is None :\n",
    "        Company.append(\"--\") \n",
    "    else:\n",
    "        Company.append(i.text)\n",
    "print(len(Company),Company)"
   ]
  },
  {
   "cell_type": "code",
   "execution_count": 43,
   "id": "1521f117",
   "metadata": {},
   "outputs": [
    {
     "name": "stderr",
     "output_type": "stream",
     "text": [
      "C:\\Users\\patel\\AppData\\Local\\Temp/ipykernel_58728/3464418556.py:2: DeprecationWarning: find_elements_by_xpath is deprecated. Please use find_elements(by=By.XPATH, value=xpath) instead\n",
      "  Ind=driver.find_elements_by_xpath(\"//td[@class='column-4']\")\n"
     ]
    },
    {
     "name": "stdout",
     "output_type": "stream",
     "text": [
      "392 ['Edu-tech', 'E-commerce', 'Online Food Delivery', 'FinTech', 'E-commerce', 'E-commerce', 'Technology', 'E-commerce', 'Edu-tech', 'Edu-tech', 'E-commerce', 'FinTech', 'Edu Tech', 'Hospitality', 'Hospitality', 'FinTech', 'Finance', 'E-commerce', 'E-Commerce', 'Technology', 'EdTech', 'Financial Services', 'Consumer Goods Company', 'AgriTech Startup', 'SaaS', 'Health Tech Startup', 'EdTech', 'Food Startup', 'B2B E-commerce', 'Food and Beverage', 'Financial Services', 'Technology Provider', 'FinTech', 'Supply chain', 'SaaS', 'EduTech', 'Financial Services', 'Food and Beverage', 'Lifestyle', 'Transportation', 'SaaS', 'Edutech', 'FinTech', 'Fintech', 'Dairy Tech', 'E-commerce', 'Digital Solutions', 'FinTech', 'FinTech', 'E-commerce', 'AgriTech', 'Advertising', 'Hospitality', 'Information Technology', 'FinTech', 'EduTech', 'Personal Care', 'EduTech', 'Online Gaming', 'Video Customer Experience(CX) Platform', 'E-commerce', 'E-commerce', 'HealthTech', 'Human Resources', 'Transportation', 'HealthTech', 'E-commerce', 'FoodTech', 'Hyper-local Logistics', 'EduTech', 'EduTech', 'FinTech', 'FinTech', 'E-commerce', 'FinTech', 'E-commerce', 'EduTech', 'EduTech', 'FinTech', 'Airfare Marketplace', 'Gaming and Entertainment', 'Marketplace', 'Automotive Rental', 'OTT Player', 'Information Technology', 'Technology', 'AgriTech', 'Industrial Robotics', 'Rural FinTech', 'BioTech', 'EdTech', 'Logistics Solution Provider', 'AgriTech', 'Deep Tech AI', 'Block Chain, Cryptocurrency', 'Professional Network for Women', 'Advertising', 'Utility Solutions Provider', 'LegalTech', 'FinTech', 'Healthcare', 'EduTech', 'E-commerce', 'E-commerce', 'Logistics Solution Provider', 'EduTech', 'Online Food Delivery', 'Gaming', 'AgriTech', 'E-commerce', 'Food Delivery', 'E-commerce', 'Digital Reconcilation and Financial Services', 'E-commerce', 'Finance', 'E-commerce', 'EduTech', 'Finance', 'Real Estate', 'Transport', 'Food Production', 'E-commerce', 'Transportation', 'Advertising', 'Education', 'Real Estate', 'EduTech', 'E-commerce', 'E-commerce', 'E-commerce', 'Information Technology and Services', 'E-Tech', 'Transportation', 'E-commerce', 'FinTech', 'Fashion and Apparel', 'Logistics', 'Hospitality', 'Technology', 'E-Commerce', 'Aerospace', 'Technology', 'B2B-focused foodtech startup', 'E-Commerce', 'Finance', 'Video', 'Gaming', 'E-Commerce', 'Software', 'Health and wellness', 'Education', 'Food and Beverage', 'Health and Wellness', 'B2B Marketing', 'FinTech', 'Video Games', 'SaaS', 'Last Mile Transportation', 'Customer Service', 'B2B', 'Consumer Goods', 'FinTech', 'FinTech', 'Advertising, Marketing', 'SaaS', 'IoT', 'Information Technology', 'Consumer Technology', 'Health and Wellness', 'Accounting', '', 'E-Commerce', 'Finance', 'Retail', 'Finance', 'Information Technology', 'E-Commerce', 'E-Commerce', 'Customer Service Platform', 'Automotive', 'Consumer Goods', 'Finance', 'Information Technology', 'Compliance', 'Transport', 'Artificial Intelligence', 'Food and Beverage', 'EdTech', 'E-Commerce', 'Tech', 'Tech', 'E-Commerce', 'Food and Beverage', 'E-Commerce', 'Finance', 'Finance', 'Waste Management Service', 'Deep-Tech', 'Agriculture', 'Energy', 'Digital Media', 'Transport', 'Waste Management Service', 'E-commerce', 'Transport', 'Saas', 'Automobile', 'Agtech', 'E-commerce', 'Food and Beverage', 'Finance', 'E-commerce', 'E-commerce', 'Social Media', 'Health and Wellness', 'Fintech', 'Edtech', 'E-commerce', 'Edtech', 'SaaS', 'AI', 'Ecommerce', 'Nanotechnology', 'Hospitality', 'Automobile', 'Health and Wellness', 'Finance', 'Social Media', 'Services Platform', 'Travel Tech', 'Online Education', 'Online Marketplace', 'B2B', 'SaaS, Ecommerce', 'Food and Beverage', 'NBFC', 'Ecommerce', 'Gaming', 'Food', 'Food Tech', 'Food', 'Transport', 'Services', 'Automation', 'Fashion', 'Logistics', 'Food', 'Automobile', 'Real Estate', 'Logistics Tech', 'Logistics Tech', 'Consumer Internet', 'B2B Platform', 'Consumer Internet', 'Healthcare', 'Consumer Internet', 'Consumer Internet', 'Technology', 'Consumer Internet', 'Healthcare', 'Technology', 'Food-Tech', 'Finance', 'Consumer Internet', 'Consumer Internet', 'Consumer Internet', 'Consumer Internet', 'Consumer Internet', 'Consumer Internet', 'Consumer Internet', 'Consumer Internet', 'Technology', 'Consumer Internet', 'IT', 'Consumer Internet', 'Consumer Internet', 'Consumer Internet', 'Consumer Internet', 'Consumer Internet', 'Healthcare', 'Finance', 'Fashion', 'Logistics', 'Food', 'Automobile', 'Real Estate', 'Logistics Tech', 'Logistics Tech', 'Consumer Internet', 'B2B Platform', 'Consumer Internet', 'Healthcare', 'Consumer Internet', 'Consumer Internet', 'Technology', 'Consumer Internet', 'Healthcare', 'Technology', 'Food-Tech', 'Finance', 'Consumer Internet', 'Consumer Internet', 'Consumer Internet', 'Consumer Internet', 'Consumer Internet', 'Consumer Internet', 'Consumer Internet', 'Consumer Internet', 'Technology', 'Consumer Internet', 'IT', 'Consumer Internet', 'Consumer Internet', 'Consumer Internet', 'Consumer Internet', 'Consumer Internet', 'Healthcare', 'Finance', 'Fashion', 'Logistics', 'Food', 'Automobile', 'Real Estate', 'Logistics Tech', 'Logistics Tech', 'Consumer Internet', 'B2B Platform', 'Consumer Internet', 'Healthcare', 'Consumer Internet', 'Consumer Internet', 'Technology', 'Consumer Internet', 'Healthcare', 'Technology', 'Food-Tech', 'Finance', 'Consumer Internet', 'Consumer Internet', 'Consumer Internet', 'Consumer Internet', 'Consumer Internet', 'Consumer Internet', 'Consumer Internet', 'Consumer Internet', 'Technology', 'Consumer Internet', 'IT', 'Consumer Internet', 'Consumer Internet', 'Consumer Internet', 'Consumer Internet', 'Consumer Internet', 'Healthcare', 'Finance', 'Fashion', 'Logistics', 'Food', 'Automobile', 'Real Estate', 'Logistics Tech', 'Logistics Tech', 'Consumer Internet', 'B2B Platform', 'Consumer Internet', 'Healthcare', 'Consumer Internet', 'Consumer Internet', 'Technology', 'Consumer Internet', 'Healthcare', 'Technology', 'Food-Tech', 'Finance', 'Consumer Internet', 'Consumer Internet', 'Consumer Internet', 'Consumer Internet', 'Consumer Internet', 'Consumer Internet', 'Consumer Internet', 'Consumer Internet', 'Technology', 'Consumer Internet', 'IT', 'Consumer Internet', 'Consumer Internet', 'Consumer Internet', 'Consumer Internet', 'Consumer Internet', 'Healthcare', 'Finance']\n"
     ]
    }
   ],
   "source": [
    "#scraping the Industry \n",
    "Ind=driver.find_elements_by_xpath(\"//td[@class='column-4']\")\n",
    "for i in Ind:\n",
    "    if i.text is None :\n",
    "        Industry.append(\"--\") \n",
    "    else:\n",
    "        Industry.append(i.text)\n",
    "print(len(Industry),Industry)"
   ]
  },
  {
   "cell_type": "code",
   "execution_count": 44,
   "id": "8ccb6e2e",
   "metadata": {},
   "outputs": [
    {
     "name": "stderr",
     "output_type": "stream",
     "text": [
      "C:\\Users\\patel\\AppData\\Local\\Temp/ipykernel_58728/2827343722.py:2: DeprecationWarning: find_elements_by_xpath is deprecated. Please use find_elements(by=By.XPATH, value=xpath) instead\n",
      "  dt=driver.find_elements_by_xpath(\"//td[@class='column-2']\")\n"
     ]
    },
    {
     "name": "stdout",
     "output_type": "stream",
     "text": [
      "392 ['01/04/2021', '05/04/2021', '14/04/2021', '07/04/2021', '14/04/2021', '04/03/2021', '31/03/2021', '30/03/2021', '30/03/2021', '23/03/2021', '25/03/2021', '26/03/2021', '11/02/2021', '22/02/2021', '19/02/2021', '17/02/2021', '15/02/2021', '12/02/2021', '12/02/2021', '09/02/2021', '09/02/2021', '15/01/2021', '28/01/2021', '19/01/2021', '19/01/2021', '18/01/2021', '18/01/2021', '11/01/2021', '13/01/2021', '15/12/2020', '21/12/2020', '15/12/2020', '22/12/2020', '15/12/2020', '18/12/2020', '30/11/2020', '30/11/2020', '29/11/2020', '27/11/2020', '25/11/2020', '25/11/2020', '25/11/2020', '24/11/2020', '30/11/2020', '23/11/2020', '28/10/2020', '28/10/2020', '28/10/2020', '27/10/2020', '27/10/2020', '27/10/2020', '27/10/2020', '15/10/2020', '26/10/2020', '28/10/2020', '08/09/2020', '12/09/2020', '09/09/2020', '02/09/2020', '09/09/2020', '07/09/2020', '07/09/2020', '31/08/2020', '31/08/2020', '03/09/2020', '15/08/2020', '13/08/2020', '13/08/2020', '04/08/2020', '11/08/2020', '12/08/2020', '14/08/2020', '10/08/2020', '07/08/2020', '13/08/2020', '15/07/2020', '16/07/2020', '16/07/2020', '14/07/2020', '13/07/2020', '09/07/2020', '10/07/2020', '15/07/2020', '14/07/2020', '13/07/2020', '18/06/2020', '17/06/2020', '17/06/2020', '16/06/2020', '16/06/2020', '15/06/2020', '15/06/2020', '10/06/2020', '11/06/2020', '10/06/2020', '21/05/2020', '20/05/2020', '20/05/2020', '19/05/2020', '19/05/2020', '21/05/2020', '05/05/2020', '11/05/2020', '13/05/2020', '18/05/2020', '09/04/2020', '06/04/2020', '08/04/2020', '07/04/2020', '15/04/2020', '08/04/2020', '31/03/2020', '02/04/2020', '04/03/2020', '02/03/2020', '06/03/2020', '13/03/2020', '12/03/2020', '12/03/2020', '12/03/2020', '12/03/2020', '03/02/2020', '03/02/2020', '31/01/2020', '31/01/2020', '30/01/2020', '03/02/2020', '10/02/2020', '10/02/2020', '18/02/2020', '06/02/2020', '09/01/2020', '13/01/2020', '09/01/2020', '02/01/2020', '02/01/2020', '13/01/2020', '10/01/2020', '12/12/2019', '06/12/2019', '3/12/2019', '13/12/2019', '17/12/2019', '16/12/2019', '16/12/2019', '14/12/2019', '11/12/2019', '20/12/2019', '13/11/2019', '14/11/2019', '13/11/2019', '17/11/2019', '18/11/2019', '15/11/2019', '20/11/2019', '12/11/2019', '20/11/2019', '11/11/2019', '04/10/2019', '02/10/2019', '21/10/2019', '05/09/2019', '04/09/2019', '04/09/2019', '04/09/2019', '04/09/2019', '04/09/2019', '04/09/2019', '04/09/2019', '03/09/2019', '', '01/08/2019', '01/08/2019', '01/08/2019', '01/08/2019', '01/08/2019', '12/08/2019', '13/08/2019', '13/08/2019', '23/08/2019', '23/08/2019', '02/07/2019', '02/07/2019', '01/07/2019', '03/07/2019', '01/07/2019', '04/07/2019', '10/07/2019', '11/07/2019', '10/07/2019', '10/07/2019', '05/06/2019', '04/06/2019', '03/06/2019', '03/06/2019', '04/06/2019', '04/06/2019', '03/06/2019', '06/06/2019', '06/06/2019', '06/06/2019', '06/05/2019', '06/05/2019', '05/05/2019', '01/05/2019', '02/05/2019', '28/05/2019', '28/05/2019', '30/05/2019', '31/05/2019', '16/04/2019', '12/04/2019', '10/04/2019', '13/04/2019', '12/04/2019', '11/04/2019', '10/04/2019', '10/04/2019', '10/04/2019', '11/04/2019', '1/02/2019', '8/02/2019', '13/02/2019', '14/02/2018', '03/01/2019', '04/01/2019', '04/01/2019', '04/12/2018', '01/12/2018', '02/12/2018', '02/12/2018', '04/12/2018', '06/12/2018', '06/12/2018', '01/11/2018', '03/11/2018', '06/11/2018', '08/11/2018', '8/11/2018', '12/11/2018', '12/11/2018', '13/11/2018', '14/11/2018', '19/11/2018', '01/10/2018', '02/10/2018', '04/10/2018', '05/10/2018', '11/10/2018', '12/10/2018', '12/10/2018', '01/09/2018', '03/09/2018', '03/09/2018', '04/09/2018', '04/09/2018', '05/09/2018', '05/09/2018', '06/09/2018', '10/09/2018', '11/09/2018', '01/08/2018', '01/08/2018', '02/08/2018', '03/08/2018', '07/08/2018', '07/08/2018', '07/08/2018', '08/08/2018', '08/08/2018', '08/08/2018', '01/07/2018', '02/07/2018', '04/07/2018', '05/072018', '06/07/2018', '09/07/2018', '09/07/2018', '10/07/2018', '10/07/2018', '10/07/2018', '01/10/2018', '02/10/2018', '04/10/2018', '05/10/2018', '11/10/2018', '12/10/2018', '12/10/2018', '01/09/2018', '03/09/2018', '03/09/2018', '04/09/2018', '04/09/2018', '05/09/2018', '05/09/2018', '06/09/2018', '10/09/2018', '11/09/2018', '01/08/2018', '01/08/2018', '02/08/2018', '03/08/2018', '07/08/2018', '07/08/2018', '07/08/2018', '08/08/2018', '08/08/2018', '08/08/2018', '01/07/2018', '02/07/2018', '04/07/2018', '05/072018', '06/07/2018', '09/07/2018', '09/07/2018', '10/07/2018', '10/07/2018', '10/07/2018', '01/10/2018', '02/10/2018', '04/10/2018', '05/10/2018', '11/10/2018', '12/10/2018', '12/10/2018', '01/09/2018', '03/09/2018', '03/09/2018', '04/09/2018', '04/09/2018', '05/09/2018', '05/09/2018', '06/09/2018', '10/09/2018', '11/09/2018', '01/08/2018', '01/08/2018', '02/08/2018', '03/08/2018', '07/08/2018', '07/08/2018', '07/08/2018', '08/08/2018', '08/08/2018', '08/08/2018', '01/07/2018', '02/07/2018', '04/07/2018', '05/072018', '06/07/2018', '09/07/2018', '09/07/2018', '10/07/2018', '10/07/2018', '10/07/2018', '01/10/2018', '02/10/2018', '04/10/2018', '05/10/2018', '11/10/2018', '12/10/2018', '12/10/2018', '01/09/2018', '03/09/2018', '03/09/2018', '04/09/2018', '04/09/2018', '05/09/2018', '05/09/2018', '06/09/2018', '10/09/2018', '11/09/2018', '01/08/2018', '01/08/2018', '02/08/2018', '03/08/2018', '07/08/2018', '07/08/2018', '07/08/2018', '08/08/2018', '08/08/2018', '08/08/2018', '01/07/2018', '02/07/2018', '04/07/2018', '05/072018', '06/07/2018', '09/07/2018', '09/07/2018', '10/07/2018', '10/07/2018', '10/07/2018']\n"
     ]
    }
   ],
   "source": [
    "#scraping the Dates \n",
    "dt=driver.find_elements_by_xpath(\"//td[@class='column-2']\")\n",
    "for i in dt:\n",
    "    if i.text is None :\n",
    "        Dates.append(\"--\") \n",
    "    else:\n",
    "        Dates.append(i.text)\n",
    "print(len(Dates),Dates)"
   ]
  },
  {
   "cell_type": "code",
   "execution_count": 45,
   "id": "d61fb640",
   "metadata": {},
   "outputs": [
    {
     "name": "stderr",
     "output_type": "stream",
     "text": [
      "C:\\Users\\patel\\AppData\\Local\\Temp/ipykernel_58728/2173663879.py:2: DeprecationWarning: find_elements_by_xpath is deprecated. Please use find_elements(by=By.XPATH, value=xpath) instead\n",
      "  IN=driver.find_elements_by_xpath(\"//td[@class='column-7']\")\n"
     ]
    },
    {
     "name": "stdout",
     "output_type": "stream",
     "text": [
      "392 ['Innoven Capital', 'SoftBank Vision Fund 2', 'Amansa Holdings, Carmignac, Falcon Edge Capital, Goldman Sachs, Think Investments', 'MC Global Edtech, B Capital, Baron, others', 'Hindustan Media Ventures', 'Innoven Capital', 'Sorenson Capital Partners', 'Krishtal Advisors Pte Ltd', 'MC Global Edtech, B Capital, Baron, others', 'Titan Capital, others', 'Accel Partners', 'PayU', 'SIG Global, Sequoia Capital, WaterBridge Ventures and ON Mauritius', 'Tiger Global, Kora', 'Rhodium Trust, Accel Partners and Swiggy', 'Accel Partners and Lightspeed Venture Partners', 'Azim Premji’s PremjiInvest and South Korea’s Mirae Asset Venture', 'InnoVen Capital', 'SoftBank Vision Fund (SVF)', 'GV', 'Owl Ventures', 'A91 Partners, Faering Capital, TVS Capital Funds', 'Reckitt Benckiser', 'Prosus Ventures', 'Salesforce Ventures', 'Heritas Capital Management', 'Sequoia Capital', 'SIDBI Venture Capital', 'Matrix Partners India, RTP Global, others', 'Nishant Mittal, Pankaj Chaddah and Shikha Sunil Chandak', 'Lone Pine Capital', 'Advent International', 'Zenith Global', 'Steadview Capital', 'Sequoia Capital', 'Rebright Partners, Java Capital, and GSF Accelerator', 'DST Global', 'Sofina, Sequoia Capital, Sixth Sense Ventures, Neoplux', 'Gaja Capital Fund (GCFII-A)', 'Lightbox Ventures', 'Sequoia Capital India’s Surge, Info Edge', 'Tiger Global Management, Dragoneer Investment Group', 'Matrix Partners India, SAIF Partners, Ward Ferry Management and Bertelsmann India', 'Venture Capital firm, Accel Partners and DMI Finance', 'Elevation Capital', 'Alia Bhatt', 'Jungle Ventures', 'Falguni and Sanjay Nayar Family Office', 'Chiratae Ventures, Dream Incubators', 'Corporation of Dubai (ICD), Ascent Capital, DFC, the Allana Group', 'Northern Arc Capital', 'Sequoia Capital India', 'Matrix Partners India, SAIF Partners, Ward Ferry Management and Bertelsmann India', 'Lightspeed Venture Partners', 'Oaks Asset Management and V’Ocean Investment', 'Silver Lake, Tiger Global, General Atlantic and Owl Ventures', 'Amicus Capital Private Equity I LLP, Amicus Capital Partners India Fund I and RP-SG Venture Fund 1', 'Rainmatter Capital', 'Kalaari Capital Partners, IndigoEdge Management Consultancy', 'Alpha Wave Incubation, Exfinity Venture Partners and existing backers.', 'Shadow Holdings, Lightbox.', 'Gaja Capital, Tata Capital, Partners Group', 'Caretech Pte Inc', 'Lightspeed India and Sequoia Capital India', 'Chiratae Ventures', 'A1A Company', 'Prasid Uno Family Trust and SC Credit Fund', 'One97, Sabre Partners Trust, Pratithi Investment Trust, and Srihari Kumar', 'Existing Backers', 'Stanford Angels and Entrepreneurs (India), BEENEXT Emerging Asia, Rainmatter Capital', 'Falcon Edge', 'Niyo Solutions Inc.', 'Primrose Hills Ventures', 'Ascent Capital', 'Sequoia India, Unitus', 'Walmart Inc', 'Coatue Management', '021 Capital', 'Matrix India,Y Combinator, Global Founders Capital, Soma Capital, and VentureSouq.', 'Recruit Co. Ltd.', 'Adar Poonawalla and Kris Gopalakrishnan.', 'Incubate Fund India and Beyond Next Ventures', 'Early Adapters Syndicate', 'Raj Mishra, founder of AIT Global Inc', 'Unicorn India Ventures', 'Sozo Ventures', 'Stride Ventures', 'Venture Catalysts and Naveen Kshatriya', 'Arkam Ventures and NABVENTURES Fund I', 'Beyond Next Ventures, ArthaVida Ventures and Dr. Aniruddha Malpani', 'Suniel Shetty', 'Stride Ventures', 'Indusland Bank', 'Kris Gopalakrishnan’s family office — Pratithi.', 'Anand Mahindra', 'Whiteboard Capital (Sandeep Tandon’s VC fund), FirstCheque, Artha India Ventures, Sweta Rau (Founder, White Ventures), Amrish Rau (CEO Pinelabs, Founder Citrus Pay), Deepak Abbot (Former SVP, Paytm), and Harpreet Singh Grover (Co-founder, Co-Cubes) and others.', 'Tencent, Ark Impact, KoKalyan Krishnamurthy of Flipkart, Sujeet Kumar of Udaan, Gaurav Munjal of Unacademy, Keshav Sanghi of VentureWorks India, Roman Saini of Unacademy, Hemesh Singh of Unacademy, and Sumit Jain of Opentalk amongst others.', 'B Capital Group, Sequoia India, Partners of DST Global, Tencent, GGV, RTP Global, Hummingbird Ventures, Falcon Edge Capital, Rocketship.vc, Unilever Ventures, Kevin Weil, Alexander Will, Kunal Shah, Kunal Bahl, and Rohit Bansal', 'Udaan co-founder, Sujeet Kumar', 'Fullerton Financial Holdings Pte Ltd (FFH) and Bertelsmann India Investments, Sistema Asia Fund and India Quotient.', 'Amit Burman, Chairman of Dabur India,', \"RTP Global, lume Ventures, Sequoia Capital India's Surge, Spiral Ventures, and Strive.\", 'Steadview Capital', 'Lightspeed Venture Partners, along with the participation of Moonstone Investments, WaterBridge Venture, The Bunting Family Private Fund, and Srivatsan Rajan', 'InnoVen Capital', 'Legend Capital', 'Tencent, Ark Impact, Korea Investment Partners, Samsung Ventures, and Mirae Asset Capital Markets', 'Matrix Partners India, Falcon Edge Capital, WestCap Group, Orios Venture Partners and Smile Group', 'Sequoia Capital India, FMO, Omnivore and AgFunder.', 'Alibaba Group', 'Accel, Zephyr Peacock, Swiggy, and RB Investments', 'Steadview Capital', 'Vertex Ventures Southeast Asia and India and Prime Venture Partners', 'Angel Networks', 'Aavishkaar Capital', 'Advent Management, A91 Emerging Fund, and Trifecta Venture.', 'Vdiec Global', 'Y Combinator, Venture Highway, Sequoia India, and GFC (Global Founders Capital).', 'Lodha Ventures', 'Pawan Munjal Family Trust', 'Ajinkya Rahane', 'Bill & Melinda Gates Foundation', 'GrowX Ventures', 'BAce Capital', 'Tencent Holdings', 'Frontline Strategy Funds and SucSEED Venture Partners.', 'Reliance Industries Limited (RIL)', 'Softbank Vision Fund', 'Pidilite Industries', 'IAN Fund and Al Falaj Investment Co', 'PayU and Fosun RZ Capital', 'Tiger Global Management', 'Susquehanna Growth Equity', 'Sequoia Capital India', 'Vinod Khatumal', 'Sprout Venture Partners', 'Chiratae Ventures', 'Ant Financial', 'Sathguru Catalyzer Advisors', 'Ping An Global Voyager Fund', 'Mumbai Angels, Ravikanth Reddy', 'SAIF Partners, Spring Canter Investment Ltd.', 'Paytm, NPTK, Sabre Partners and Neoplux', 'Vertex Growth Fund', '', 'Ruizheng Investment', 'Manipal Education and Medical Group (MEMG)', 'SoftBank Vision Fund', 'Sequoia, CapitalG, Accel', 'Sauce.vc, Rainforest Ventures', 'Prime Venture Partners, LetsVenture, PS1 Venture and GlobalLogic co-founder Rajul Garg', 'RB Investments', 'DG Daiwa Ventures, DG Incubation', 'Trifecta Capital Advisors', 'FinTech', 'Dream Incubator', 'Altimeter Capital, Sutter Hill Ventures', 'Startup Buddy', 'Lightbox', 'Altimeter Capital, DST Global', 'Ayushmann Khurana', 'Matrix Partners India, Sequoia India', 'SAIF Partners', 'TIW Private Equity', 'Exfinity Venture Partners', 'Breakthrough Energy Ventures', 'Endiya Partners', 'A91 Partners', 'Bennett Coleman and Company Ltd (BCCL)', 'India Quotient, Axilor Ventures', '', 'SC GG India Mobility Holdings LLC', 'Sequoia India', '', 'Azim Premji, Binny Bansal', 'Pine Labs Pte Ltd', 'Naspers', 'MS Dhoni', 'March Capital Partners', 'XL Innovate', 'Rashmi Daga (founder, FreshMenu), Raveen Sastry (co-founder, Myntra) and Mitesh Shah (finance chief, BookMyShow)', 'Lok Capital, IIFL Wealth', 'WaterBridge Ventures', 'Kapil Dev', 'DIG Investment Ab, Deshe Holdings, Samih Toukan and Hussam Khoury', 'March Capital Partners', 'Artha Venture', 'Qatar Investment Authority', 'Composite Capital Management, Sequoia Capital India, Tiger Global Management', 'Undisclosed', 'Ventureast', 'General Atlantic', 'Anicut Capital', 'Goldman Sachs, Accel Partners and Qualcomm', 'Matrix Partners', 'Insight Partners', 'Triton Investment Advisors, Pidilite Industries director Ajay Parekh', 'Blume Ventures and RTP Global', 'Shell Foundation, DILA CAPITAL, Engie RDE Fund, EcoEnterprise Fund, EDFIMC (ElectriFI), Endeavor Catalyst Fund, CoCapital, Triodos, Alpha Mundi, and Lendahand', 'IAN Fund', 'Qiming Venture Partners', 'Tata Sons', 'C4D Partners', 'Indian Angel Network and other angel investors, Innov8 founder Ritesh Malik, Josh Talks founders Supriya Paul and Shobha Banga, and former Hero Corporate president Rohit Chanana', 'Goldman Sachs Investment Partners and Silicon Valley-based Accel, Wellington, Sequoia Capital, B Capital, LightStreet, Sands Capital and International Finance Corporation,', 'Tiger Global Management', 'Sachin Bansal', 'Equanimity Ventures', 'Korea Investment Partners, Vertex Ventures', 'Sixth Sense Ventures', 'Eight Roads', 'Prasid Uno Family Trust', 'Unilever, Beehive Capital Advisor, ABCOM Investments, Parekh Marine Transport,', 'Orchid India, Hornbill Orchid India Fund, Chiratae Ventures (formerly IDG Ventures), 3one4 Capital, Lasmer NV', 'Unnamed angel investors', 'Lightspeed India Partners', 'Milestone', 'Supera Pte Ltd', 'Kalyan Krishnamurthy', 'Sequoia India, Tiger Global Management, Accel Partners', 'India Quotient and LetsVenture’s Angel Fund', 'Sequoia Capital and Temasek Holdings, EDBI, Burda Principal Investments, and Sofina', 'LetsVenture, PitchRight Venture, 91SpringBoard, AL Nour International Holdings and Mark V Investments', 'DiDi Chuxing', 'Sequoia India, Hillhouse Capital, Alphabet’s growth investment arm Capital G and Axis Bank', 'Iron Pillar, Perceptive Advisors, Romulus Capital and Kalaari Capital', 'MASSIF, a Dutch government fund', 'Stellaris Venture Partners', 'Steadview Capital and Vy Capital.', 'Individual Investors', 'Individual Investors', 'Omphalos Ventures India LLP', 'Info Edge, AET Fund, Akatsuki and Incubate Fund from Japan and Better Capital AngelList syndicate.', 'Venture Highway, GREE Ventures, Space Matrix, Individual Investors', 'Lead Angels Network', 'Norwest Venture Partners, CDC Group, the UK’s Development Finance Institution and P Surendra Pai', 'Shunwei Capital, DST Partners and RPS Ventures', 'Undisclosed', 'RB Investments, Singapore', 'Tiger Global', 'Mayfield Fund', 'Stevens Creek Ventures', 'Venture Catalysts', 'SoftBank Vision Fund', 'Prashant Jaiswal', 'Cooperative Oikocredit, Caspian and Hivos-Triodos Fund', 'Ravi Viswanathan', 'ZigExN', 'Credence Family Office', 'Sequoia Capital India', 'Fosun International', 'Sistema Asia Fund, Sistema JSFC and Tanncam Investment', 'DST Global and Lightspeed Venture Partners’ global fund.', 'Falcon Edge', 'N/A', 'Korea Investment Partners (KIP), Samsung and China-based CITIC Capital and others', 'Lighthouse', 'KDDI ', 'Tencent, Kalaari Capital and Private equity firm Multiples Alternate Asset Management', 'Stellaris Ventures & Others', 'CLP Holdings Group, Innogy, Ørstead, and Tenaska', 'Farm To Fork, Arts Alliance, The Syndicate Fund, Sven Hensen, Zeroth and Artesian Venture Partners', 'Axilor, Sprout Venture Partners and others', 'Xiaomi and Sequoia Capital India', 'Y Combinator', 'N/A', 'Fung Strategic Holdings', 'MakeMyTrip Limited', 'Vertex Ventures', 'Sequoia Capital India Advisors, Accel Partners and G Raghunandan', 'Flipkart', 'Y Combinator', 'Ajay Relan and Vinay Mittal', 'MDI Ventures & Telkom Indonesia', 'Shunwei Capital, Tuscan Ventures, Ashish Goenka, VC firms India Quotient and Kae Capital', 'Info Edge (India) Ltd and Temasek', 'Info Edge (India) Ltd', 'Insignia Ventures Partners, Lightbridge Partners & Kairos', 'Avtar Monga, chief operating office at IDFC Bank, Aditya Malik & Others', 'Venture Catalysts', 'ResponsAbility', 'Prashant Jaiswal', 'Cooperative Oikocredit, Caspian and Hivos-Triodos Fund', 'Ravi Viswanathan', 'ZigExN', 'Credence Family Office', 'Sequoia Capital India', 'Fosun International', 'Sistema Asia Fund, Sistema JSFC and Tanncam Investment', 'DST Global and Lightspeed Venture Partners’ global fund.', 'Falcon Edge', 'N/A', 'Korea Investment Partners (KIP), Samsung and China-based CITIC Capital and others', 'Lighthouse', 'KDDI ', 'Tencent, Kalaari Capital and Private equity firm Multiples Alternate Asset Management', 'Stellaris Ventures & Others', 'CLP Holdings Group, Innogy, Ørstead, and Tenaska', 'Farm To Fork, Arts Alliance, The Syndicate Fund, Sven Hensen, Zeroth and Artesian Venture Partners', 'Axilor, Sprout Venture Partners and others', 'Xiaomi and Sequoia Capital India', 'Y Combinator', 'N/A', 'Fung Strategic Holdings', 'MakeMyTrip Limited', 'Vertex Ventures', 'Sequoia Capital India Advisors, Accel Partners and G Raghunandan', 'Flipkart', 'Y Combinator', 'Ajay Relan and Vinay Mittal', 'MDI Ventures & Telkom Indonesia', 'Shunwei Capital, Tuscan Ventures, Ashish Goenka, VC firms India Quotient and Kae Capital', 'Info Edge (India) Ltd and Temasek', 'Info Edge (India) Ltd', 'Insignia Ventures Partners, Lightbridge Partners & Kairos', 'Avtar Monga, chief operating office at IDFC Bank, Aditya Malik & Others', 'Venture Catalysts', 'ResponsAbility', 'Prashant Jaiswal', 'Cooperative Oikocredit, Caspian and Hivos-Triodos Fund', 'Ravi Viswanathan', 'ZigExN', 'Credence Family Office', 'Sequoia Capital India', 'Fosun International', 'Sistema Asia Fund, Sistema JSFC and Tanncam Investment', 'DST Global and Lightspeed Venture Partners’ global fund.', 'Falcon Edge', 'N/A', 'Korea Investment Partners (KIP), Samsung and China-based CITIC Capital and others', 'Lighthouse', 'KDDI ', 'Tencent, Kalaari Capital and Private equity firm Multiples Alternate Asset Management', 'Stellaris Ventures & Others', 'CLP Holdings Group, Innogy, Ørstead, and Tenaska', 'Farm To Fork, Arts Alliance, The Syndicate Fund, Sven Hensen, Zeroth and Artesian Venture Partners', 'Axilor, Sprout Venture Partners and others', 'Xiaomi and Sequoia Capital India', 'Y Combinator', 'N/A', 'Fung Strategic Holdings', 'MakeMyTrip Limited', 'Vertex Ventures', 'Sequoia Capital India Advisors, Accel Partners and G Raghunandan', 'Flipkart', 'Y Combinator', 'Ajay Relan and Vinay Mittal', 'MDI Ventures & Telkom Indonesia', 'Shunwei Capital, Tuscan Ventures, Ashish Goenka, VC firms India Quotient and Kae Capital', 'Info Edge (India) Ltd and Temasek', 'Info Edge (India) Ltd', 'Insignia Ventures Partners, Lightbridge Partners & Kairos', 'Avtar Monga, chief operating office at IDFC Bank, Aditya Malik & Others', 'Venture Catalysts', 'ResponsAbility', 'Prashant Jaiswal', 'Cooperative Oikocredit, Caspian and Hivos-Triodos Fund', 'Ravi Viswanathan', 'ZigExN', 'Credence Family Office', 'Sequoia Capital India', 'Fosun International', 'Sistema Asia Fund, Sistema JSFC and Tanncam Investment', 'DST Global and Lightspeed Venture Partners’ global fund.', 'Falcon Edge', 'N/A', 'Korea Investment Partners (KIP), Samsung and China-based CITIC Capital and others', 'Lighthouse', 'KDDI ', 'Tencent, Kalaari Capital and Private equity firm Multiples Alternate Asset Management', 'Stellaris Ventures & Others', 'CLP Holdings Group, Innogy, Ørstead, and Tenaska', 'Farm To Fork, Arts Alliance, The Syndicate Fund, Sven Hensen, Zeroth and Artesian Venture Partners', 'Axilor, Sprout Venture Partners and others', 'Xiaomi and Sequoia Capital India', 'Y Combinator', 'N/A', 'Fung Strategic Holdings', 'MakeMyTrip Limited', 'Vertex Ventures', 'Sequoia Capital India Advisors, Accel Partners and G Raghunandan', 'Flipkart', 'Y Combinator', 'Ajay Relan and Vinay Mittal', 'MDI Ventures & Telkom Indonesia', 'Shunwei Capital, Tuscan Ventures, Ashish Goenka, VC firms India Quotient and Kae Capital', 'Info Edge (India) Ltd and Temasek', 'Info Edge (India) Ltd', 'Insignia Ventures Partners, Lightbridge Partners & Kairos', 'Avtar Monga, chief operating office at IDFC Bank, Aditya Malik & Others', 'Venture Catalysts', 'ResponsAbility']\n"
     ]
    }
   ],
   "source": [
    "#scraping the Investor_Name \n",
    "IN=driver.find_elements_by_xpath(\"//td[@class='column-7']\")\n",
    "for i in IN:\n",
    "    if i.text is None :\n",
    "        Investor_Name.append(\"--\") \n",
    "    else:\n",
    "        Investor_Name.append(i.text)\n",
    "print(len(Investor_Name),Investor_Name)"
   ]
  },
  {
   "cell_type": "code",
   "execution_count": 46,
   "id": "d1c0b520",
   "metadata": {},
   "outputs": [
    {
     "name": "stderr",
     "output_type": "stream",
     "text": [
      "C:\\Users\\patel\\AppData\\Local\\Temp/ipykernel_58728/3589173713.py:2: DeprecationWarning: find_elements_by_xpath is deprecated. Please use find_elements(by=By.XPATH, value=xpath) instead\n",
      "  IT=driver.find_elements_by_xpath(\"//td[@class='column-8']\")\n"
     ]
    },
    {
     "name": "stdout",
     "output_type": "stream",
     "text": [
      "392 ['Series F', 'Series E', 'Series J', 'Series D', 'Venture', 'Debt Financing', 'Series D', 'Series E', 'Series F', 'Seed', 'Series A', 'Series A', 'Series B', 'Venture', 'Series C', 'Seed', 'Series C', 'Debt Financing', 'Unspecified', 'Series A', 'Series C', 'Venture', 'Venture', 'Series C', 'Seed', 'Venture Round', 'Seed Funding', 'Series', 'Seed', 'Funding', 'Secondary Market', 'Series D', 'Seed', 'Secondary Market', 'Series A', 'Seed', 'Series C', 'Bridge Funding', 'Pre-series E', 'Series A', 'Series A', 'Venture', 'Series B', 'Pre-Series A', 'Series C', 'Personal Investment', 'Series B', 'Equity and Debt', 'Seed', 'Series C', 'Debt', 'Series A', '', 'Seed', 'Follow-On', 'Private Equity', 'Series B', 'Angel', 'Series B', 'Series A', 'Debt Financing', 'In Progress', 'Series B', 'Series A', 'Seed', 'Series F', '', 'Series D1', 'In Progress', 'Seed', 'In Progress', '', '', 'Venture', 'Series A', 'M&A', 'Series D', 'pre-Series A', 'Seed', 'pre-Series B', 'Venture-Series Unknown', 'pre-Series A', 'Seed', 'pre-Seed', 'Venture-Series Unknown', 'Series B', 'Debt Financing', 'Seed', 'Pre-Series A', 'Seed', 'Angel', 'Venture - Series Unknown', 'Series C', 'Seed', 'Seed', 'Pre Seed', 'Angel', 'Series B', 'Series A', 'Series D', 'Pre Series A', 'Series A', 'Series F', 'Series C', 'Venture - Series Unknown', 'Series C1', 'Series 1', 'Series A', 'Series A', 'Debt Financing', 'Series C', 'Series F', 'Series A', 'Angel', 'Series A', 'Debt Financing', 'Angel', 'Seed', 'Series A', 'Series B', 'Private Equity', 'Venture Series', 'Seed', 'Pre-Series A', 'Series A', 'Venture Series', 'Venture Series', 'Series E', 'Series F', 'Series A', 'Seed', 'Private Equity Round', 'Series C', 'Series B', 'Pre-series A', 'Seed Round', 'Series A', 'Private Equity Round', 'Series A', 'Series D', 'Seed', 'Series F', 'Series C', 'Series E', 'Debt Funding', 'Seed Round', 'Seed Round', 'Series G', 'Series H', 'Series B', 'Seed', 'Venture', 'Series B', 'Debt Funding', 'Debt Funding', 'Seed Funding', 'Series C', 'Seed', 'Series D', 'Series D', 'Corporate Round', 'Maiden Round', 'Series A', 'Private Equity Round', 'pre-series A', 'Series A', 'Seed', 'Series A', 'Series C', 'Series A', '', 'Series C', 'Series A', 'Seed Funding Round', 'Single Venture', 'Corporate Round', 'Series D', 'Series D', 'Series C', 'Series B', 'Seed Round', 'Series B', 'Pre-Series A', 'Angel', 'Series J', 'Series C', 'Seed Round', 'Private Equity Round', 'Series D', 'Series B', 'Series B', 'Series C', 'Debt Funding', '', 'Series A', 'Series B', 'pre-Series A', 'pre-Series A', '', 'Series A', 'Series B', 'Series A', 'Venture - Series Unknown', 'Bridge Round', 'Series D', 'Series C', 'Series C', 'Seed Round', 'Series B', 'Series B', 'Series A', 'Private Equity', 'Private Equity', 'Series B', 'Seed Funding', 'Seed Funding', 'Debt and Preference capital', 'Inhouse Funding', 'Seed/ Angel Funding', 'Series B', 'Pre Series A', 'Series D', 'Series A', 'Equity', 'Series C', 'Series D', 'Debt-Funding', 'Seed Funding', 'Series D', 'Pre-Series A', 'Pre-Series A', 'Seed Funding', 'Seed Funding', 'Series A', 'Seed/ Angel Funding', 'Series D', 'Series C', 'Series A', 'Equity', 'Series A', 'Series B', 'Mezzanine', 'Seed/ Angel Funding', 'Series B', 'Seed/ Angel Funding', 'Seed/ Angel Funding', 'Private Equity', 'Series E', 'Pre-Series A', 'Private Funding', 'Series C', 'Private Equity', 'Private Equity', 'Private Equity', 'Seed / Angel Funding', 'Private Equity', 'Private Equity', 'Private Equity', 'Private Equity', 'Private Equity', 'Private Equity', 'Seed/ Angel Funding', 'Seed/ Angel Funding', 'Private Equity', 'Private Equity', 'Seed/ Angel Funding', 'Private Equity', 'Private Equity', 'Seed/ Angel Funding', 'Private Equity', 'Private Equity', 'Seed/ Angel Funding', 'Seed/ Angel Funding', 'Private Equity', 'Private Equity', 'Private Equity', 'Seed/ Angel Funding', 'Seed/ Angel Funding', 'Seed/ Angel Funding', 'Seed/ Angel Funding', 'Private Equity', 'Seed/ Angel Funding', 'Seed/ Angel Funding', 'Private Equity', 'Series E', 'Pre-Series A', 'Private Funding', 'Series C', 'Private Equity', 'Private Equity', 'Private Equity', 'Seed / Angel Funding', 'Private Equity', 'Private Equity', 'Private Equity', 'Private Equity', 'Private Equity', 'Private Equity', 'Seed/ Angel Funding', 'Seed/ Angel Funding', 'Private Equity', 'Private Equity', 'Seed/ Angel Funding', 'Private Equity', 'Private Equity', 'Seed/ Angel Funding', 'Private Equity', 'Private Equity', 'Seed/ Angel Funding', 'Seed/ Angel Funding', 'Private Equity', 'Private Equity', 'Private Equity', 'Seed/ Angel Funding', 'Seed/ Angel Funding', 'Seed/ Angel Funding', 'Seed/ Angel Funding', 'Private Equity', 'Seed/ Angel Funding', 'Seed/ Angel Funding', 'Private Equity', 'Series E', 'Pre-Series A', 'Private Funding', 'Series C', 'Private Equity', 'Private Equity', 'Private Equity', 'Seed / Angel Funding', 'Private Equity', 'Private Equity', 'Private Equity', 'Private Equity', 'Private Equity', 'Private Equity', 'Seed/ Angel Funding', 'Seed/ Angel Funding', 'Private Equity', 'Private Equity', 'Seed/ Angel Funding', 'Private Equity', 'Private Equity', 'Seed/ Angel Funding', 'Private Equity', 'Private Equity', 'Seed/ Angel Funding', 'Seed/ Angel Funding', 'Private Equity', 'Private Equity', 'Private Equity', 'Seed/ Angel Funding', 'Seed/ Angel Funding', 'Seed/ Angel Funding', 'Seed/ Angel Funding', 'Private Equity', 'Seed/ Angel Funding', 'Seed/ Angel Funding', 'Private Equity', 'Series E', 'Pre-Series A', 'Private Funding', 'Series C', 'Private Equity', 'Private Equity', 'Private Equity', 'Seed / Angel Funding', 'Private Equity', 'Private Equity', 'Private Equity', 'Private Equity', 'Private Equity', 'Private Equity', 'Seed/ Angel Funding', 'Seed/ Angel Funding', 'Private Equity', 'Private Equity', 'Seed/ Angel Funding', 'Private Equity', 'Private Equity', 'Seed/ Angel Funding', 'Private Equity', 'Private Equity', 'Seed/ Angel Funding', 'Seed/ Angel Funding', 'Private Equity', 'Private Equity', 'Private Equity', 'Seed/ Angel Funding', 'Seed/ Angel Funding', 'Seed/ Angel Funding', 'Seed/ Angel Funding', 'Private Equity']\n"
     ]
    }
   ],
   "source": [
    "#scraping the Investment_Type \n",
    "IT=driver.find_elements_by_xpath(\"//td[@class='column-8']\")\n",
    "for i in IT:\n",
    "    if i.text is None :\n",
    "        Investment_Type.append(\"--\") \n",
    "    else:\n",
    "        Investment_Type.append(i.text)\n",
    "print(len(Investment_Type),Investment_Type)"
   ]
  },
  {
   "cell_type": "code",
   "execution_count": 47,
   "id": "096625f1",
   "metadata": {},
   "outputs": [
    {
     "name": "stderr",
     "output_type": "stream",
     "text": [
      "C:\\Users\\patel\\AppData\\Local\\Temp/ipykernel_58728/2702778403.py:2: DeprecationWarning: find_elements_by_xpath is deprecated. Please use find_elements(by=By.XPATH, value=xpath) instead\n",
      "  Price=driver.find_elements_by_xpath(\"//td[@class='column-9']\")\n"
     ]
    },
    {
     "name": "stdout",
     "output_type": "stream",
     "text": [
      "392 ['460,000,000', '300,000,000', '343,000,000', '83,000,000', '7,400,000', '250,000,000', '140,000,000', '8,000,000', '460,000,000', '300,000,000', '11,000,000', '27,500,000', '2,500,000', '250,000,000', '2,747,045.20', '1,50,00,000', '75,000,000', '4,773,958', '55,000,000', '15,000,000', '18,000,000', '1,80,00,000', '6,172,258.50', '30,000,000', '15,000,000', '16,000,000', '15,000,000', '100,000,000', '4,000,000', '1,273,634.07', 'Undisclosed', '160,000,000', '1,000,000', '25,000,000', '15,000,000', '560,000', '80,000,000', '3,000,000', '1,001,047.92', '7,700,000', '6,003,806', '75,000,000-100,000,000', '35,300,000', '3,500,000', '25,000,000', 'NA', '10,000,000', '20,160,000', '5,000,000', '121,000,000', '4,700,000', '15,000,000', '6,000,000', '4,500,000', '4,500,000', '500,000,000', '3,000,000', '370,000', '15,500,000', '4,500,000', 'upto 8,900,000', '100,000,000', '5,400,000', '8,000,000', '950,000', '32,000,000', '23,000,000', '1,560,000', '30,000,000', '1,400,000', 'upto 15,000,000', '6,000,000', '10,670,000', '16,200,000', '5,000,000', '1,200,000,000', '100,000,000', '934,160', '1,700,000', '3,300,000', '400,000', '974,200', '292,800', '200,000', '500,000', '25,000,000', 'NA', 'NA', '3,934,941', 'NA', 'NA', '1,311,647', '5,500,000', '1,000,000', '1,000,000', '340,000', 'NA', '60,000,000', 'NA', '42,000,000', 'NA', '9,000,000', '8,800,000', '4,000,000', '1,700,000', '12,560,000', '43,000,000', '8,000,000', '12,000,000', '50,000,000', '1,800,000', '13,000,000', '6,000,000', 'NA', '5,000,000', '4,000,000', 'NA', '4,700,000', '6,000,000', '1,000,000', 'NA', '10,000,000', 'NA', '3,000,000', '15,000,000', 'NA', '12,625,020', '296,000,000', '37,000,000', '3,000,000', '8,000,000', '200,000,000', '8,048,394', '18,358,860', '3,000,000', '1,800,000', '9,000,000', '150,000,000', '6,000,000', '70,000,000', '50,000,000', '20,000,000', '12,000,000', '30,000,000', '5,900,000', '2,000,000', '50,000,000', '231,000,000', '15,000,0000', '486,000', '1,500,000', 'undisclosed', '12,000,000', '26,000,000', '17,411,265', '1,300,000', '135,000,000', '300,000', '4,50,00,000', '58,50,00,000', 'unknown', '4,500,000', '3,300,000', '6,000,000', '5,000,000', '18,000,000', '10,00,000', '10,000,000', '450,000,000', '5,000,000', '', '20,000,000', '5,000,000', '1,600,000', '140,000,000', '38,080,000', '125,000,000', '11,000,000', '51,000,000', '37,000,000', '500,000', '19,000,000', '2,500,000', '145,000', '1,000,000', '38,080,000', '500,000', '150,000,000', '60,000,000', '16,000,000', '5,750,000', '5,10,00,000', '1,00,00,000', '48,89,975.54', '90,00,000', '7,50,00,000', '26,000,000', '25,00,000', '27,39,034.68', '26,000,000', '1,51,09,500.00', 'undisclosed', '868,600', 'undisclosed', '150,000,000', '50,000,000', '5,10,00,000', '14,00,00,000', '1,15,00,000', '56,00,000', '45,000,000', '17,000,000', '430,665', '3,591,375', '200,000', '3,500,000', '6,320,820', '2,443,495', '307,000', '26,000,000', 'Undisclosed', '226,000,000', '600,000', '100,000,000', '110,000,000', '22,000,000', '5,000,000', '700,000', '50,000,000', '800,000', '572,000', '143,000', '2,000,000', '3,500,000', '1,38,995', '27,799,000', '50,000,000', '5,00,000', '1,000,000', '1,000,000', '1,300,000', '1,000,000', '500,000', '300,000,000', 'N/A', '11,000,000', '8,200,000', '30,00,000', '4,000,000', '14,680,000', '12,000,000', '35,000,000', '225,000,000', '63,90,000', '1,000,000', 'N/A', '15,72,00,000', 'N/A', '100,000,000', '4,000,000', '32,000,000', '400,000', 'N/A', '7,000,000', '120,000', '1,000,000', '35,000,000', '10,000,000', '40,00,000', '12,200,000', '66,000,000', 'N/A', '1,000,000', '4,000,000', '62,50,000', '2,7700,000', '440,000', '1,100,000', '437,000', 'N/A', '5,000,000', 'N/A', '11,000,000', '8,200,000', '30,00,000', '4,000,000', '14,680,000', '12,000,000', '35,000,000', '225,000,000', '63,90,000', '1,000,000', 'N/A', '15,72,00,000', 'N/A', '100,000,000', '4,000,000', '32,000,000', '400,000', 'N/A', '7,000,000', '120,000', '1,000,000', '35,000,000', '10,000,000', '40,00,000', '12,200,000', '66,000,000', 'N/A', '1,000,000', '4,000,000', '62,50,000', '2,7700,000', '440,000', '1,100,000', '437,000', 'N/A', '5,000,000', 'N/A', '11,000,000', '8,200,000', '30,00,000', '4,000,000', '14,680,000', '12,000,000', '35,000,000', '225,000,000', '63,90,000', '1,000,000', 'N/A', '15,72,00,000', 'N/A', '100,000,000', '4,000,000', '32,000,000', '400,000', 'N/A', '7,000,000', '120,000', '1,000,000', '35,000,000', '10,000,000', '40,00,000', '12,200,000', '66,000,000', 'N/A', '1,000,000', '4,000,000', '62,50,000', '2,7700,000', '440,000', '1,100,000', '437,000', 'N/A', '5,000,000', 'N/A', '11,000,000', '8,200,000', '30,00,000', '4,000,000', '14,680,000', '12,000,000', '35,000,000', '225,000,000', '63,90,000', '1,000,000', 'N/A', '15,72,00,000', 'N/A', '100,000,000', '4,000,000', '32,000,000', '400,000', 'N/A', '7,000,000', '120,000', '1,000,000', '35,000,000', '10,000,000', '40,00,000', '12,200,000', '66,000,000', 'N/A', '1,000,000', '4,000,000', '62,50,000', '2,7700,000', '440,000', '1,100,000', '437,000', 'N/A', '5,000,000']\n"
     ]
    }
   ],
   "source": [
    "#scraping the Amount \n",
    "Price=driver.find_elements_by_xpath(\"//td[@class='column-9']\")\n",
    "for i in Price:\n",
    "    if i.text is None :\n",
    "        Amount.append(\"--\") \n",
    "    else:\n",
    "        Amount.append(i.text)\n",
    "print(len(Amount),Amount)"
   ]
  },
  {
   "cell_type": "code",
   "execution_count": 48,
   "id": "6b9b9a52",
   "metadata": {},
   "outputs": [
    {
     "data": {
      "text/html": [
       "<div>\n",
       "<style scoped>\n",
       "    .dataframe tbody tr th:only-of-type {\n",
       "        vertical-align: middle;\n",
       "    }\n",
       "\n",
       "    .dataframe tbody tr th {\n",
       "        vertical-align: top;\n",
       "    }\n",
       "\n",
       "    .dataframe thead th {\n",
       "        text-align: right;\n",
       "    }\n",
       "</style>\n",
       "<table border=\"1\" class=\"dataframe\">\n",
       "  <thead>\n",
       "    <tr style=\"text-align: right;\">\n",
       "      <th></th>\n",
       "      <th>Company</th>\n",
       "      <th>Industry</th>\n",
       "      <th>Investor_Name</th>\n",
       "      <th>Amount Invested</th>\n",
       "      <th>Specification</th>\n",
       "      <th>Dates</th>\n",
       "    </tr>\n",
       "  </thead>\n",
       "  <tbody>\n",
       "    <tr>\n",
       "      <th>0</th>\n",
       "      <td>BYJU’S</td>\n",
       "      <td>Edu-tech</td>\n",
       "      <td>Innoven Capital</td>\n",
       "      <td>460,000,000</td>\n",
       "      <td>Series F</td>\n",
       "      <td>01/04/2021</td>\n",
       "    </tr>\n",
       "    <tr>\n",
       "      <th>1</th>\n",
       "      <td>Meesho</td>\n",
       "      <td>E-commerce</td>\n",
       "      <td>SoftBank Vision Fund 2</td>\n",
       "      <td>300,000,000</td>\n",
       "      <td>Series E</td>\n",
       "      <td>05/04/2021</td>\n",
       "    </tr>\n",
       "    <tr>\n",
       "      <th>2</th>\n",
       "      <td>Swiggy</td>\n",
       "      <td>Online Food Delivery</td>\n",
       "      <td>Amansa Holdings, Carmignac, Falcon Edge Capita...</td>\n",
       "      <td>343,000,000</td>\n",
       "      <td>Series J</td>\n",
       "      <td>14/04/2021</td>\n",
       "    </tr>\n",
       "    <tr>\n",
       "      <th>3</th>\n",
       "      <td>Groww</td>\n",
       "      <td>FinTech</td>\n",
       "      <td>MC Global Edtech, B Capital, Baron, others</td>\n",
       "      <td>83,000,000</td>\n",
       "      <td>Series D</td>\n",
       "      <td>07/04/2021</td>\n",
       "    </tr>\n",
       "    <tr>\n",
       "      <th>4</th>\n",
       "      <td>Beldara</td>\n",
       "      <td>E-commerce</td>\n",
       "      <td>Hindustan Media Ventures</td>\n",
       "      <td>7,400,000</td>\n",
       "      <td>Venture</td>\n",
       "      <td>14/04/2021</td>\n",
       "    </tr>\n",
       "    <tr>\n",
       "      <th>...</th>\n",
       "      <td>...</td>\n",
       "      <td>...</td>\n",
       "      <td>...</td>\n",
       "      <td>...</td>\n",
       "      <td>...</td>\n",
       "      <td>...</td>\n",
       "    </tr>\n",
       "    <tr>\n",
       "      <th>387</th>\n",
       "      <td>zippserv</td>\n",
       "      <td>Consumer Internet</td>\n",
       "      <td>Info Edge (India) Ltd</td>\n",
       "      <td>440,000</td>\n",
       "      <td>Seed/ Angel Funding</td>\n",
       "      <td>09/07/2018</td>\n",
       "    </tr>\n",
       "    <tr>\n",
       "      <th>388</th>\n",
       "      <td>Groww</td>\n",
       "      <td>Consumer Internet</td>\n",
       "      <td>Insignia Ventures Partners, Lightbridge Partne...</td>\n",
       "      <td>1,100,000</td>\n",
       "      <td>Seed/ Angel Funding</td>\n",
       "      <td>09/07/2018</td>\n",
       "    </tr>\n",
       "    <tr>\n",
       "      <th>389</th>\n",
       "      <td>Avenue Growth</td>\n",
       "      <td>Consumer Internet</td>\n",
       "      <td>Avtar Monga, chief operating office at IDFC Ba...</td>\n",
       "      <td>437,000</td>\n",
       "      <td>Seed/ Angel Funding</td>\n",
       "      <td>10/07/2018</td>\n",
       "    </tr>\n",
       "    <tr>\n",
       "      <th>390</th>\n",
       "      <td>iNICU</td>\n",
       "      <td>Healthcare</td>\n",
       "      <td>Venture Catalysts</td>\n",
       "      <td>N/A</td>\n",
       "      <td>Seed/ Angel Funding</td>\n",
       "      <td>10/07/2018</td>\n",
       "    </tr>\n",
       "    <tr>\n",
       "      <th>391</th>\n",
       "      <td>Kinara Capital</td>\n",
       "      <td>Finance</td>\n",
       "      <td>ResponsAbility</td>\n",
       "      <td>5,000,000</td>\n",
       "      <td>Private Equity</td>\n",
       "      <td>10/07/2018</td>\n",
       "    </tr>\n",
       "  </tbody>\n",
       "</table>\n",
       "<p>392 rows × 6 columns</p>\n",
       "</div>"
      ],
      "text/plain": [
       "            Company              Industry  \\\n",
       "0            BYJU’S              Edu-tech   \n",
       "1            Meesho            E-commerce   \n",
       "2            Swiggy  Online Food Delivery   \n",
       "3             Groww               FinTech   \n",
       "4           Beldara            E-commerce   \n",
       "..              ...                   ...   \n",
       "387        zippserv     Consumer Internet   \n",
       "388           Groww     Consumer Internet   \n",
       "389   Avenue Growth     Consumer Internet   \n",
       "390           iNICU            Healthcare   \n",
       "391  Kinara Capital               Finance   \n",
       "\n",
       "                                         Investor_Name Amount Invested  \\\n",
       "0                                      Innoven Capital     460,000,000   \n",
       "1                               SoftBank Vision Fund 2     300,000,000   \n",
       "2    Amansa Holdings, Carmignac, Falcon Edge Capita...     343,000,000   \n",
       "3           MC Global Edtech, B Capital, Baron, others      83,000,000   \n",
       "4                             Hindustan Media Ventures       7,400,000   \n",
       "..                                                 ...             ...   \n",
       "387                              Info Edge (India) Ltd         440,000   \n",
       "388  Insignia Ventures Partners, Lightbridge Partne...       1,100,000   \n",
       "389  Avtar Monga, chief operating office at IDFC Ba...         437,000   \n",
       "390                                  Venture Catalysts             N/A   \n",
       "391                                     ResponsAbility       5,000,000   \n",
       "\n",
       "           Specification       Dates  \n",
       "0               Series F  01/04/2021  \n",
       "1               Series E  05/04/2021  \n",
       "2               Series J  14/04/2021  \n",
       "3               Series D  07/04/2021  \n",
       "4                Venture  14/04/2021  \n",
       "..                   ...         ...  \n",
       "387  Seed/ Angel Funding  09/07/2018  \n",
       "388  Seed/ Angel Funding  09/07/2018  \n",
       "389  Seed/ Angel Funding  10/07/2018  \n",
       "390  Seed/ Angel Funding  10/07/2018  \n",
       "391       Private Equity  10/07/2018  \n",
       "\n",
       "[392 rows x 6 columns]"
      ]
     },
     "execution_count": 48,
     "metadata": {},
     "output_type": "execute_result"
    }
   ],
   "source": [
    "Funding=pd.DataFrame([])\n",
    "Funding['Company']=Company\n",
    "Funding['Industry']=Industry\n",
    "Funding['Investor_Name']=Investor_Name\n",
    "Funding['Amount Invested']=Amount\n",
    "Funding['Specification']=Investment_Type\n",
    "Funding['Dates']=Dates\n",
    "Funding"
   ]
  },
  {
   "cell_type": "markdown",
   "id": "331128ff",
   "metadata": {},
   "source": [
    "# 5. Write a program to scrap geospatial coordinates (latitude, longitude) of a city searched on google maps."
   ]
  },
  {
   "cell_type": "code",
   "execution_count": 2,
   "id": "a6a8fe43",
   "metadata": {},
   "outputs": [
    {
     "name": "stderr",
     "output_type": "stream",
     "text": [
      "C:\\Users\\patel\\AppData\\Local\\Temp/ipykernel_60880/1705928529.py:1: DeprecationWarning: executable_path has been deprecated, please pass in a Service object\n",
      "  driver = webdriver.Chrome(r\"C:/Users/patel/Downloads/chromedriver_win32/chromedriver.exe\")\n"
     ]
    }
   ],
   "source": [
    "driver = webdriver.Chrome(r\"C:/Users/patel/Downloads/chromedriver_win32/chromedriver.exe\")"
   ]
  },
  {
   "cell_type": "code",
   "execution_count": 3,
   "id": "7bd5e836",
   "metadata": {},
   "outputs": [
    {
     "name": "stdout",
     "output_type": "stream",
     "text": [
      "Enter City Name : surat\n"
     ]
    },
    {
     "name": "stderr",
     "output_type": "stream",
     "text": [
      "C:\\Users\\patel\\AppData\\Local\\Temp/ipykernel_60880/3766071638.py:5: DeprecationWarning: find_element_by_* commands are deprecated. Please use find_element() instead\n",
      "  search = driver.find_element_by_id(\"searchboxinput\")\n",
      "C:\\Users\\patel\\AppData\\Local\\Temp/ipykernel_60880/3766071638.py:9: DeprecationWarning: find_element_by_* commands are deprecated. Please use find_element() instead\n",
      "  button = driver.find_element_by_id(\"searchbox-searchbutton\")\n"
     ]
    },
    {
     "name": "stdout",
     "output_type": "stream",
     "text": [
      "URL Extracted:  https://www.google.co.in/maps/place/Surat,+Gujarat/@21.1594627,72.682206,11z/data=!3m1!4b1!4m5!3m4!1s0x3be04e59411d1563:0xfe4558290938b042!8m2!3d21.1702401!4d72.8310607\n",
      "Latitude = 21.1594627, Longitude = 72.682206\n"
     ]
    }
   ],
   "source": [
    "driver.get(\"https://www.google.co.in/maps\")\n",
    "time.sleep(3)\n",
    "\n",
    "city = input('Enter City Name : ')                                         \n",
    "search = driver.find_element_by_id(\"searchboxinput\")                      \n",
    "search.clear()                                                             \n",
    "time.sleep(2)\n",
    "search.send_keys(city)                                                     \n",
    "button = driver.find_element_by_id(\"searchbox-searchbutton\")               \n",
    "button.click()                                                             \n",
    "time.sleep(3)\n",
    "\n",
    "try:\n",
    "    url_string = driver.current_url\n",
    "    print(\"URL Extracted: \", url_string)\n",
    "    lat_lng = re.findall(r'@(.*)data',url_string)\n",
    "    if len(lat_lng):\n",
    "        lat_lng_list = lat_lng[0].split(\",\")\n",
    "        if len(lat_lng_list)>=2:\n",
    "            lat = lat_lng_list[0]\n",
    "            lng = lat_lng_list[1]\n",
    "        print(\"Latitude = {}, Longitude = {}\".format(lat, lng))\n",
    "\n",
    "except Exception as e:\n",
    "        print(\"Error: \", str(e))"
   ]
  },
  {
   "cell_type": "markdown",
   "id": "3cff697f",
   "metadata": {},
   "source": [
    "# 4. Write a python program to search for a smartphone(e.g.: Oneplus Nord, pixel 4A, etc.) on www.flipkart.com and scrape following details for all the search results displayed on 1st page."
   ]
  },
  {
   "cell_type": "markdown",
   "id": "0d4c3d64",
   "metadata": {},
   "source": [
    "Details to be scraped: “Brand Name”, “Smartphone name”, “Colour”, “RAM”, “Storage(ROM)”, “Primary Camera”, “Secondary Camera”, “Display Size”, “Display Resolution”, “Processor”, “Processor Cores”, “Battery Capacity”, “Price”, “Product URL”. Incase if any of the details is missing then replace it by “- “. Save your results in a dataframe and CSV."
   ]
  },
  {
   "cell_type": "code",
   "execution_count": 32,
   "id": "2c13c899",
   "metadata": {},
   "outputs": [
    {
     "name": "stderr",
     "output_type": "stream",
     "text": [
      "C:\\Users\\patel\\AppData\\Local\\Temp/ipykernel_60880/2254662119.py:1: DeprecationWarning: executable_path has been deprecated, please pass in a Service object\n",
      "  driver = webdriver.Chrome(r\"C:/Users/patel/Downloads/chromedriver_win32/chromedriver.exe\")\n"
     ]
    }
   ],
   "source": [
    "driver = webdriver.Chrome(r\"C:/Users/patel/Downloads/chromedriver_win32/chromedriver.exe\")\n",
    "url4=\"https://www.flipkart.com/search?q=smartphone&otracker=search&otracker1=search&marketplace=FLIPKART&as-show=on&as=off\"\n",
    "driver.get(url4)"
   ]
  },
  {
   "cell_type": "code",
   "execution_count": 42,
   "id": "c1a48643",
   "metadata": {},
   "outputs": [],
   "source": [
    "Brand_Name=[]\n",
    "Colour=[]\n",
    "Storage_RAM_ROM=[]\n",
    "P_F_Camera=[]\n",
    "Display_size=[]\n",
    "ProcessorAndCores=[]\n",
    "Battery=[]\n",
    "Price=[]\n",
    "Product_URL=[]"
   ]
  },
  {
   "cell_type": "code",
   "execution_count": 43,
   "id": "be23ce04",
   "metadata": {},
   "outputs": [
    {
     "name": "stderr",
     "output_type": "stream",
     "text": [
      "C:\\Users\\patel\\AppData\\Local\\Temp/ipykernel_60880/3595618862.py:2: DeprecationWarning: find_elements_by_xpath is deprecated. Please use find_elements(by=By.XPATH, value=xpath) instead\n",
      "  BName=driver.find_elements_by_xpath(\"//div[@class='_4rR01T']\")\n"
     ]
    },
    {
     "name": "stdout",
     "output_type": "stream",
     "text": [
      "24 ['POCO C31 (Royal Blue, 64 GB)', 'realme C11 2021 (Cool Blue, 32 GB)', 'realme C11 2021 (Cool Grey, 32 GB)', 'realme C31 (Dark Green, 32 GB)', 'realme C11 2021 (Cool Grey, 64 GB)', 'realme C11 2021 (Cool Blue, 64 GB)', 'MOTOROLA G60 (Moonless, 128 GB)', 'realme C35 (Glowing Black, 64 GB)', 'realme C31 (Light Silver, 32 GB)', 'realme C31 (Dark Green, 64 GB)', 'vivo T1 5G (Starlight Black, 128 GB)', 'vivo T1 5G (Starlight Black, 128 GB)', 'vivo T1 5G (Rainbow Fantasy, 128 GB)', 'vivo T1 5G (Rainbow Fantasy, 128 GB)', 'POCO C31 (Royal Blue, 32 GB)', 'realme C35 (Glowing Green, 64 GB)', 'realme C35 (Glowing Black, 128 GB)', 'MOTOROLA G60 (Soft Silver, 128 GB)', 'REDMI Note 10T 5G (Mint Green, 64 GB)', 'realme C31 (Light Silver, 64 GB)', 'realme Narzo 50A (Oxygen Blue, 64 GB)', 'REDMI 10 (Pacific Blue, 64 GB)', 'REDMI Note 10T 5G (Metallic Blue, 64 GB)', 'realme Narzo 50A (Oxygen Green, 64 GB)']\n"
     ]
    }
   ],
   "source": [
    "#scraping the Brand_Name \n",
    "BName=driver.find_elements_by_xpath(\"//div[@class='_4rR01T']\")\n",
    "for i in BName:\n",
    "    if i.text is None :\n",
    "        Brand_Name.append(\"--\") \n",
    "    else:\n",
    "        Brand_Name.append(i.text)\n",
    "print(len(Brand_Name),Brand_Name)"
   ]
  },
  {
   "cell_type": "code",
   "execution_count": 44,
   "id": "df5beb86",
   "metadata": {},
   "outputs": [
    {
     "name": "stderr",
     "output_type": "stream",
     "text": [
      "C:\\Users\\patel\\AppData\\Local\\Temp/ipykernel_60880/3717357924.py:2: DeprecationWarning: find_elements_by_xpath is deprecated. Please use find_elements(by=By.XPATH, value=xpath) instead\n",
      "  ram=driver.find_elements_by_xpath(\"//ul[@class='_1xgFaf']//li[1]\")\n"
     ]
    },
    {
     "name": "stdout",
     "output_type": "stream",
     "text": [
      "24 ['4 GB RAM | 64 GB ROM | Expandable Upto 512 GB', '2 GB RAM | 32 GB ROM | Expandable Upto 256 GB', '2 GB RAM | 32 GB ROM | Expandable Upto 256 GB', '3 GB RAM | 32 GB ROM | Expandable Upto 1 TB', '4 GB RAM | 64 GB ROM | Expandable Upto 256 GB', '4 GB RAM | 64 GB ROM | Expandable Upto 256 GB', '6 GB RAM | 128 GB ROM', '4 GB RAM | 64 GB ROM | Expandable Upto 1 TB', '3 GB RAM | 32 GB ROM | Expandable Upto 1 TB', '4 GB RAM | 64 GB ROM | Expandable Upto 1 TB', '4 GB RAM | 128 GB ROM | Expandable Upto 1 TB', '6 GB RAM | 128 GB ROM | Expandable Upto 1 TB', '6 GB RAM | 128 GB ROM | Expandable Upto 1 TB', '4 GB RAM | 128 GB ROM | Expandable Upto 1 TB', '3 GB RAM | 32 GB ROM | Expandable Upto 512 GB', '4 GB RAM | 64 GB ROM | Expandable Upto 1 TB', '4 GB RAM | 128 GB ROM | Expandable Upto 1 TB', '6 GB RAM | 128 GB ROM', '4 GB RAM | 64 GB ROM', '4 GB RAM | 64 GB ROM | Expandable Upto 1 TB', '4 GB RAM | 64 GB ROM | Expandable Upto 256 GB', '4 GB RAM | 64 GB ROM | Expandable Upto 1 TB', '4 GB RAM | 64 GB ROM', '4 GB RAM | 64 GB ROM | Expandable Upto 256 GB']\n"
     ]
    }
   ],
   "source": [
    "#scraping the Storage_RAM_ROM \n",
    "ram=driver.find_elements_by_xpath(\"//ul[@class='_1xgFaf']//li[1]\")\n",
    "for i in ram:\n",
    "    if i.text is None :\n",
    "        Storage_RAM_ROM.append(\"--\") \n",
    "    else:\n",
    "        Storage_RAM_ROM.append(i.text)\n",
    "print(len(Storage_RAM_ROM),Storage_RAM_ROM)"
   ]
  },
  {
   "cell_type": "code",
   "execution_count": 45,
   "id": "1f760a60",
   "metadata": {},
   "outputs": [
    {
     "name": "stderr",
     "output_type": "stream",
     "text": [
      "C:\\Users\\patel\\AppData\\Local\\Temp/ipykernel_60880/2750021032.py:2: DeprecationWarning: find_elements_by_xpath is deprecated. Please use find_elements(by=By.XPATH, value=xpath) instead\n",
      "  PC=driver.find_elements_by_xpath(\"//ul[@class='_1xgFaf']//li[3]\")\n"
     ]
    },
    {
     "name": "stdout",
     "output_type": "stream",
     "text": [
      "24 ['13MP + 2MP + 2MP | 5MP Front Camera', '8MP Rear Camera | 5MP Front Camera', '8MP Rear Camera | 5MP Front Camera', '13MP + 2MP + 0.3MP | 5MP Front Camera', '8MP Rear Camera | 5MP Front Camera', '8MP Rear Camera | 5MP Front Camera', '108MP + 8MP + 2MP | 32MP Front Camera', '50MP + 2MP + 0.3MP | 8MP Front Camera', '13MP + 2MP + 0.3MP | 5MP Front Camera', '13MP + 2MP + 0.3MP | 5MP Front Camera', '50MP + 2MP + 2MP | 16MP Front Camera', '50MP + 2MP + 2MP | 16MP Front Camera', '50MP + 2MP + 2MP | 16MP Front Camera', '50MP + 2MP + 2MP | 16MP Front Camera', '13MP + 2MP + 2MP | 5MP Front Camera', '50MP + 2MP + 0.3MP | 8MP Front Camera', '50MP + 2MP + 0.3MP | 8MP Front Camera', '108MP + 8MP + 2MP | 32MP Front Camera', '48MP Primary Camera + 2MP Macro Lens + 2MP Depth Sensor | 8MP Front Camera', '13MP + 2MP + 0.3MP | 5MP Front Camera', '50MP + 2MP + 2MP | 8MP Front Camera', '50MP + 2MP | 5MP Front Camera', '48MP Primary Camera + 2MP Macro Lens + 2MP Depth Sensor | 8MP Front Camera', '50MP + 2MP + 2MP | 8MP Front Camera']\n"
     ]
    }
   ],
   "source": [
    "#scraping the P_F_Camera \n",
    "PC=driver.find_elements_by_xpath(\"//ul[@class='_1xgFaf']//li[3]\")\n",
    "for i in PC:\n",
    "    if i.text is None :\n",
    "        P_F_Camera.append(\"--\") \n",
    "    else:\n",
    "        P_F_Camera.append(i.text)\n",
    "print(len(P_F_Camera),P_F_Camera)"
   ]
  },
  {
   "cell_type": "code",
   "execution_count": 46,
   "id": "725f4373",
   "metadata": {},
   "outputs": [
    {
     "name": "stderr",
     "output_type": "stream",
     "text": [
      "C:\\Users\\patel\\AppData\\Local\\Temp/ipykernel_60880/3617397707.py:2: DeprecationWarning: find_elements_by_xpath is deprecated. Please use find_elements(by=By.XPATH, value=xpath) instead\n",
      "  DS=driver.find_elements_by_xpath(\"//ul[@class='_1xgFaf']//li[2]\")\n"
     ]
    },
    {
     "name": "stdout",
     "output_type": "stream",
     "text": [
      "24 ['16.59 cm (6.53 inch) HD+ Display', '16.51 cm (6.5 inch) HD+ Display', '16.51 cm (6.5 inch) HD+ Display', '16.56 cm (6.52 inch) HD Display', '16.51 cm (6.5 inch) HD+ Display', '16.51 cm (6.5 inch) HD+ Display', '17.22 cm (6.78 inch) Full HD+ Display', '16.76 cm (6.6 inch) Full HD+ Display', '16.56 cm (6.52 inch) HD Display', '16.56 cm (6.52 inch) HD Display', '16.71 cm (6.58 inch) Full HD+ Display', '16.71 cm (6.58 inch) Full HD+ Display', '16.71 cm (6.58 inch) Full HD+ Display', '16.71 cm (6.58 inch) Full HD+ Display', '16.59 cm (6.53 inch) HD+ Display', '16.76 cm (6.6 inch) Full HD+ Display', '16.76 cm (6.6 inch) Full HD+ Display', '17.22 cm (6.78 inch) Full HD+ Display', '16.66 cm (6.56 inch) Full HD+ Display', '16.56 cm (6.52 inch) HD Display', '16.51 cm (6.5 inch) HD+ Display', '17.02 cm (6.7 inch) HD+ Display', '16.66 cm (6.56 inch) Full HD+ Display', '16.51 cm (6.5 inch) HD+ Display']\n"
     ]
    }
   ],
   "source": [
    "#scraping the Display_size_Resolution \n",
    "DS=driver.find_elements_by_xpath(\"//ul[@class='_1xgFaf']//li[2]\")\n",
    "for i in DS:\n",
    "    if i.text is None :\n",
    "        Display_size_Resolution.append(\"--\") \n",
    "    else:\n",
    "        Display_size.append(i.text)\n",
    "print(len(Display_size),Display_size)"
   ]
  },
  {
   "cell_type": "code",
   "execution_count": 47,
   "id": "4b785334",
   "metadata": {},
   "outputs": [
    {
     "name": "stderr",
     "output_type": "stream",
     "text": [
      "C:\\Users\\patel\\AppData\\Local\\Temp/ipykernel_60880/2449918099.py:2: DeprecationWarning: find_elements_by_xpath is deprecated. Please use find_elements(by=By.XPATH, value=xpath) instead\n",
      "  P=driver.find_elements_by_xpath(\"//ul[@class='_1xgFaf']//li[5]\")\n"
     ]
    },
    {
     "name": "stdout",
     "output_type": "stream",
     "text": [
      "24 ['MediaTek Helio G35 Processor', 'Octa-core Processor', 'Octa-core Processor', 'Unisoc T612 Processor', 'Octa-core Processor', 'Octa-core Processor', 'Qualcomm Snapdragon 732G Processor', 'Unisoc Tiger T616 Processor', 'Unisoc T612 Processor', 'Unisoc T612 Processor', 'Qualcomm Snapdragon 695 Processor', 'Qualcomm Snapdragon 695 Processor', 'Qualcomm Snapdragon 695 Processor', 'Qualcomm Snapdragon 695 Processor', 'MediaTek Helio G35 Processor', 'Unisoc Tiger T616 Processor', 'Unisoc Tiger T616 Processor', 'Qualcomm Snapdragon 732G Processor', 'Mediatek Dimensity 700 Processor', 'Unisoc T612 Processor', 'MediaTek Helio G85 Processor', 'Qualcomm Snapdragon 680 Processor', 'Mediatek Dimensity 700 Processor', 'MediaTek Helio G85 Processor']\n"
     ]
    }
   ],
   "source": [
    "#scraping the ProcessorAndCores \n",
    "P=driver.find_elements_by_xpath(\"//ul[@class='_1xgFaf']//li[5]\")\n",
    "for i in P:\n",
    "    if i.text is None :\n",
    "        ProcessorAndCores.append(\"--\") \n",
    "    else:\n",
    "        ProcessorAndCores.append(i.text)\n",
    "print(len(ProcessorAndCores),ProcessorAndCores)"
   ]
  },
  {
   "cell_type": "code",
   "execution_count": 48,
   "id": "2ac842e2",
   "metadata": {},
   "outputs": [
    {
     "name": "stderr",
     "output_type": "stream",
     "text": [
      "C:\\Users\\patel\\AppData\\Local\\Temp/ipykernel_60880/3928553827.py:2: DeprecationWarning: find_elements_by_xpath is deprecated. Please use find_elements(by=By.XPATH, value=xpath) instead\n",
      "  B=driver.find_elements_by_xpath(\"//ul[@class='_1xgFaf']//li[4]\")\n"
     ]
    },
    {
     "name": "stdout",
     "output_type": "stream",
     "text": [
      "24 ['5000 mAh Lithium-ion Polymer Battery', '5000 mAh Battery', '5000 mAh Battery', '5000 mAh Battery', '5000 mAh Battery', '5000 mAh Battery', '6000 mAh Battery', '5000 mAh Lithium Polymer Battery', '5000 mAh Battery', '5000 mAh Battery', '5000 mAh Lithium Battery', '5000 mAh Lithium Battery', '5000 mAh Lithium Battery', '5000 mAh Lithium Battery', '5000 mAh Lithium-ion Polymer Battery', '5000 mAh Lithium Polymer Battery', '5000 mAh Lithium Polymer Battery', '6000 mAh Battery', '5000 mAh Lithium Polymer Battery', '5000 mAh Battery', '6000 mAh Battery', '6000 mAh Lithium Polymer Battery', '5000 mAh Lithium Polymer Battery', '6000 mAh Battery']\n"
     ]
    }
   ],
   "source": [
    "#scraping the Battery \n",
    "B=driver.find_elements_by_xpath(\"//ul[@class='_1xgFaf']//li[4]\")\n",
    "for i in B:\n",
    "    if i.text is None :\n",
    "        Battery.append(\"--\") \n",
    "    else:\n",
    "        Battery.append(i.text)\n",
    "print(len(Battery),Battery)"
   ]
  },
  {
   "cell_type": "code",
   "execution_count": 49,
   "id": "d0f36f4f",
   "metadata": {},
   "outputs": [
    {
     "name": "stderr",
     "output_type": "stream",
     "text": [
      "C:\\Users\\patel\\AppData\\Local\\Temp/ipykernel_60880/3555505901.py:2: DeprecationWarning: find_elements_by_xpath is deprecated. Please use find_elements(by=By.XPATH, value=xpath) instead\n",
      "  price=driver.find_elements_by_xpath(\"//div[@class='_30jeq3 _1_WHN1']\")\n"
     ]
    },
    {
     "name": "stdout",
     "output_type": "stream",
     "text": [
      "24 ['₹9,499', '₹7,499', '₹7,499', '₹9,299', '₹8,999', '₹8,999', '₹15,999', '₹11,999', '₹9,299', '₹9,999', '₹15,990', '₹16,990', '₹16,990', '₹15,990', '₹8,499', '₹11,999', '₹12,999', '₹15,999', '₹11,999', '₹9,999', '₹11,649', '₹10,499', '₹11,999', '₹11,649']\n"
     ]
    }
   ],
   "source": [
    "#scraping the Price \n",
    "price=driver.find_elements_by_xpath(\"//div[@class='_30jeq3 _1_WHN1']\")\n",
    "for i in price:\n",
    "    if i.text is None :\n",
    "        Price.append(\"--\") \n",
    "    else:\n",
    "        Price.append(i.text)\n",
    "print(len(Price),Price)"
   ]
  },
  {
   "cell_type": "code",
   "execution_count": 51,
   "id": "6200533a",
   "metadata": {},
   "outputs": [
    {
     "data": {
      "text/html": [
       "<div>\n",
       "<style scoped>\n",
       "    .dataframe tbody tr th:only-of-type {\n",
       "        vertical-align: middle;\n",
       "    }\n",
       "\n",
       "    .dataframe tbody tr th {\n",
       "        vertical-align: top;\n",
       "    }\n",
       "\n",
       "    .dataframe thead th {\n",
       "        text-align: right;\n",
       "    }\n",
       "</style>\n",
       "<table border=\"1\" class=\"dataframe\">\n",
       "  <thead>\n",
       "    <tr style=\"text-align: right;\">\n",
       "      <th></th>\n",
       "      <th>Brand_Name</th>\n",
       "      <th>Storage_RAM_ROM</th>\n",
       "      <th>Amount P_F_Camera</th>\n",
       "      <th>Display_size_Resolution</th>\n",
       "      <th>ProcessorAndCores</th>\n",
       "      <th>Battery</th>\n",
       "      <th>Price</th>\n",
       "    </tr>\n",
       "  </thead>\n",
       "  <tbody>\n",
       "    <tr>\n",
       "      <th>0</th>\n",
       "      <td>POCO C31 (Royal Blue, 64 GB)</td>\n",
       "      <td>4 GB RAM | 64 GB ROM | Expandable Upto 512 GB</td>\n",
       "      <td>13MP + 2MP + 2MP | 5MP Front Camera</td>\n",
       "      <td>16.59 cm (6.53 inch) HD+ Display</td>\n",
       "      <td>MediaTek Helio G35 Processor</td>\n",
       "      <td>5000 mAh Lithium-ion Polymer Battery</td>\n",
       "      <td>₹9,499</td>\n",
       "    </tr>\n",
       "    <tr>\n",
       "      <th>1</th>\n",
       "      <td>realme C11 2021 (Cool Blue, 32 GB)</td>\n",
       "      <td>2 GB RAM | 32 GB ROM | Expandable Upto 256 GB</td>\n",
       "      <td>8MP Rear Camera | 5MP Front Camera</td>\n",
       "      <td>16.51 cm (6.5 inch) HD+ Display</td>\n",
       "      <td>Octa-core Processor</td>\n",
       "      <td>5000 mAh Battery</td>\n",
       "      <td>₹7,499</td>\n",
       "    </tr>\n",
       "    <tr>\n",
       "      <th>2</th>\n",
       "      <td>realme C11 2021 (Cool Grey, 32 GB)</td>\n",
       "      <td>2 GB RAM | 32 GB ROM | Expandable Upto 256 GB</td>\n",
       "      <td>8MP Rear Camera | 5MP Front Camera</td>\n",
       "      <td>16.51 cm (6.5 inch) HD+ Display</td>\n",
       "      <td>Octa-core Processor</td>\n",
       "      <td>5000 mAh Battery</td>\n",
       "      <td>₹7,499</td>\n",
       "    </tr>\n",
       "    <tr>\n",
       "      <th>3</th>\n",
       "      <td>realme C31 (Dark Green, 32 GB)</td>\n",
       "      <td>3 GB RAM | 32 GB ROM | Expandable Upto 1 TB</td>\n",
       "      <td>13MP + 2MP + 0.3MP | 5MP Front Camera</td>\n",
       "      <td>16.56 cm (6.52 inch) HD Display</td>\n",
       "      <td>Unisoc T612 Processor</td>\n",
       "      <td>5000 mAh Battery</td>\n",
       "      <td>₹9,299</td>\n",
       "    </tr>\n",
       "    <tr>\n",
       "      <th>4</th>\n",
       "      <td>realme C11 2021 (Cool Grey, 64 GB)</td>\n",
       "      <td>4 GB RAM | 64 GB ROM | Expandable Upto 256 GB</td>\n",
       "      <td>8MP Rear Camera | 5MP Front Camera</td>\n",
       "      <td>16.51 cm (6.5 inch) HD+ Display</td>\n",
       "      <td>Octa-core Processor</td>\n",
       "      <td>5000 mAh Battery</td>\n",
       "      <td>₹8,999</td>\n",
       "    </tr>\n",
       "    <tr>\n",
       "      <th>5</th>\n",
       "      <td>realme C11 2021 (Cool Blue, 64 GB)</td>\n",
       "      <td>4 GB RAM | 64 GB ROM | Expandable Upto 256 GB</td>\n",
       "      <td>8MP Rear Camera | 5MP Front Camera</td>\n",
       "      <td>16.51 cm (6.5 inch) HD+ Display</td>\n",
       "      <td>Octa-core Processor</td>\n",
       "      <td>5000 mAh Battery</td>\n",
       "      <td>₹8,999</td>\n",
       "    </tr>\n",
       "    <tr>\n",
       "      <th>6</th>\n",
       "      <td>MOTOROLA G60 (Moonless, 128 GB)</td>\n",
       "      <td>6 GB RAM | 128 GB ROM</td>\n",
       "      <td>108MP + 8MP + 2MP | 32MP Front Camera</td>\n",
       "      <td>17.22 cm (6.78 inch) Full HD+ Display</td>\n",
       "      <td>Qualcomm Snapdragon 732G Processor</td>\n",
       "      <td>6000 mAh Battery</td>\n",
       "      <td>₹15,999</td>\n",
       "    </tr>\n",
       "    <tr>\n",
       "      <th>7</th>\n",
       "      <td>realme C35 (Glowing Black, 64 GB)</td>\n",
       "      <td>4 GB RAM | 64 GB ROM | Expandable Upto 1 TB</td>\n",
       "      <td>50MP + 2MP + 0.3MP | 8MP Front Camera</td>\n",
       "      <td>16.76 cm (6.6 inch) Full HD+ Display</td>\n",
       "      <td>Unisoc Tiger T616 Processor</td>\n",
       "      <td>5000 mAh Lithium Polymer Battery</td>\n",
       "      <td>₹11,999</td>\n",
       "    </tr>\n",
       "    <tr>\n",
       "      <th>8</th>\n",
       "      <td>realme C31 (Light Silver, 32 GB)</td>\n",
       "      <td>3 GB RAM | 32 GB ROM | Expandable Upto 1 TB</td>\n",
       "      <td>13MP + 2MP + 0.3MP | 5MP Front Camera</td>\n",
       "      <td>16.56 cm (6.52 inch) HD Display</td>\n",
       "      <td>Unisoc T612 Processor</td>\n",
       "      <td>5000 mAh Battery</td>\n",
       "      <td>₹9,299</td>\n",
       "    </tr>\n",
       "    <tr>\n",
       "      <th>9</th>\n",
       "      <td>realme C31 (Dark Green, 64 GB)</td>\n",
       "      <td>4 GB RAM | 64 GB ROM | Expandable Upto 1 TB</td>\n",
       "      <td>13MP + 2MP + 0.3MP | 5MP Front Camera</td>\n",
       "      <td>16.56 cm (6.52 inch) HD Display</td>\n",
       "      <td>Unisoc T612 Processor</td>\n",
       "      <td>5000 mAh Battery</td>\n",
       "      <td>₹9,999</td>\n",
       "    </tr>\n",
       "    <tr>\n",
       "      <th>10</th>\n",
       "      <td>vivo T1 5G (Starlight Black, 128 GB)</td>\n",
       "      <td>4 GB RAM | 128 GB ROM | Expandable Upto 1 TB</td>\n",
       "      <td>50MP + 2MP + 2MP | 16MP Front Camera</td>\n",
       "      <td>16.71 cm (6.58 inch) Full HD+ Display</td>\n",
       "      <td>Qualcomm Snapdragon 695 Processor</td>\n",
       "      <td>5000 mAh Lithium Battery</td>\n",
       "      <td>₹15,990</td>\n",
       "    </tr>\n",
       "    <tr>\n",
       "      <th>11</th>\n",
       "      <td>vivo T1 5G (Starlight Black, 128 GB)</td>\n",
       "      <td>6 GB RAM | 128 GB ROM | Expandable Upto 1 TB</td>\n",
       "      <td>50MP + 2MP + 2MP | 16MP Front Camera</td>\n",
       "      <td>16.71 cm (6.58 inch) Full HD+ Display</td>\n",
       "      <td>Qualcomm Snapdragon 695 Processor</td>\n",
       "      <td>5000 mAh Lithium Battery</td>\n",
       "      <td>₹16,990</td>\n",
       "    </tr>\n",
       "    <tr>\n",
       "      <th>12</th>\n",
       "      <td>vivo T1 5G (Rainbow Fantasy, 128 GB)</td>\n",
       "      <td>6 GB RAM | 128 GB ROM | Expandable Upto 1 TB</td>\n",
       "      <td>50MP + 2MP + 2MP | 16MP Front Camera</td>\n",
       "      <td>16.71 cm (6.58 inch) Full HD+ Display</td>\n",
       "      <td>Qualcomm Snapdragon 695 Processor</td>\n",
       "      <td>5000 mAh Lithium Battery</td>\n",
       "      <td>₹16,990</td>\n",
       "    </tr>\n",
       "    <tr>\n",
       "      <th>13</th>\n",
       "      <td>vivo T1 5G (Rainbow Fantasy, 128 GB)</td>\n",
       "      <td>4 GB RAM | 128 GB ROM | Expandable Upto 1 TB</td>\n",
       "      <td>50MP + 2MP + 2MP | 16MP Front Camera</td>\n",
       "      <td>16.71 cm (6.58 inch) Full HD+ Display</td>\n",
       "      <td>Qualcomm Snapdragon 695 Processor</td>\n",
       "      <td>5000 mAh Lithium Battery</td>\n",
       "      <td>₹15,990</td>\n",
       "    </tr>\n",
       "    <tr>\n",
       "      <th>14</th>\n",
       "      <td>POCO C31 (Royal Blue, 32 GB)</td>\n",
       "      <td>3 GB RAM | 32 GB ROM | Expandable Upto 512 GB</td>\n",
       "      <td>13MP + 2MP + 2MP | 5MP Front Camera</td>\n",
       "      <td>16.59 cm (6.53 inch) HD+ Display</td>\n",
       "      <td>MediaTek Helio G35 Processor</td>\n",
       "      <td>5000 mAh Lithium-ion Polymer Battery</td>\n",
       "      <td>₹8,499</td>\n",
       "    </tr>\n",
       "    <tr>\n",
       "      <th>15</th>\n",
       "      <td>realme C35 (Glowing Green, 64 GB)</td>\n",
       "      <td>4 GB RAM | 64 GB ROM | Expandable Upto 1 TB</td>\n",
       "      <td>50MP + 2MP + 0.3MP | 8MP Front Camera</td>\n",
       "      <td>16.76 cm (6.6 inch) Full HD+ Display</td>\n",
       "      <td>Unisoc Tiger T616 Processor</td>\n",
       "      <td>5000 mAh Lithium Polymer Battery</td>\n",
       "      <td>₹11,999</td>\n",
       "    </tr>\n",
       "    <tr>\n",
       "      <th>16</th>\n",
       "      <td>realme C35 (Glowing Black, 128 GB)</td>\n",
       "      <td>4 GB RAM | 128 GB ROM | Expandable Upto 1 TB</td>\n",
       "      <td>50MP + 2MP + 0.3MP | 8MP Front Camera</td>\n",
       "      <td>16.76 cm (6.6 inch) Full HD+ Display</td>\n",
       "      <td>Unisoc Tiger T616 Processor</td>\n",
       "      <td>5000 mAh Lithium Polymer Battery</td>\n",
       "      <td>₹12,999</td>\n",
       "    </tr>\n",
       "    <tr>\n",
       "      <th>17</th>\n",
       "      <td>MOTOROLA G60 (Soft Silver, 128 GB)</td>\n",
       "      <td>6 GB RAM | 128 GB ROM</td>\n",
       "      <td>108MP + 8MP + 2MP | 32MP Front Camera</td>\n",
       "      <td>17.22 cm (6.78 inch) Full HD+ Display</td>\n",
       "      <td>Qualcomm Snapdragon 732G Processor</td>\n",
       "      <td>6000 mAh Battery</td>\n",
       "      <td>₹15,999</td>\n",
       "    </tr>\n",
       "    <tr>\n",
       "      <th>18</th>\n",
       "      <td>REDMI Note 10T 5G (Mint Green, 64 GB)</td>\n",
       "      <td>4 GB RAM | 64 GB ROM</td>\n",
       "      <td>48MP Primary Camera + 2MP Macro Lens + 2MP Dep...</td>\n",
       "      <td>16.66 cm (6.56 inch) Full HD+ Display</td>\n",
       "      <td>Mediatek Dimensity 700 Processor</td>\n",
       "      <td>5000 mAh Lithium Polymer Battery</td>\n",
       "      <td>₹11,999</td>\n",
       "    </tr>\n",
       "    <tr>\n",
       "      <th>19</th>\n",
       "      <td>realme C31 (Light Silver, 64 GB)</td>\n",
       "      <td>4 GB RAM | 64 GB ROM | Expandable Upto 1 TB</td>\n",
       "      <td>13MP + 2MP + 0.3MP | 5MP Front Camera</td>\n",
       "      <td>16.56 cm (6.52 inch) HD Display</td>\n",
       "      <td>Unisoc T612 Processor</td>\n",
       "      <td>5000 mAh Battery</td>\n",
       "      <td>₹9,999</td>\n",
       "    </tr>\n",
       "    <tr>\n",
       "      <th>20</th>\n",
       "      <td>realme Narzo 50A (Oxygen Blue, 64 GB)</td>\n",
       "      <td>4 GB RAM | 64 GB ROM | Expandable Upto 256 GB</td>\n",
       "      <td>50MP + 2MP + 2MP | 8MP Front Camera</td>\n",
       "      <td>16.51 cm (6.5 inch) HD+ Display</td>\n",
       "      <td>MediaTek Helio G85 Processor</td>\n",
       "      <td>6000 mAh Battery</td>\n",
       "      <td>₹11,649</td>\n",
       "    </tr>\n",
       "    <tr>\n",
       "      <th>21</th>\n",
       "      <td>REDMI 10 (Pacific Blue, 64 GB)</td>\n",
       "      <td>4 GB RAM | 64 GB ROM | Expandable Upto 1 TB</td>\n",
       "      <td>50MP + 2MP | 5MP Front Camera</td>\n",
       "      <td>17.02 cm (6.7 inch) HD+ Display</td>\n",
       "      <td>Qualcomm Snapdragon 680 Processor</td>\n",
       "      <td>6000 mAh Lithium Polymer Battery</td>\n",
       "      <td>₹10,499</td>\n",
       "    </tr>\n",
       "    <tr>\n",
       "      <th>22</th>\n",
       "      <td>REDMI Note 10T 5G (Metallic Blue, 64 GB)</td>\n",
       "      <td>4 GB RAM | 64 GB ROM</td>\n",
       "      <td>48MP Primary Camera + 2MP Macro Lens + 2MP Dep...</td>\n",
       "      <td>16.66 cm (6.56 inch) Full HD+ Display</td>\n",
       "      <td>Mediatek Dimensity 700 Processor</td>\n",
       "      <td>5000 mAh Lithium Polymer Battery</td>\n",
       "      <td>₹11,999</td>\n",
       "    </tr>\n",
       "    <tr>\n",
       "      <th>23</th>\n",
       "      <td>realme Narzo 50A (Oxygen Green, 64 GB)</td>\n",
       "      <td>4 GB RAM | 64 GB ROM | Expandable Upto 256 GB</td>\n",
       "      <td>50MP + 2MP + 2MP | 8MP Front Camera</td>\n",
       "      <td>16.51 cm (6.5 inch) HD+ Display</td>\n",
       "      <td>MediaTek Helio G85 Processor</td>\n",
       "      <td>6000 mAh Battery</td>\n",
       "      <td>₹11,649</td>\n",
       "    </tr>\n",
       "  </tbody>\n",
       "</table>\n",
       "</div>"
      ],
      "text/plain": [
       "                                  Brand_Name  \\\n",
       "0               POCO C31 (Royal Blue, 64 GB)   \n",
       "1         realme C11 2021 (Cool Blue, 32 GB)   \n",
       "2         realme C11 2021 (Cool Grey, 32 GB)   \n",
       "3             realme C31 (Dark Green, 32 GB)   \n",
       "4         realme C11 2021 (Cool Grey, 64 GB)   \n",
       "5         realme C11 2021 (Cool Blue, 64 GB)   \n",
       "6            MOTOROLA G60 (Moonless, 128 GB)   \n",
       "7          realme C35 (Glowing Black, 64 GB)   \n",
       "8           realme C31 (Light Silver, 32 GB)   \n",
       "9             realme C31 (Dark Green, 64 GB)   \n",
       "10      vivo T1 5G (Starlight Black, 128 GB)   \n",
       "11      vivo T1 5G (Starlight Black, 128 GB)   \n",
       "12      vivo T1 5G (Rainbow Fantasy, 128 GB)   \n",
       "13      vivo T1 5G (Rainbow Fantasy, 128 GB)   \n",
       "14              POCO C31 (Royal Blue, 32 GB)   \n",
       "15         realme C35 (Glowing Green, 64 GB)   \n",
       "16        realme C35 (Glowing Black, 128 GB)   \n",
       "17        MOTOROLA G60 (Soft Silver, 128 GB)   \n",
       "18     REDMI Note 10T 5G (Mint Green, 64 GB)   \n",
       "19          realme C31 (Light Silver, 64 GB)   \n",
       "20     realme Narzo 50A (Oxygen Blue, 64 GB)   \n",
       "21            REDMI 10 (Pacific Blue, 64 GB)   \n",
       "22  REDMI Note 10T 5G (Metallic Blue, 64 GB)   \n",
       "23    realme Narzo 50A (Oxygen Green, 64 GB)   \n",
       "\n",
       "                                  Storage_RAM_ROM  \\\n",
       "0   4 GB RAM | 64 GB ROM | Expandable Upto 512 GB   \n",
       "1   2 GB RAM | 32 GB ROM | Expandable Upto 256 GB   \n",
       "2   2 GB RAM | 32 GB ROM | Expandable Upto 256 GB   \n",
       "3     3 GB RAM | 32 GB ROM | Expandable Upto 1 TB   \n",
       "4   4 GB RAM | 64 GB ROM | Expandable Upto 256 GB   \n",
       "5   4 GB RAM | 64 GB ROM | Expandable Upto 256 GB   \n",
       "6                           6 GB RAM | 128 GB ROM   \n",
       "7     4 GB RAM | 64 GB ROM | Expandable Upto 1 TB   \n",
       "8     3 GB RAM | 32 GB ROM | Expandable Upto 1 TB   \n",
       "9     4 GB RAM | 64 GB ROM | Expandable Upto 1 TB   \n",
       "10   4 GB RAM | 128 GB ROM | Expandable Upto 1 TB   \n",
       "11   6 GB RAM | 128 GB ROM | Expandable Upto 1 TB   \n",
       "12   6 GB RAM | 128 GB ROM | Expandable Upto 1 TB   \n",
       "13   4 GB RAM | 128 GB ROM | Expandable Upto 1 TB   \n",
       "14  3 GB RAM | 32 GB ROM | Expandable Upto 512 GB   \n",
       "15    4 GB RAM | 64 GB ROM | Expandable Upto 1 TB   \n",
       "16   4 GB RAM | 128 GB ROM | Expandable Upto 1 TB   \n",
       "17                          6 GB RAM | 128 GB ROM   \n",
       "18                           4 GB RAM | 64 GB ROM   \n",
       "19    4 GB RAM | 64 GB ROM | Expandable Upto 1 TB   \n",
       "20  4 GB RAM | 64 GB ROM | Expandable Upto 256 GB   \n",
       "21    4 GB RAM | 64 GB ROM | Expandable Upto 1 TB   \n",
       "22                           4 GB RAM | 64 GB ROM   \n",
       "23  4 GB RAM | 64 GB ROM | Expandable Upto 256 GB   \n",
       "\n",
       "                                    Amount P_F_Camera  \\\n",
       "0                 13MP + 2MP + 2MP | 5MP Front Camera   \n",
       "1                  8MP Rear Camera | 5MP Front Camera   \n",
       "2                  8MP Rear Camera | 5MP Front Camera   \n",
       "3               13MP + 2MP + 0.3MP | 5MP Front Camera   \n",
       "4                  8MP Rear Camera | 5MP Front Camera   \n",
       "5                  8MP Rear Camera | 5MP Front Camera   \n",
       "6               108MP + 8MP + 2MP | 32MP Front Camera   \n",
       "7               50MP + 2MP + 0.3MP | 8MP Front Camera   \n",
       "8               13MP + 2MP + 0.3MP | 5MP Front Camera   \n",
       "9               13MP + 2MP + 0.3MP | 5MP Front Camera   \n",
       "10               50MP + 2MP + 2MP | 16MP Front Camera   \n",
       "11               50MP + 2MP + 2MP | 16MP Front Camera   \n",
       "12               50MP + 2MP + 2MP | 16MP Front Camera   \n",
       "13               50MP + 2MP + 2MP | 16MP Front Camera   \n",
       "14                13MP + 2MP + 2MP | 5MP Front Camera   \n",
       "15              50MP + 2MP + 0.3MP | 8MP Front Camera   \n",
       "16              50MP + 2MP + 0.3MP | 8MP Front Camera   \n",
       "17              108MP + 8MP + 2MP | 32MP Front Camera   \n",
       "18  48MP Primary Camera + 2MP Macro Lens + 2MP Dep...   \n",
       "19              13MP + 2MP + 0.3MP | 5MP Front Camera   \n",
       "20                50MP + 2MP + 2MP | 8MP Front Camera   \n",
       "21                      50MP + 2MP | 5MP Front Camera   \n",
       "22  48MP Primary Camera + 2MP Macro Lens + 2MP Dep...   \n",
       "23                50MP + 2MP + 2MP | 8MP Front Camera   \n",
       "\n",
       "                  Display_size_Resolution                   ProcessorAndCores  \\\n",
       "0        16.59 cm (6.53 inch) HD+ Display        MediaTek Helio G35 Processor   \n",
       "1         16.51 cm (6.5 inch) HD+ Display                 Octa-core Processor   \n",
       "2         16.51 cm (6.5 inch) HD+ Display                 Octa-core Processor   \n",
       "3         16.56 cm (6.52 inch) HD Display               Unisoc T612 Processor   \n",
       "4         16.51 cm (6.5 inch) HD+ Display                 Octa-core Processor   \n",
       "5         16.51 cm (6.5 inch) HD+ Display                 Octa-core Processor   \n",
       "6   17.22 cm (6.78 inch) Full HD+ Display  Qualcomm Snapdragon 732G Processor   \n",
       "7    16.76 cm (6.6 inch) Full HD+ Display         Unisoc Tiger T616 Processor   \n",
       "8         16.56 cm (6.52 inch) HD Display               Unisoc T612 Processor   \n",
       "9         16.56 cm (6.52 inch) HD Display               Unisoc T612 Processor   \n",
       "10  16.71 cm (6.58 inch) Full HD+ Display   Qualcomm Snapdragon 695 Processor   \n",
       "11  16.71 cm (6.58 inch) Full HD+ Display   Qualcomm Snapdragon 695 Processor   \n",
       "12  16.71 cm (6.58 inch) Full HD+ Display   Qualcomm Snapdragon 695 Processor   \n",
       "13  16.71 cm (6.58 inch) Full HD+ Display   Qualcomm Snapdragon 695 Processor   \n",
       "14       16.59 cm (6.53 inch) HD+ Display        MediaTek Helio G35 Processor   \n",
       "15   16.76 cm (6.6 inch) Full HD+ Display         Unisoc Tiger T616 Processor   \n",
       "16   16.76 cm (6.6 inch) Full HD+ Display         Unisoc Tiger T616 Processor   \n",
       "17  17.22 cm (6.78 inch) Full HD+ Display  Qualcomm Snapdragon 732G Processor   \n",
       "18  16.66 cm (6.56 inch) Full HD+ Display    Mediatek Dimensity 700 Processor   \n",
       "19        16.56 cm (6.52 inch) HD Display               Unisoc T612 Processor   \n",
       "20        16.51 cm (6.5 inch) HD+ Display        MediaTek Helio G85 Processor   \n",
       "21        17.02 cm (6.7 inch) HD+ Display   Qualcomm Snapdragon 680 Processor   \n",
       "22  16.66 cm (6.56 inch) Full HD+ Display    Mediatek Dimensity 700 Processor   \n",
       "23        16.51 cm (6.5 inch) HD+ Display        MediaTek Helio G85 Processor   \n",
       "\n",
       "                                 Battery    Price  \n",
       "0   5000 mAh Lithium-ion Polymer Battery   ₹9,499  \n",
       "1                       5000 mAh Battery   ₹7,499  \n",
       "2                       5000 mAh Battery   ₹7,499  \n",
       "3                       5000 mAh Battery   ₹9,299  \n",
       "4                       5000 mAh Battery   ₹8,999  \n",
       "5                       5000 mAh Battery   ₹8,999  \n",
       "6                       6000 mAh Battery  ₹15,999  \n",
       "7       5000 mAh Lithium Polymer Battery  ₹11,999  \n",
       "8                       5000 mAh Battery   ₹9,299  \n",
       "9                       5000 mAh Battery   ₹9,999  \n",
       "10              5000 mAh Lithium Battery  ₹15,990  \n",
       "11              5000 mAh Lithium Battery  ₹16,990  \n",
       "12              5000 mAh Lithium Battery  ₹16,990  \n",
       "13              5000 mAh Lithium Battery  ₹15,990  \n",
       "14  5000 mAh Lithium-ion Polymer Battery   ₹8,499  \n",
       "15      5000 mAh Lithium Polymer Battery  ₹11,999  \n",
       "16      5000 mAh Lithium Polymer Battery  ₹12,999  \n",
       "17                      6000 mAh Battery  ₹15,999  \n",
       "18      5000 mAh Lithium Polymer Battery  ₹11,999  \n",
       "19                      5000 mAh Battery   ₹9,999  \n",
       "20                      6000 mAh Battery  ₹11,649  \n",
       "21      6000 mAh Lithium Polymer Battery  ₹10,499  \n",
       "22      5000 mAh Lithium Polymer Battery  ₹11,999  \n",
       "23                      6000 mAh Battery  ₹11,649  "
      ]
     },
     "execution_count": 51,
     "metadata": {},
     "output_type": "execute_result"
    }
   ],
   "source": [
    "FlipKart=pd.DataFrame([])\n",
    "FlipKart['Brand_Name']=Brand_Name\n",
    "FlipKart['Storage_RAM_ROM']=Storage_RAM_ROM\n",
    "FlipKart['Amount P_F_Camera']=P_F_Camera\n",
    "FlipKart['Display_size_Resolution']=Display_size\n",
    "FlipKart['ProcessorAndCores']=ProcessorAndCores\n",
    "FlipKart['Battery']=Battery\n",
    "FlipKart['Price']=Price\n",
    "\n",
    "FlipKart"
   ]
  },
  {
   "cell_type": "markdown",
   "id": "3da35835",
   "metadata": {},
   "source": [
    "# 3. Write a python program to access the search bar and search button on images.google.com and scrape 10 images each for keywords ‘fruits’, ‘cars’ and ‘Machine Learning’, ‘Guitar’, ‘Cakes’."
   ]
  },
  {
   "cell_type": "code",
   "execution_count": 77,
   "id": "995e1410",
   "metadata": {},
   "outputs": [],
   "source": [
    "driver.get('https://images.google.com/')"
   ]
  },
  {
   "cell_type": "code",
   "execution_count": 78,
   "id": "24104759",
   "metadata": {},
   "outputs": [
    {
     "name": "stderr",
     "output_type": "stream",
     "text": [
      "C:\\Users\\patel\\AppData\\Local\\Temp/ipykernel_60880/551574512.py:1: DeprecationWarning: find_element_by_xpath is deprecated. Please use find_element(by=By.XPATH, value=xpath) instead\n",
      "  search_bar = driver.find_element_by_xpath('//*[@id=\"sbtc\"]/div/div[2]/input')    # Finding the search bar using it's xpath\n",
      "C:\\Users\\patel\\AppData\\Local\\Temp/ipykernel_60880/551574512.py:3: DeprecationWarning: find_element_by_xpath is deprecated. Please use find_element(by=By.XPATH, value=xpath) instead\n",
      "  search_button = driver.find_element_by_xpath('//*[@id=\"sbtc\"]/button')    # Finding the xpath of search button\n"
     ]
    }
   ],
   "source": [
    "search_bar = driver.find_element_by_xpath('//*[@id=\"sbtc\"]/div/div[2]/input')   \n",
    "search_bar.send_keys(\"guitars\")       \n",
    "search_button = driver.find_element_by_xpath('//*[@id=\"sbtc\"]/button')   \n",
    "search_button.click()"
   ]
  },
  {
   "cell_type": "code",
   "execution_count": 79,
   "id": "63313f88",
   "metadata": {},
   "outputs": [
    {
     "name": "stdout",
     "output_type": "stream",
     "text": [
      "start scrolling to generate more images on the page...\n"
     ]
    }
   ],
   "source": [
    "print(\"start scrolling to generate more images on the page...\")\n",
    "for _ in range(500):\n",
    "    driver.execute_script(\"window.scrollBy(0,10000)\")"
   ]
  },
  {
   "cell_type": "code",
   "execution_count": 85,
   "id": "04b097ad",
   "metadata": {},
   "outputs": [
    {
     "name": "stderr",
     "output_type": "stream",
     "text": [
      "C:\\Users\\patel\\AppData\\Local\\Temp/ipykernel_60880/3273864857.py:1: DeprecationWarning: find_elements_by_xpath is deprecated. Please use find_elements(by=By.XPATH, value=xpath) instead\n",
      "  images = driver.find_elements_by_xpath('//img[@class=\"rg_i Q4LuWd\"]')\n"
     ]
    }
   ],
   "source": [
    "images = driver.find_elements_by_xpath('//img[@class=\"rg_i Q4LuWd\"]')"
   ]
  },
  {
   "cell_type": "code",
   "execution_count": 94,
   "id": "52740e6e",
   "metadata": {},
   "outputs": [
    {
     "data": {
      "text/plain": [
       "143"
      ]
     },
     "execution_count": 94,
     "metadata": {},
     "output_type": "execute_result"
    }
   ],
   "source": [
    "img_urls = []\n",
    "img_data = []\n",
    "for image in images:\n",
    "    source= image.get_attribute('src')\n",
    "    if source is not None:\n",
    "        if(source[0:4] == 'http'):\n",
    "            img_urls.append(source)\n",
    "len(img_urls)"
   ]
  },
  {
   "cell_type": "code",
   "execution_count": 96,
   "id": "2956fadf",
   "metadata": {},
   "outputs": [],
   "source": [
    "for i in range(len(img_urls)):\n",
    "    if i >= 100:\n",
    "        break\n",
    "        print(\"Downloading {0} of {1} images\" .format(i, 100))\n",
    "        response= requests.get(img_urls[i])\n",
    "        file = open(\"C:/Users/patel/img\"+str(i)+\".jpg\", \"wb\")\n",
    "        file.write(response.content)"
   ]
  },
  {
   "cell_type": "markdown",
   "id": "4e61b190",
   "metadata": {},
   "source": [
    "# Quetions 1Write a python program which searches all the product under a particular product from www.amazon.in. The product to be searched will be taken as input from user. For e.g. If user input is ‘guitar’. Then search for guitars. &   "
   ]
  },
  {
   "cell_type": "code",
   "execution_count": 100,
   "id": "90ee1c7f",
   "metadata": {},
   "outputs": [],
   "source": [
    "driver.get('https://www.amazon.in/')"
   ]
  },
  {
   "cell_type": "code",
   "execution_count": 101,
   "id": "e91e1961",
   "metadata": {},
   "outputs": [
    {
     "name": "stdout",
     "output_type": "stream",
     "text": [
      "please enter product here--->guitar\n"
     ]
    }
   ],
   "source": [
    "inputU = input('please enter product here--->')"
   ]
  },
  {
   "cell_type": "code",
   "execution_count": 102,
   "id": "3cbcae2a",
   "metadata": {},
   "outputs": [
    {
     "name": "stderr",
     "output_type": "stream",
     "text": [
      "C:\\Users\\patel\\AppData\\Local\\Temp/ipykernel_60880/2173146438.py:1: DeprecationWarning: find_element_by_xpath is deprecated. Please use find_element(by=By.XPATH, value=xpath) instead\n",
      "  search_bar = driver.find_element_by_xpath('//*[@id=\"twotabsearchtextbox\"]')\n",
      "C:\\Users\\patel\\AppData\\Local\\Temp/ipykernel_60880/2173146438.py:3: DeprecationWarning: find_element_by_xpath is deprecated. Please use find_element(by=By.XPATH, value=xpath) instead\n",
      "  search_button = driver.find_element_by_xpath('//*[@id=\"nav-search-submit-button\"]')\n"
     ]
    }
   ],
   "source": [
    "search_bar = driver.find_element_by_xpath('//*[@id=\"twotabsearchtextbox\"]')\n",
    "search_bar.send_keys(inputU)\n",
    "search_button = driver.find_element_by_xpath('//*[@id=\"nav-search-submit-button\"]')\n",
    "search_button.click() "
   ]
  },
  {
   "cell_type": "code",
   "execution_count": 103,
   "id": "c1e41b53",
   "metadata": {},
   "outputs": [],
   "source": [
    "productName=[]"
   ]
  },
  {
   "cell_type": "code",
   "execution_count": 111,
   "id": "73db928b",
   "metadata": {},
   "outputs": [
    {
     "name": "stdout",
     "output_type": "stream",
     "text": [
      "12 ['RESULTS', 'Kadence Guitar Acoustica Series, Electric Acoustic Guitar, Ash Wood with Pickup and Inbuilt tuner (Ash Wood, Electro Acoustic)', 'MORE RESULTS', 'RESULTS', 'Kadence Guitar Acoustica Series, Electric Acoustic Guitar, Ash Wood with Pickup and Inbuilt tuner (Ash Wood, Electro Acoustic)', 'MORE RESULTS', 'RESULTS', 'Kadence Guitar Acoustica Series, Electric Acoustic Guitar, Ash Wood with Pickup and Inbuilt tuner (Ash Wood, Electro Acoustic)', 'MORE RESULTS', 'RESULTS', 'Kadence Guitar Acoustica Series, Electric Acoustic Guitar, Ash Wood with Pickup and Inbuilt tuner (Ash Wood, Electro Acoustic)', 'MORE RESULTS']\n"
     ]
    },
    {
     "name": "stderr",
     "output_type": "stream",
     "text": [
      "C:\\Users\\patel\\AppData\\Local\\Temp/ipykernel_60880/782069977.py:2: DeprecationWarning: find_elements_by_xpath is deprecated. Please use find_elements(by=By.XPATH, value=xpath) instead\n",
      "  PName=driver.find_elements_by_xpath(\"//span[@class='a-size-medium a-color-base a-text-normal']\")\n"
     ]
    }
   ],
   "source": [
    "#scraping the Product_Name \n",
    "PName=driver.find_elements_by_xpath(\"//span[@class='a-size-medium a-color-base a-text-normal']\")\n",
    "for i in PName:\n",
    "    if i.text is None :\n",
    "        productName.append(\"--\") \n",
    "    else:\n",
    "        productName.append(i.text)\n",
    "print(len(productName),productName)"
   ]
  },
  {
   "cell_type": "markdown",
   "id": "4fdb7802",
   "metadata": {},
   "source": [
    "# Q-2 In the above question, now scrape the following details of each product listed in first 3 pages of your search results and save it in a data frame and csv. In case if any product has less than 3 pages in search results then scrape all the products available under that product name.\n",
    "\n",
    "Details to be scraped are: \"Brand Name\", \"Name of the Product\", \"Price\", \"Return/Exchange\", \"Expected Delivery\", \"Availability\" and “Product URL”. In case, if any of the details are missing for any of the product then replace it by “-“."
   ]
  },
  {
   "cell_type": "code",
   "execution_count": 118,
   "id": "e74fe611",
   "metadata": {},
   "outputs": [
    {
     "name": "stderr",
     "output_type": "stream",
     "text": [
      "C:\\Users\\patel\\AppData\\Local\\Temp/ipykernel_60880/3525066509.py:6: DeprecationWarning: find_elements_by_xpath is deprecated. Please use find_elements(by=By.XPATH, value=xpath) instead\n",
      "  page_urls = driver.find_elements_by_xpath('//a[@class=\"a-link-normal s-no-outline\"]')\n"
     ]
    },
    {
     "name": "stdout",
     "output_type": "stream",
     "text": [
      "Product urls of page 1 has been scraped.\n"
     ]
    },
    {
     "name": "stderr",
     "output_type": "stream",
     "text": [
      "C:\\Users\\patel\\AppData\\Local\\Temp/ipykernel_60880/3525066509.py:16: DeprecationWarning: find_element_by_xpath is deprecated. Please use find_element(by=By.XPATH, value=xpath) instead\n",
      "  nxt_button = driver.find_element_by_xpath('//li[@class=\"a-last\"]/a')      # Locating the next_button which is active\n"
     ]
    },
    {
     "ename": "NoSuchElementException",
     "evalue": "Message: no such element: Unable to locate element: {\"method\":\"xpath\",\"selector\":\"//li[@class=\"a-last\"]/a\"}\n  (Session info: chrome=101.0.4951.67)\nStacktrace:\nBacktrace:\n\tOrdinal0 [0x00587413+2389011]\n\tOrdinal0 [0x00519F61+1941345]\n\tOrdinal0 [0x0040C658+837208]\n\tOrdinal0 [0x004391DD+1020381]\n\tOrdinal0 [0x0043949B+1021083]\n\tOrdinal0 [0x00466032+1204274]\n\tOrdinal0 [0x00454194+1130900]\n\tOrdinal0 [0x00464302+1196802]\n\tOrdinal0 [0x00453F66+1130342]\n\tOrdinal0 [0x0042E546+976198]\n\tOrdinal0 [0x0042F456+980054]\n\tGetHandleVerifier [0x00739632+1727522]\n\tGetHandleVerifier [0x007EBA4D+2457661]\n\tGetHandleVerifier [0x0061EB81+569713]\n\tGetHandleVerifier [0x0061DD76+566118]\n\tOrdinal0 [0x00520B2B+1968939]\n\tOrdinal0 [0x00525988+1989000]\n\tOrdinal0 [0x00525A75+1989237]\n\tOrdinal0 [0x0052ECB1+2026673]\n\tBaseThreadInitThunk [0x75226739+25]\n\tRtlGetFullPathName_UEx [0x774D8FEF+1215]\n\tRtlGetFullPathName_UEx [0x774D8FBD+1165]\n",
     "output_type": "error",
     "traceback": [
      "\u001b[1;31m---------------------------------------------------------------------------\u001b[0m",
      "\u001b[1;31mNoSuchElementException\u001b[0m                    Traceback (most recent call last)",
      "\u001b[1;32m~\\AppData\\Local\\Temp/ipykernel_60880/3525066509.py\u001b[0m in \u001b[0;36m<module>\u001b[1;34m\u001b[0m\n\u001b[0;32m     14\u001b[0m \u001b[1;33m\u001b[0m\u001b[0m\n\u001b[0;32m     15\u001b[0m         \u001b[1;31m# Moving to next page\u001b[0m\u001b[1;33m\u001b[0m\u001b[1;33m\u001b[0m\u001b[0m\n\u001b[1;32m---> 16\u001b[1;33m         \u001b[0mnxt_button\u001b[0m \u001b[1;33m=\u001b[0m \u001b[0mdriver\u001b[0m\u001b[1;33m.\u001b[0m\u001b[0mfind_element_by_xpath\u001b[0m\u001b[1;33m(\u001b[0m\u001b[1;34m'//li[@class=\"a-last\"]/a'\u001b[0m\u001b[1;33m)\u001b[0m      \u001b[1;31m# Locating the next_button which is active\u001b[0m\u001b[1;33m\u001b[0m\u001b[1;33m\u001b[0m\u001b[0m\n\u001b[0m\u001b[0;32m     17\u001b[0m         \u001b[1;32mif\u001b[0m \u001b[0mnxt_button\u001b[0m\u001b[1;33m.\u001b[0m\u001b[0mtext\u001b[0m \u001b[1;33m==\u001b[0m \u001b[1;34m'Next→'\u001b[0m\u001b[1;33m:\u001b[0m                                            \u001b[1;31m# Checking if the button located is next button\u001b[0m\u001b[1;33m\u001b[0m\u001b[1;33m\u001b[0m\u001b[0m\n\u001b[0;32m     18\u001b[0m             \u001b[0mnxt_button\u001b[0m\u001b[1;33m.\u001b[0m\u001b[0mclick\u001b[0m\u001b[1;33m(\u001b[0m\u001b[1;33m)\u001b[0m                                                    \u001b[1;31m# Clicking the next button\u001b[0m\u001b[1;33m\u001b[0m\u001b[1;33m\u001b[0m\u001b[0m\n",
      "\u001b[1;32mC:\\ProgramData\\Anaconda3\\lib\\site-packages\\selenium\\webdriver\\remote\\webdriver.py\u001b[0m in \u001b[0;36mfind_element_by_xpath\u001b[1;34m(self, xpath)\u001b[0m\n\u001b[0;32m    519\u001b[0m             \u001b[0mstacklevel\u001b[0m\u001b[1;33m=\u001b[0m\u001b[1;36m2\u001b[0m\u001b[1;33m,\u001b[0m\u001b[1;33m\u001b[0m\u001b[1;33m\u001b[0m\u001b[0m\n\u001b[0;32m    520\u001b[0m         )\n\u001b[1;32m--> 521\u001b[1;33m         \u001b[1;32mreturn\u001b[0m \u001b[0mself\u001b[0m\u001b[1;33m.\u001b[0m\u001b[0mfind_element\u001b[0m\u001b[1;33m(\u001b[0m\u001b[0mby\u001b[0m\u001b[1;33m=\u001b[0m\u001b[0mBy\u001b[0m\u001b[1;33m.\u001b[0m\u001b[0mXPATH\u001b[0m\u001b[1;33m,\u001b[0m \u001b[0mvalue\u001b[0m\u001b[1;33m=\u001b[0m\u001b[0mxpath\u001b[0m\u001b[1;33m)\u001b[0m\u001b[1;33m\u001b[0m\u001b[1;33m\u001b[0m\u001b[0m\n\u001b[0m\u001b[0;32m    522\u001b[0m \u001b[1;33m\u001b[0m\u001b[0m\n\u001b[0;32m    523\u001b[0m     \u001b[1;32mdef\u001b[0m \u001b[0mfind_elements_by_xpath\u001b[0m\u001b[1;33m(\u001b[0m\u001b[0mself\u001b[0m\u001b[1;33m,\u001b[0m \u001b[0mxpath\u001b[0m\u001b[1;33m)\u001b[0m \u001b[1;33m->\u001b[0m \u001b[0mList\u001b[0m\u001b[1;33m[\u001b[0m\u001b[0mWebElement\u001b[0m\u001b[1;33m]\u001b[0m\u001b[1;33m:\u001b[0m\u001b[1;33m\u001b[0m\u001b[1;33m\u001b[0m\u001b[0m\n",
      "\u001b[1;32mC:\\ProgramData\\Anaconda3\\lib\\site-packages\\selenium\\webdriver\\remote\\webdriver.py\u001b[0m in \u001b[0;36mfind_element\u001b[1;34m(self, by, value)\u001b[0m\n\u001b[0;32m   1246\u001b[0m             \u001b[0mvalue\u001b[0m \u001b[1;33m=\u001b[0m \u001b[1;34m'[name=\"%s\"]'\u001b[0m \u001b[1;33m%\u001b[0m \u001b[0mvalue\u001b[0m\u001b[1;33m\u001b[0m\u001b[1;33m\u001b[0m\u001b[0m\n\u001b[0;32m   1247\u001b[0m \u001b[1;33m\u001b[0m\u001b[0m\n\u001b[1;32m-> 1248\u001b[1;33m         return self.execute(Command.FIND_ELEMENT, {\n\u001b[0m\u001b[0;32m   1249\u001b[0m             \u001b[1;34m'using'\u001b[0m\u001b[1;33m:\u001b[0m \u001b[0mby\u001b[0m\u001b[1;33m,\u001b[0m\u001b[1;33m\u001b[0m\u001b[1;33m\u001b[0m\u001b[0m\n\u001b[0;32m   1250\u001b[0m             'value': value})['value']\n",
      "\u001b[1;32mC:\\ProgramData\\Anaconda3\\lib\\site-packages\\selenium\\webdriver\\remote\\webdriver.py\u001b[0m in \u001b[0;36mexecute\u001b[1;34m(self, driver_command, params)\u001b[0m\n\u001b[0;32m    423\u001b[0m         \u001b[0mresponse\u001b[0m \u001b[1;33m=\u001b[0m \u001b[0mself\u001b[0m\u001b[1;33m.\u001b[0m\u001b[0mcommand_executor\u001b[0m\u001b[1;33m.\u001b[0m\u001b[0mexecute\u001b[0m\u001b[1;33m(\u001b[0m\u001b[0mdriver_command\u001b[0m\u001b[1;33m,\u001b[0m \u001b[0mparams\u001b[0m\u001b[1;33m)\u001b[0m\u001b[1;33m\u001b[0m\u001b[1;33m\u001b[0m\u001b[0m\n\u001b[0;32m    424\u001b[0m         \u001b[1;32mif\u001b[0m \u001b[0mresponse\u001b[0m\u001b[1;33m:\u001b[0m\u001b[1;33m\u001b[0m\u001b[1;33m\u001b[0m\u001b[0m\n\u001b[1;32m--> 425\u001b[1;33m             \u001b[0mself\u001b[0m\u001b[1;33m.\u001b[0m\u001b[0merror_handler\u001b[0m\u001b[1;33m.\u001b[0m\u001b[0mcheck_response\u001b[0m\u001b[1;33m(\u001b[0m\u001b[0mresponse\u001b[0m\u001b[1;33m)\u001b[0m\u001b[1;33m\u001b[0m\u001b[1;33m\u001b[0m\u001b[0m\n\u001b[0m\u001b[0;32m    426\u001b[0m             response['value'] = self._unwrap_value(\n\u001b[0;32m    427\u001b[0m                 response.get('value', None))\n",
      "\u001b[1;32mC:\\ProgramData\\Anaconda3\\lib\\site-packages\\selenium\\webdriver\\remote\\errorhandler.py\u001b[0m in \u001b[0;36mcheck_response\u001b[1;34m(self, response)\u001b[0m\n\u001b[0;32m    245\u001b[0m                 \u001b[0malert_text\u001b[0m \u001b[1;33m=\u001b[0m \u001b[0mvalue\u001b[0m\u001b[1;33m[\u001b[0m\u001b[1;34m'alert'\u001b[0m\u001b[1;33m]\u001b[0m\u001b[1;33m.\u001b[0m\u001b[0mget\u001b[0m\u001b[1;33m(\u001b[0m\u001b[1;34m'text'\u001b[0m\u001b[1;33m)\u001b[0m\u001b[1;33m\u001b[0m\u001b[1;33m\u001b[0m\u001b[0m\n\u001b[0;32m    246\u001b[0m             \u001b[1;32mraise\u001b[0m \u001b[0mexception_class\u001b[0m\u001b[1;33m(\u001b[0m\u001b[0mmessage\u001b[0m\u001b[1;33m,\u001b[0m \u001b[0mscreen\u001b[0m\u001b[1;33m,\u001b[0m \u001b[0mstacktrace\u001b[0m\u001b[1;33m,\u001b[0m \u001b[0malert_text\u001b[0m\u001b[1;33m)\u001b[0m  \u001b[1;31m# type: ignore[call-arg]  # mypy is not smart enough here\u001b[0m\u001b[1;33m\u001b[0m\u001b[1;33m\u001b[0m\u001b[0m\n\u001b[1;32m--> 247\u001b[1;33m         \u001b[1;32mraise\u001b[0m \u001b[0mexception_class\u001b[0m\u001b[1;33m(\u001b[0m\u001b[0mmessage\u001b[0m\u001b[1;33m,\u001b[0m \u001b[0mscreen\u001b[0m\u001b[1;33m,\u001b[0m \u001b[0mstacktrace\u001b[0m\u001b[1;33m)\u001b[0m\u001b[1;33m\u001b[0m\u001b[1;33m\u001b[0m\u001b[0m\n\u001b[0m\u001b[0;32m    248\u001b[0m \u001b[1;33m\u001b[0m\u001b[0m\n\u001b[0;32m    249\u001b[0m     \u001b[1;32mdef\u001b[0m \u001b[0m_value_or_default\u001b[0m\u001b[1;33m(\u001b[0m\u001b[0mself\u001b[0m\u001b[1;33m,\u001b[0m \u001b[0mobj\u001b[0m\u001b[1;33m:\u001b[0m \u001b[0mMapping\u001b[0m\u001b[1;33m[\u001b[0m\u001b[0m_KT\u001b[0m\u001b[1;33m,\u001b[0m \u001b[0m_VT\u001b[0m\u001b[1;33m]\u001b[0m\u001b[1;33m,\u001b[0m \u001b[0mkey\u001b[0m\u001b[1;33m:\u001b[0m \u001b[0m_KT\u001b[0m\u001b[1;33m,\u001b[0m \u001b[0mdefault\u001b[0m\u001b[1;33m:\u001b[0m \u001b[0m_VT\u001b[0m\u001b[1;33m)\u001b[0m \u001b[1;33m->\u001b[0m \u001b[0m_VT\u001b[0m\u001b[1;33m:\u001b[0m\u001b[1;33m\u001b[0m\u001b[1;33m\u001b[0m\u001b[0m\n",
      "\u001b[1;31mNoSuchElementException\u001b[0m: Message: no such element: Unable to locate element: {\"method\":\"xpath\",\"selector\":\"//li[@class=\"a-last\"]/a\"}\n  (Session info: chrome=101.0.4951.67)\nStacktrace:\nBacktrace:\n\tOrdinal0 [0x00587413+2389011]\n\tOrdinal0 [0x00519F61+1941345]\n\tOrdinal0 [0x0040C658+837208]\n\tOrdinal0 [0x004391DD+1020381]\n\tOrdinal0 [0x0043949B+1021083]\n\tOrdinal0 [0x00466032+1204274]\n\tOrdinal0 [0x00454194+1130900]\n\tOrdinal0 [0x00464302+1196802]\n\tOrdinal0 [0x00453F66+1130342]\n\tOrdinal0 [0x0042E546+976198]\n\tOrdinal0 [0x0042F456+980054]\n\tGetHandleVerifier [0x00739632+1727522]\n\tGetHandleVerifier [0x007EBA4D+2457661]\n\tGetHandleVerifier [0x0061EB81+569713]\n\tGetHandleVerifier [0x0061DD76+566118]\n\tOrdinal0 [0x00520B2B+1968939]\n\tOrdinal0 [0x00525988+1989000]\n\tOrdinal0 [0x00525A75+1989237]\n\tOrdinal0 [0x0052ECB1+2026673]\n\tBaseThreadInitThunk [0x75226739+25]\n\tRtlGetFullPathName_UEx [0x774D8FEF+1215]\n\tRtlGetFullPathName_UEx [0x774D8FBD+1165]\n"
     ]
    }
   ],
   "source": [
    "start_page = 0\n",
    "end_page = 3\n",
    "urls = []\n",
    "for page in range(start_page,end_page+1):\n",
    "    try:\n",
    "        page_urls = driver.find_elements_by_xpath('//a[@class=\"a-link-normal s-no-outline\"]')\n",
    "        \n",
    "        # appending all the urls on current page to urls list\n",
    "        for url in page_urls:\n",
    "            url = url.get_attribute('href')     # Scraping the url from webelement\n",
    "            if url[0:4]=='http':                # Checking if the scraped data is a valid url or not\n",
    "                urls.append(url)                # Appending the url to urls list\n",
    "        print(\"Product urls of page {} has been scraped.\".format(page+1))\n",
    "        \n",
    "        # Moving to next page\n",
    "        nxt_button = driver.find_element_by_xpath('//li[@class=\"a-last\"]/a')      # Locating the next_button which is active\n",
    "        if nxt_button.text == 'Next→':                                            # Checking if the button located is next button\n",
    "            nxt_button.click()                                                    # Clicking the next button\n",
    "            time.sleep(5)                                                         # time delay of 5 seconds\n",
    "        # If the current active button is not next button, the we will check if the next button is inactive or not    \n",
    "        elif driver.find_element_by_xpath('//li[@class=\"a-disabled a-last\"]/a').text == 'Next→':    \n",
    "            print(\"No new pages exist. Breaking the loop\")  # Printing message and breakinf loop if we have reached the last page\n",
    "            break\n",
    "            \n",
    "    except StaleElementReferenceException as e:             # Handling StaleElement Exception   \n",
    "        print(\"Stale Exception\")\n",
    "        next_page = nxt_button.get_attribute('href')        # Extracting the url of next page\n",
    "        driver.get(next_page)                               # ReLoading the next page"
   ]
  },
  {
   "cell_type": "code",
   "execution_count": 119,
   "id": "0904e2ca",
   "metadata": {},
   "outputs": [],
   "source": [
    "prod_dict = {}\n",
    "prod_dict['Brand']=[]\n",
    "prod_dict['Name']=[]\n",
    "prod_dict['Rating']=[]\n",
    "prod_dict['No. of ratings']=[]\n",
    "prod_dict['Price']=[]\n",
    "prod_dict['Return/Exchange']=[]\n",
    "prod_dict['Expected Delivery']=[] \n",
    "prod_dict['Availability']=[]\n",
    "prod_dict['Other Details']=[]\n",
    "prod_dict['URL']=[]"
   ]
  },
  {
   "cell_type": "code",
   "execution_count": 120,
   "id": "42f52c9b",
   "metadata": {},
   "outputs": [
    {
     "name": "stdout",
     "output_type": "stream",
     "text": [
      "Scraping URL =  https://www.amazon.in/gp/slredirect/picassoRedirect.html/ref=pa_sp_atf_aps_sr_pg1_1?ie=UTF8&adId=A0266550G4QCJGMMKGHT&url=%2FIntern-INT-38C-Acoustic-Guitar-Blue%2Fdp%2FB073B5RZBV%2Fref%3Dsr_1_1_sspa%3Fcrid%3D1N1HQHDLVQ7NI%26keywords%3Dguitar%26qid%3D1653280458%26sprefix%3D%252Caps%252C291%26sr%3D8-1-spons%26psc%3D1&qualifier=1653280458&id=3424555456023853&widgetName=sp_atf\n"
     ]
    },
    {
     "name": "stderr",
     "output_type": "stream",
     "text": [
      "C:\\Users\\patel\\AppData\\Local\\Temp/ipykernel_60880/417971486.py:7: DeprecationWarning: find_element_by_xpath is deprecated. Please use find_element(by=By.XPATH, value=xpath) instead\n",
      "  brand = driver.find_element_by_xpath('//a[@id=\"bylineInfo\"]')      # Extracting Brand from xpath\n",
      "C:\\Users\\patel\\AppData\\Local\\Temp/ipykernel_60880/417971486.py:13: DeprecationWarning: find_element_by_xpath is deprecated. Please use find_element(by=By.XPATH, value=xpath) instead\n",
      "  name = driver.find_element_by_xpath('//h1[@id=\"title\"]/span')      # Extracting Name from xpath\n",
      "C:\\Users\\patel\\AppData\\Local\\Temp/ipykernel_60880/417971486.py:19: DeprecationWarning: find_element_by_xpath is deprecated. Please use find_element(by=By.XPATH, value=xpath) instead\n",
      "  rating = driver.find_element_by_xpath('//span[@id=\"acrPopover\"]')  # Extracting Ratings from xpath\n",
      "C:\\Users\\patel\\AppData\\Local\\Temp/ipykernel_60880/417971486.py:25: DeprecationWarning: find_element_by_xpath is deprecated. Please use find_element(by=By.XPATH, value=xpath) instead\n",
      "  n_rating = driver.find_element_by_xpath('//a[@id=\"acrCustomerReviewLink\"]/span')     # Extracting no. of Ratings from xpath\n",
      "C:\\Users\\patel\\AppData\\Local\\Temp/ipykernel_60880/417971486.py:31: DeprecationWarning: find_element_by_xpath is deprecated. Please use find_element(by=By.XPATH, value=xpath) instead\n",
      "  price = driver.find_element_by_xpath('//span[@id=\"priceblock_ourprice\"]')            # Extracting Price from xpath\n",
      "C:\\Users\\patel\\AppData\\Local\\Temp/ipykernel_60880/417971486.py:36: DeprecationWarning: find_element_by_xpath is deprecated. Please use find_element(by=By.XPATH, value=xpath) instead\n",
      "  ret = driver.find_element_by_xpath('//div[@data-name=\"RETURNS_POLICY\"]/span/div[2]/a')\n",
      "C:\\Users\\patel\\AppData\\Local\\Temp/ipykernel_60880/417971486.py:41: DeprecationWarning: find_element_by_xpath is deprecated. Please use find_element(by=By.XPATH, value=xpath) instead\n",
      "  delivry = driver.find_element_by_xpath('//div[@id=\"ddmDeliveryMessage\"]/b')         # Extracting Expected Delivery from xpath\n",
      "C:\\Users\\patel\\AppData\\Local\\Temp/ipykernel_60880/417971486.py:47: DeprecationWarning: find_element_by_xpath is deprecated. Please use find_element(by=By.XPATH, value=xpath) instead\n",
      "  avl = driver.find_element_by_xpath('//div[@id=\"availability\"]/span')                # Extracting Availability from xpath\n",
      "C:\\Users\\patel\\AppData\\Local\\Temp/ipykernel_60880/417971486.py:53: DeprecationWarning: find_element_by_xpath is deprecated. Please use find_element(by=By.XPATH, value=xpath) instead\n",
      "  dtls = driver.find_element_by_xpath('//ul[@class=\"a-unordered-list a-vertical a-spacing-mini\"]')\n"
     ]
    },
    {
     "name": "stdout",
     "output_type": "stream",
     "text": [
      "Scraping URL =  https://www.amazon.in/gp/slredirect/picassoRedirect.html/ref=pa_sp_atf_aps_sr_pg1_1?ie=UTF8&adId=A01644433F0CMY8UBBMV0&url=%2FMedellin-carbn-fiber-guitar-38inch%2Fdp%2FB09MSKKHJC%2Fref%3Dsr_1_2_sspa%3Fcrid%3D1N1HQHDLVQ7NI%26keywords%3Dguitar%26qid%3D1653280458%26sprefix%3D%252Caps%252C291%26sr%3D8-2-spons%26psc%3D1&qualifier=1653280458&id=3424555456023853&widgetName=sp_atf\n",
      "Scraping URL =  https://www.amazon.in/gp/slredirect/picassoRedirect.html/ref=pa_sp_atf_aps_sr_pg1_1?ie=UTF8&adId=A061107531TUGN5RHMV0N&url=%2FKadence-Frontier-Acoustic-Guitar-Strings%2Fdp%2FB01GDZ46AA%2Fref%3Dsr_1_3_sspa%3Fcrid%3D1N1HQHDLVQ7NI%26keywords%3Dguitar%26qid%3D1653280458%26smid%3DAM04Z7MH4HSDD%26sprefix%3D%252Caps%252C291%26sr%3D8-3-spons%26psc%3D1%26smid%3DAM04Z7MH4HSDD&qualifier=1653280458&id=3424555456023853&widgetName=sp_atf\n",
      "Scraping URL =  https://www.amazon.in/gp/slredirect/picassoRedirect.html/ref=pa_sp_atf_aps_sr_pg1_1?ie=UTF8&adId=A05943171QMNRYXEQU6VJ&url=%2FRevel-RVL-38C-LGP-NT-Linden-Acoustic-Natural%2Fdp%2FB085HVRHPS%2Fref%3Dsr_1_4_sspa%3Fcrid%3D1N1HQHDLVQ7NI%26keywords%3Dguitar%26qid%3D1653280458%26sprefix%3D%252Caps%252C291%26sr%3D8-4-spons%26psc%3D1&qualifier=1653280458&id=3424555456023853&widgetName=sp_atf\n"
     ]
    }
   ],
   "source": [
    "for url in urls[:4]:\n",
    "    driver.get(url)                                                        # Loading the webpage by url\n",
    "    print(\"Scraping URL = \", url)\n",
    "    #time.sleep(2)\n",
    "    \n",
    "    try:\n",
    "        brand = driver.find_element_by_xpath('//a[@id=\"bylineInfo\"]')      # Extracting Brand from xpath\n",
    "        prod_dict['Brand'].append(brand.text)\n",
    "    except NoSuchElementException:\n",
    "        prod_dict['Brand'].append('-')\n",
    "    \n",
    "    try:\n",
    "        name = driver.find_element_by_xpath('//h1[@id=\"title\"]/span')      # Extracting Name from xpath\n",
    "        prod_dict['Name'].append(name.text)\n",
    "    except NoSuchElementException:\n",
    "        prod_dict['Name'].append('-')\n",
    "    \n",
    "    try:\n",
    "        rating = driver.find_element_by_xpath('//span[@id=\"acrPopover\"]')  # Extracting Ratings from xpath\n",
    "        prod_dict['Rating'].append(rating.get_attribute(\"title\"))\n",
    "    except NoSuchElementException:\n",
    "        prod_dict['Rating'].append('-')\n",
    "    \n",
    "    try:\n",
    "        n_rating = driver.find_element_by_xpath('//a[@id=\"acrCustomerReviewLink\"]/span')     # Extracting no. of Ratings from xpath\n",
    "        prod_dict['No. of ratings'].append(n_rating.text)\n",
    "    except NoSuchElementException:\n",
    "        prod_dict['No. of ratings'].append('-')\n",
    "    \n",
    "    try:\n",
    "        price = driver.find_element_by_xpath('//span[@id=\"priceblock_ourprice\"]')            # Extracting Price from xpath\n",
    "        prod_dict['Price'].append(price.text)\n",
    "    except NoSuchElementException:\n",
    "        prod_dict['Price'].append('-')\n",
    "    try:                                                                                     # Extracting Return/Exchange policy from xpath\n",
    "        ret = driver.find_element_by_xpath('//div[@data-name=\"RETURNS_POLICY\"]/span/div[2]/a')\n",
    "        prod_dict['Return/Exchange'].append(ret.text)\n",
    "    except NoSuchElementException:\n",
    "        prod_dict['Return/Exchange'].append('-')\n",
    "    try:\n",
    "        delivry = driver.find_element_by_xpath('//div[@id=\"ddmDeliveryMessage\"]/b')         # Extracting Expected Delivery from xpath\n",
    "        prod_dict['Expected Delivery'].append(delivry.text)\n",
    "    except NoSuchElementException:\n",
    "        prod_dict['Expected Delivery'].append('-')\n",
    "    \n",
    "    try:\n",
    "        avl = driver.find_element_by_xpath('//div[@id=\"availability\"]/span')                # Extracting Availability from xpath\n",
    "        prod_dict['Availability'].append(avl.text)\n",
    "    except NoSuchElementException:\n",
    "        prod_dict['Availability'].append('-')\n",
    "    \n",
    "    try:                                                                                    # Extracting Other Details from xpath\n",
    "        dtls = driver.find_element_by_xpath('//ul[@class=\"a-unordered-list a-vertical a-spacing-mini\"]')\n",
    "        prod_dict['Other Details'].append('  ||  '.join(dtls.text.split('\\n')))\n",
    "    except NoSuchElementException:\n",
    "        prod_dict['Other Details'].append('-')\n",
    "    \n",
    "    prod_dict['URL'].append(url)                                                            # Saving url\n",
    "    time.sleep(2)"
   ]
  },
  {
   "cell_type": "code",
   "execution_count": 121,
   "id": "f1df2d4f",
   "metadata": {},
   "outputs": [
    {
     "data": {
      "text/html": [
       "<div>\n",
       "<style scoped>\n",
       "    .dataframe tbody tr th:only-of-type {\n",
       "        vertical-align: middle;\n",
       "    }\n",
       "\n",
       "    .dataframe tbody tr th {\n",
       "        vertical-align: top;\n",
       "    }\n",
       "\n",
       "    .dataframe thead th {\n",
       "        text-align: right;\n",
       "    }\n",
       "</style>\n",
       "<table border=\"1\" class=\"dataframe\">\n",
       "  <thead>\n",
       "    <tr style=\"text-align: right;\">\n",
       "      <th></th>\n",
       "      <th>Brand</th>\n",
       "      <th>Name</th>\n",
       "      <th>Rating</th>\n",
       "      <th>No. of ratings</th>\n",
       "      <th>Price</th>\n",
       "      <th>Return/Exchange</th>\n",
       "      <th>Expected Delivery</th>\n",
       "      <th>Availability</th>\n",
       "      <th>Other Details</th>\n",
       "      <th>URL</th>\n",
       "    </tr>\n",
       "  </thead>\n",
       "  <tbody>\n",
       "    <tr>\n",
       "      <th>0</th>\n",
       "      <td>Visit the Intern Store</td>\n",
       "      <td>Intern INT-38C Acoustic Guitar Kit, With Bag, ...</td>\n",
       "      <td>4.0 out of 5 stars</td>\n",
       "      <td>10,027 ratings</td>\n",
       "      <td>-</td>\n",
       "      <td>7 Days Replacement</td>\n",
       "      <td>-</td>\n",
       "      <td>Only 2 left in stock.</td>\n",
       "      <td>Great looks with an innovative design to produ...</td>\n",
       "      <td>https://www.amazon.in/gp/slredirect/picassoRed...</td>\n",
       "    </tr>\n",
       "    <tr>\n",
       "      <th>1</th>\n",
       "      <td>Brand: Medellin</td>\n",
       "      <td>Medellin carbn fiber guitar 38inch (BROWN)</td>\n",
       "      <td>3.6 out of 5 stars</td>\n",
       "      <td>85 ratings</td>\n",
       "      <td>-</td>\n",
       "      <td>7 Days Replacement</td>\n",
       "      <td>-</td>\n",
       "      <td>In stock.</td>\n",
       "      <td>♫ CARBON FIBER GUITAR: As a substitute for ton...</td>\n",
       "      <td>https://www.amazon.in/gp/slredirect/picassoRed...</td>\n",
       "    </tr>\n",
       "    <tr>\n",
       "      <th>2</th>\n",
       "      <td>Visit the Kadence Store</td>\n",
       "      <td>Kadence Frontier guitar with Online Guitar lea...</td>\n",
       "      <td>4.0 out of 5 stars</td>\n",
       "      <td>1,481 ratings</td>\n",
       "      <td>-</td>\n",
       "      <td>7 Days Replacement</td>\n",
       "      <td>Saturday, May 28</td>\n",
       "      <td></td>\n",
       "      <td>★ Design - The High Gloss finish, Simple head ...</td>\n",
       "      <td>https://www.amazon.in/gp/slredirect/picassoRed...</td>\n",
       "    </tr>\n",
       "    <tr>\n",
       "      <th>3</th>\n",
       "      <td>Brand: Revel</td>\n",
       "      <td>Revel 38 Inches Cutaway Design Acoustic Guitar...</td>\n",
       "      <td>5.0 out of 5 stars</td>\n",
       "      <td>1 rating</td>\n",
       "      <td>-</td>\n",
       "      <td>7 Days Replacement</td>\n",
       "      <td>-</td>\n",
       "      <td>In stock.</td>\n",
       "      <td>Great looks with an innovative design for easy...</td>\n",
       "      <td>https://www.amazon.in/gp/slredirect/picassoRed...</td>\n",
       "    </tr>\n",
       "  </tbody>\n",
       "</table>\n",
       "</div>"
      ],
      "text/plain": [
       "                     Brand                                               Name  \\\n",
       "0   Visit the Intern Store  Intern INT-38C Acoustic Guitar Kit, With Bag, ...   \n",
       "1          Brand: Medellin         Medellin carbn fiber guitar 38inch (BROWN)   \n",
       "2  Visit the Kadence Store  Kadence Frontier guitar with Online Guitar lea...   \n",
       "3             Brand: Revel  Revel 38 Inches Cutaway Design Acoustic Guitar...   \n",
       "\n",
       "               Rating  No. of ratings Price     Return/Exchange  \\\n",
       "0  4.0 out of 5 stars  10,027 ratings     -  7 Days Replacement   \n",
       "1  3.6 out of 5 stars      85 ratings     -  7 Days Replacement   \n",
       "2  4.0 out of 5 stars   1,481 ratings     -  7 Days Replacement   \n",
       "3  5.0 out of 5 stars        1 rating     -  7 Days Replacement   \n",
       "\n",
       "  Expected Delivery           Availability  \\\n",
       "0                 -  Only 2 left in stock.   \n",
       "1                 -              In stock.   \n",
       "2  Saturday, May 28                          \n",
       "3                 -              In stock.   \n",
       "\n",
       "                                       Other Details  \\\n",
       "0  Great looks with an innovative design to produ...   \n",
       "1  ♫ CARBON FIBER GUITAR: As a substitute for ton...   \n",
       "2  ★ Design - The High Gloss finish, Simple head ...   \n",
       "3  Great looks with an innovative design for easy...   \n",
       "\n",
       "                                                 URL  \n",
       "0  https://www.amazon.in/gp/slredirect/picassoRed...  \n",
       "1  https://www.amazon.in/gp/slredirect/picassoRed...  \n",
       "2  https://www.amazon.in/gp/slredirect/picassoRed...  \n",
       "3  https://www.amazon.in/gp/slredirect/picassoRed...  "
      ]
     },
     "execution_count": 121,
     "metadata": {},
     "output_type": "execute_result"
    }
   ],
   "source": [
    "prod_df = pd.DataFrame.from_dict(prod_dict)\n",
    "prod_df"
   ]
  },
  {
   "cell_type": "code",
   "execution_count": 122,
   "id": "f9f0fff4",
   "metadata": {},
   "outputs": [],
   "source": [
    "#saving data to csv\n",
    "prod_df.to_csv('Amazon_{}.csv'.format(inputU))"
   ]
  },
  {
   "cell_type": "code",
   "execution_count": null,
   "id": "faf0a4dd",
   "metadata": {},
   "outputs": [],
   "source": []
  }
 ],
 "metadata": {
  "kernelspec": {
   "display_name": "Python 3 (ipykernel)",
   "language": "python",
   "name": "python3"
  },
  "language_info": {
   "codemirror_mode": {
    "name": "ipython",
    "version": 3
   },
   "file_extension": ".py",
   "mimetype": "text/x-python",
   "name": "python",
   "nbconvert_exporter": "python",
   "pygments_lexer": "ipython3",
   "version": "3.9.7"
  }
 },
 "nbformat": 4,
 "nbformat_minor": 5
}

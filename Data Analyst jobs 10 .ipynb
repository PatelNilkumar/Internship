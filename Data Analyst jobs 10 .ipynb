{
 "cells": [
  {
   "cell_type": "code",
   "execution_count": 1,
   "id": "cbda8370",
   "metadata": {},
   "outputs": [
    {
     "name": "stdout",
     "output_type": "stream",
     "text": [
      "Requirement already satisfied: selenium in c:\\programdata\\anaconda3\\lib\\site-packages (4.1.3)\n",
      "Requirement already satisfied: trio-websocket~=0.9 in c:\\programdata\\anaconda3\\lib\\site-packages (from selenium) (0.9.2)\n",
      "Requirement already satisfied: urllib3[secure,socks]~=1.26 in c:\\programdata\\anaconda3\\lib\\site-packages (from selenium) (1.26.7)\n",
      "Requirement already satisfied: trio~=0.17 in c:\\programdata\\anaconda3\\lib\\site-packages (from selenium) (0.20.0)\n",
      "Requirement already satisfied: sortedcontainers in c:\\programdata\\anaconda3\\lib\\site-packages (from trio~=0.17->selenium) (2.4.0)\n",
      "Requirement already satisfied: cffi>=1.14 in c:\\programdata\\anaconda3\\lib\\site-packages (from trio~=0.17->selenium) (1.14.6)\n",
      "Requirement already satisfied: outcome in c:\\programdata\\anaconda3\\lib\\site-packages (from trio~=0.17->selenium) (1.1.0)\n",
      "Requirement already satisfied: async-generator>=1.9 in c:\\programdata\\anaconda3\\lib\\site-packages (from trio~=0.17->selenium) (1.10)\n",
      "Requirement already satisfied: idna in c:\\programdata\\anaconda3\\lib\\site-packages (from trio~=0.17->selenium) (3.2)\n",
      "Requirement already satisfied: sniffio in c:\\programdata\\anaconda3\\lib\\site-packages (from trio~=0.17->selenium) (1.2.0)\n",
      "Requirement already satisfied: attrs>=19.2.0 in c:\\programdata\\anaconda3\\lib\\site-packages (from trio~=0.17->selenium) (21.2.0)\n",
      "Requirement already satisfied: pycparser in c:\\programdata\\anaconda3\\lib\\site-packages (from cffi>=1.14->trio~=0.17->selenium) (2.20)\n",
      "Requirement already satisfied: wsproto>=0.14 in c:\\programdata\\anaconda3\\lib\\site-packages (from trio-websocket~=0.9->selenium) (1.1.0)\n",
      "Requirement already satisfied: PySocks!=1.5.7,<2.0,>=1.5.6 in c:\\programdata\\anaconda3\\lib\\site-packages (from urllib3[secure,socks]~=1.26->selenium) (1.7.1)\n",
      "Requirement already satisfied: pyOpenSSL>=0.14 in c:\\programdata\\anaconda3\\lib\\site-packages (from urllib3[secure,socks]~=1.26->selenium) (21.0.0)\n",
      "Requirement already satisfied: cryptography>=1.3.4 in c:\\programdata\\anaconda3\\lib\\site-packages (from urllib3[secure,socks]~=1.26->selenium) (3.4.8)\n",
      "Requirement already satisfied: certifi in c:\\programdata\\anaconda3\\lib\\site-packages (from urllib3[secure,socks]~=1.26->selenium) (2021.10.8)\n",
      "Requirement already satisfied: six>=1.5.2 in c:\\programdata\\anaconda3\\lib\\site-packages (from pyOpenSSL>=0.14->urllib3[secure,socks]~=1.26->selenium) (1.16.0)\n",
      "Requirement already satisfied: h11<1,>=0.9.0 in c:\\programdata\\anaconda3\\lib\\site-packages (from wsproto>=0.14->trio-websocket~=0.9->selenium) (0.13.0)\n"
     ]
    }
   ],
   "source": [
    "!pip install selenium"
   ]
  },
  {
   "cell_type": "code",
   "execution_count": 2,
   "id": "0109a6d9",
   "metadata": {},
   "outputs": [],
   "source": [
    "import selenium\n",
    "import pandas as pd \n",
    "from selenium import webdriver\n",
    "import warnings\n",
    "warnings.filterwarnings(\"ignore\")\n",
    "import time"
   ]
  },
  {
   "cell_type": "code",
   "execution_count": 3,
   "id": "a6eb3476",
   "metadata": {},
   "outputs": [],
   "source": [
    "driver = webdriver.Chrome(r\"C:\\Users\\patel\\Downloads\\chromedriver_win32\\chromedriver.exe\")"
   ]
  },
  {
   "cell_type": "code",
   "execution_count": 9,
   "id": "f2094915",
   "metadata": {},
   "outputs": [],
   "source": [
    "driver=webdriver.Chrome(\"chromedriver.exe\")\n",
    "time.sleep(2)"
   ]
  },
  {
   "cell_type": "code",
   "execution_count": 7,
   "id": "40dff175",
   "metadata": {},
   "outputs": [],
   "source": [
    "driver.close()"
   ]
  },
  {
   "cell_type": "code",
   "execution_count": 10,
   "id": "5321ad5c",
   "metadata": {},
   "outputs": [],
   "source": [
    "driver.get('https://www.naukri.com/')"
   ]
  },
  {
   "cell_type": "code",
   "execution_count": 11,
   "id": "2e044188",
   "metadata": {},
   "outputs": [],
   "source": [
    "search_field_designation=driver.find_element_by_class_name(\"suggestor-input \") \n",
    "search_field_designation.send_keys(\"Data Analyst\")\n",
    "search_field_location=driver.find_element_by_xpath('/html/body/div/div[2]/div[3]/div/div/div[3]/div/div/div/input')\n",
    "search_field_location.send_keys(\"Bangalore\")"
   ]
  },
  {
   "cell_type": "code",
   "execution_count": 12,
   "id": "f3a569b8",
   "metadata": {},
   "outputs": [],
   "source": [
    "search_button=driver.find_element_by_xpath('/html/body/div/div[2]/div[3]/div/div/div[6]')\n",
    "search_button.click()"
   ]
  },
  {
   "cell_type": "code",
   "execution_count": 13,
   "id": "1d620df4",
   "metadata": {},
   "outputs": [],
   "source": [
    "url=\"https://www.naukri.com/data-analyst-jobs-in-bangalore?k=data%20analyst&l=bangalore\""
   ]
  },
  {
   "cell_type": "code",
   "execution_count": 14,
   "id": "5bf503e5",
   "metadata": {},
   "outputs": [],
   "source": [
    "driver.get(url)"
   ]
  },
  {
   "cell_type": "code",
   "execution_count": 15,
   "id": "de9bb2ce",
   "metadata": {},
   "outputs": [],
   "source": [
    "job_titles=[]\n",
    "company_names=[]\n",
    "locations_list=[]\n",
    "experience_list=[]"
   ]
  },
  {
   "cell_type": "code",
   "execution_count": 16,
   "id": "3986c7ec",
   "metadata": {},
   "outputs": [
    {
     "data": {
      "text/plain": [
       "[<selenium.webdriver.remote.webelement.WebElement (session=\"3a99d74ddde0532116b6d439574b97dc\", element=\"e37c2757-3fe5-4c29-afb1-45401795cba5\")>,\n",
       " <selenium.webdriver.remote.webelement.WebElement (session=\"3a99d74ddde0532116b6d439574b97dc\", element=\"d7ae9872-798a-48b7-bdf4-db287730b07d\")>,\n",
       " <selenium.webdriver.remote.webelement.WebElement (session=\"3a99d74ddde0532116b6d439574b97dc\", element=\"f785b370-97a8-4ee0-85ac-6fde25f58e40\")>,\n",
       " <selenium.webdriver.remote.webelement.WebElement (session=\"3a99d74ddde0532116b6d439574b97dc\", element=\"34119837-b19a-46f4-8a36-27c2eac52862\")>,\n",
       " <selenium.webdriver.remote.webelement.WebElement (session=\"3a99d74ddde0532116b6d439574b97dc\", element=\"5a7de25c-f4b8-4d30-acf1-ca3941a77b3a\")>,\n",
       " <selenium.webdriver.remote.webelement.WebElement (session=\"3a99d74ddde0532116b6d439574b97dc\", element=\"317652ba-d67d-4287-9118-07d98337cc36\")>,\n",
       " <selenium.webdriver.remote.webelement.WebElement (session=\"3a99d74ddde0532116b6d439574b97dc\", element=\"76c008c2-a937-4021-a28e-6795406d0ff1\")>,\n",
       " <selenium.webdriver.remote.webelement.WebElement (session=\"3a99d74ddde0532116b6d439574b97dc\", element=\"e592a919-e269-4d7e-ad92-a094d3e7fc77\")>,\n",
       " <selenium.webdriver.remote.webelement.WebElement (session=\"3a99d74ddde0532116b6d439574b97dc\", element=\"3995941e-de6e-43aa-aea9-f0cda63df702\")>,\n",
       " <selenium.webdriver.remote.webelement.WebElement (session=\"3a99d74ddde0532116b6d439574b97dc\", element=\"75bfd0b0-cc55-44b0-a35e-db92a047918b\")>]"
      ]
     },
     "execution_count": 16,
     "metadata": {},
     "output_type": "execute_result"
    }
   ],
   "source": [
    "titles_tags=driver.find_elements_by_xpath(\"//a[@class='title fw500 ellipsis']\")\n",
    "titles_tags[0:10]"
   ]
  },
  {
   "cell_type": "code",
   "execution_count": 17,
   "id": "efcfdeb5",
   "metadata": {},
   "outputs": [
    {
     "data": {
      "text/plain": [
       "['Senior Data Analyst II',\n",
       " 'Senior Data Analyst II',\n",
       " 'Data Analysts with Business Analysis',\n",
       " 'Data Analyst / Data Engineer',\n",
       " 'Senior Data Analyst',\n",
       " 'Sr Domain Expert -Data Analysts',\n",
       " 'Business Analyst/Data Analyst',\n",
       " 'Senior Data Analyst - KPO',\n",
       " 'Senior Data Analyst',\n",
       " 'Consultant - Data Analyst']"
      ]
     },
     "execution_count": 17,
     "metadata": {},
     "output_type": "execute_result"
    }
   ],
   "source": [
    "for i in titles_tags:\n",
    "    title=i.text\n",
    "    job_titles.append(title)\n",
    "job_titles[0:10]    "
   ]
  },
  {
   "cell_type": "code",
   "execution_count": 18,
   "id": "24c1c114",
   "metadata": {},
   "outputs": [
    {
     "data": {
      "text/plain": [
       "[<selenium.webdriver.remote.webelement.WebElement (session=\"3a99d74ddde0532116b6d439574b97dc\", element=\"25a7132d-7b77-41bc-9705-925a90ecfbc2\")>,\n",
       " <selenium.webdriver.remote.webelement.WebElement (session=\"3a99d74ddde0532116b6d439574b97dc\", element=\"f042c6ce-4a23-4533-8a1c-e8207c9f51c7\")>,\n",
       " <selenium.webdriver.remote.webelement.WebElement (session=\"3a99d74ddde0532116b6d439574b97dc\", element=\"26f8f7f1-091c-4198-bdb8-8f39aa86db57\")>,\n",
       " <selenium.webdriver.remote.webelement.WebElement (session=\"3a99d74ddde0532116b6d439574b97dc\", element=\"d7a07fa5-8345-460d-a172-8a46e1d53838\")>,\n",
       " <selenium.webdriver.remote.webelement.WebElement (session=\"3a99d74ddde0532116b6d439574b97dc\", element=\"fc1546aa-bb9f-437e-a76a-3d128e74b933\")>,\n",
       " <selenium.webdriver.remote.webelement.WebElement (session=\"3a99d74ddde0532116b6d439574b97dc\", element=\"7b000637-fa1b-4b24-bb8b-3cee5429efbe\")>,\n",
       " <selenium.webdriver.remote.webelement.WebElement (session=\"3a99d74ddde0532116b6d439574b97dc\", element=\"63f4b2e3-7aa0-48af-85c9-4939f3805e07\")>,\n",
       " <selenium.webdriver.remote.webelement.WebElement (session=\"3a99d74ddde0532116b6d439574b97dc\", element=\"cffca4eb-7085-4d4b-95b7-90051ec685e5\")>,\n",
       " <selenium.webdriver.remote.webelement.WebElement (session=\"3a99d74ddde0532116b6d439574b97dc\", element=\"4ba79309-d7e3-4aba-b910-0f2c9bbcf947\")>,\n",
       " <selenium.webdriver.remote.webelement.WebElement (session=\"3a99d74ddde0532116b6d439574b97dc\", element=\"474f5ef8-5704-4704-a53e-c2f6f640e4b6\")>]"
      ]
     },
     "execution_count": 18,
     "metadata": {},
     "output_type": "execute_result"
    }
   ],
   "source": [
    "companies_tags=driver.find_elements_by_xpath(\"//a[@class='subTitle ellipsis fleft']\")\n",
    "companies_tags[0:10]"
   ]
  },
  {
   "cell_type": "code",
   "execution_count": 19,
   "id": "90c1fe61",
   "metadata": {},
   "outputs": [
    {
     "data": {
      "text/plain": [
       "['Flipkart',\n",
       " 'Flipkart',\n",
       " 'Avanze Technologies India Pvt. Ltd.',\n",
       " 'TALENT MAX HR & MANAGEMENT CONSULTANTS',\n",
       " 'Flipkart',\n",
       " 'Siemens',\n",
       " 'Telamon HR Solutions',\n",
       " 'Huquo Consulting Pvt. Ltd',\n",
       " 'Cerner',\n",
       " 'Flipkart']"
      ]
     },
     "execution_count": 19,
     "metadata": {},
     "output_type": "execute_result"
    }
   ],
   "source": [
    "for i in companies_tags:\n",
    "    company_name=i.text\n",
    "    company_names.append(company_name)\n",
    "company_names[0:10]    "
   ]
  },
  {
   "cell_type": "code",
   "execution_count": 20,
   "id": "85effde7",
   "metadata": {},
   "outputs": [
    {
     "data": {
      "text/plain": [
       "[<selenium.webdriver.remote.webelement.WebElement (session=\"3a99d74ddde0532116b6d439574b97dc\", element=\"a1fbdcc5-2d48-455f-a82b-ae22bae5664b\")>,\n",
       " <selenium.webdriver.remote.webelement.WebElement (session=\"3a99d74ddde0532116b6d439574b97dc\", element=\"a5d6a06a-292e-452d-8a4c-3af457c3499a\")>,\n",
       " <selenium.webdriver.remote.webelement.WebElement (session=\"3a99d74ddde0532116b6d439574b97dc\", element=\"f9220045-ec6b-44ac-bb03-442e3f69a61f\")>,\n",
       " <selenium.webdriver.remote.webelement.WebElement (session=\"3a99d74ddde0532116b6d439574b97dc\", element=\"c18fd380-a1bd-4e6f-9e42-3c977be6b226\")>,\n",
       " <selenium.webdriver.remote.webelement.WebElement (session=\"3a99d74ddde0532116b6d439574b97dc\", element=\"93f1a0e9-cee2-4e41-88e4-1b1a4d093613\")>,\n",
       " <selenium.webdriver.remote.webelement.WebElement (session=\"3a99d74ddde0532116b6d439574b97dc\", element=\"de1ddb92-5ccd-4fc3-86fc-cb1e987af221\")>,\n",
       " <selenium.webdriver.remote.webelement.WebElement (session=\"3a99d74ddde0532116b6d439574b97dc\", element=\"e103625b-308d-4836-814c-c2e92ebb8a08\")>,\n",
       " <selenium.webdriver.remote.webelement.WebElement (session=\"3a99d74ddde0532116b6d439574b97dc\", element=\"2691f7de-6cb6-401b-815a-76374e4e9569\")>,\n",
       " <selenium.webdriver.remote.webelement.WebElement (session=\"3a99d74ddde0532116b6d439574b97dc\", element=\"e1d2deaa-d618-45bd-9a70-74a918d0c16f\")>,\n",
       " <selenium.webdriver.remote.webelement.WebElement (session=\"3a99d74ddde0532116b6d439574b97dc\", element=\"990dcd35-9640-499e-9c5b-088751aec0fe\")>]"
      ]
     },
     "execution_count": 20,
     "metadata": {},
     "output_type": "execute_result"
    }
   ],
   "source": [
    "experience_tags=driver.find_elements_by_xpath(\"//li[@class='fleft grey-text br2 placeHolderLi experience']\")\n",
    "experience_tags[0:10]"
   ]
  },
  {
   "cell_type": "code",
   "execution_count": 21,
   "id": "94e5a9fc",
   "metadata": {},
   "outputs": [
    {
     "data": {
      "text/plain": [
       "['2-4 Yrs',\n",
       " '3-6 Yrs',\n",
       " '6-8 Yrs',\n",
       " '8-13 Yrs',\n",
       " '4-6 Yrs',\n",
       " '0-10 Yrs',\n",
       " '3-5 Yrs',\n",
       " '7-12 Yrs',\n",
       " '8-12 Yrs',\n",
       " '1-3 Yrs']"
      ]
     },
     "execution_count": 21,
     "metadata": {},
     "output_type": "execute_result"
    }
   ],
   "source": [
    "for i in experience_tags:\n",
    "    experience=i.text\n",
    "    experience_list.append(experience)\n",
    "experience_list[0:10]    "
   ]
  },
  {
   "cell_type": "code",
   "execution_count": 22,
   "id": "ff69592a",
   "metadata": {},
   "outputs": [
    {
     "data": {
      "text/plain": [
       "[<selenium.webdriver.remote.webelement.WebElement (session=\"3a99d74ddde0532116b6d439574b97dc\", element=\"0aa3d310-735b-4ad8-98a9-eeabc61dfd15\")>,\n",
       " <selenium.webdriver.remote.webelement.WebElement (session=\"3a99d74ddde0532116b6d439574b97dc\", element=\"60504289-c21d-47b1-9255-048545220d6f\")>,\n",
       " <selenium.webdriver.remote.webelement.WebElement (session=\"3a99d74ddde0532116b6d439574b97dc\", element=\"ef747207-1350-48d5-97e5-5370b34e6d83\")>,\n",
       " <selenium.webdriver.remote.webelement.WebElement (session=\"3a99d74ddde0532116b6d439574b97dc\", element=\"bd0a95d3-c520-4c1f-adeb-38661a11120b\")>,\n",
       " <selenium.webdriver.remote.webelement.WebElement (session=\"3a99d74ddde0532116b6d439574b97dc\", element=\"636ee796-156a-41d4-be3e-830bd2d2e9fb\")>,\n",
       " <selenium.webdriver.remote.webelement.WebElement (session=\"3a99d74ddde0532116b6d439574b97dc\", element=\"99304791-3a43-4b32-a615-368ebfb15560\")>,\n",
       " <selenium.webdriver.remote.webelement.WebElement (session=\"3a99d74ddde0532116b6d439574b97dc\", element=\"3cfa86bd-ba8a-49dc-b0a2-6a83b6eccc8d\")>,\n",
       " <selenium.webdriver.remote.webelement.WebElement (session=\"3a99d74ddde0532116b6d439574b97dc\", element=\"3a8bcd66-faad-4a85-9560-99464a7f5616\")>,\n",
       " <selenium.webdriver.remote.webelement.WebElement (session=\"3a99d74ddde0532116b6d439574b97dc\", element=\"59fb7689-08c4-4cfc-9125-cea4b470830f\")>,\n",
       " <selenium.webdriver.remote.webelement.WebElement (session=\"3a99d74ddde0532116b6d439574b97dc\", element=\"bee10851-468d-44ef-ba4a-3c364b25aa78\")>]"
      ]
     },
     "execution_count": 22,
     "metadata": {},
     "output_type": "execute_result"
    }
   ],
   "source": [
    "locations_tags=driver.find_elements_by_xpath(\"//li[@class='fleft grey-text br2 placeHolderLi location']\")\n",
    "locations_tags[0:10]"
   ]
  },
  {
   "cell_type": "code",
   "execution_count": 23,
   "id": "8f764a2c",
   "metadata": {},
   "outputs": [
    {
     "data": {
      "text/plain": [
       "['Bangalore/Bengaluru',\n",
       " 'Bangalore/Bengaluru',\n",
       " 'Bangalore/Bengaluru',\n",
       " 'Indore, Pune, Bangalore/Bengaluru',\n",
       " 'Bangalore/Bengaluru',\n",
       " 'Bangalore/Bengaluru',\n",
       " 'Hyderabad/Secunderabad, Bangalore/Bengaluru, Delhi / NCR',\n",
       " 'Gurgaon/Gurugram, Bangalore/Bengaluru',\n",
       " 'Bangalore/Bengaluru',\n",
       " 'Bangalore/Bengaluru']"
      ]
     },
     "execution_count": 23,
     "metadata": {},
     "output_type": "execute_result"
    }
   ],
   "source": [
    "for i in locations_tags:\n",
    "    location=i.text\n",
    "    locations_list.append(location)\n",
    "locations_list[0:10]    "
   ]
  },
  {
   "cell_type": "code",
   "execution_count": 32,
   "id": "df11fbdc",
   "metadata": {},
   "outputs": [
    {
     "name": "stdout",
     "output_type": "stream",
     "text": [
      "20 20 20 20\n"
     ]
    }
   ],
   "source": [
    "print(len(job_titles),len(company_names),len(experience_list),len(locations_list))"
   ]
  },
  {
   "cell_type": "code",
   "execution_count": 34,
   "id": "58602ed5",
   "metadata": {},
   "outputs": [],
   "source": [
    "jobs=pd.DataFrame({})\n",
    "jobs['title']=job_titles\n",
    "jobs['company']=company_names\n",
    "jobs['experience_required']=experience_list\n",
    "jobs['location']=locations_list"
   ]
  },
  {
   "cell_type": "code",
   "execution_count": 35,
   "id": "ee1b127c",
   "metadata": {},
   "outputs": [
    {
     "data": {
      "text/html": [
       "<div>\n",
       "<style scoped>\n",
       "    .dataframe tbody tr th:only-of-type {\n",
       "        vertical-align: middle;\n",
       "    }\n",
       "\n",
       "    .dataframe tbody tr th {\n",
       "        vertical-align: top;\n",
       "    }\n",
       "\n",
       "    .dataframe thead th {\n",
       "        text-align: right;\n",
       "    }\n",
       "</style>\n",
       "<table border=\"1\" class=\"dataframe\">\n",
       "  <thead>\n",
       "    <tr style=\"text-align: right;\">\n",
       "      <th></th>\n",
       "      <th>title</th>\n",
       "      <th>company</th>\n",
       "      <th>experience_required</th>\n",
       "      <th>location</th>\n",
       "    </tr>\n",
       "  </thead>\n",
       "  <tbody>\n",
       "    <tr>\n",
       "      <th>0</th>\n",
       "      <td>Senior Data Analyst II</td>\n",
       "      <td>Flipkart</td>\n",
       "      <td>2-4 Yrs</td>\n",
       "      <td>Bangalore/Bengaluru</td>\n",
       "    </tr>\n",
       "    <tr>\n",
       "      <th>1</th>\n",
       "      <td>Senior Data Analyst II</td>\n",
       "      <td>Flipkart</td>\n",
       "      <td>3-6 Yrs</td>\n",
       "      <td>Bangalore/Bengaluru</td>\n",
       "    </tr>\n",
       "    <tr>\n",
       "      <th>2</th>\n",
       "      <td>Data Analysts with Business Analysis</td>\n",
       "      <td>Avanze Technologies India Pvt. Ltd.</td>\n",
       "      <td>6-8 Yrs</td>\n",
       "      <td>Bangalore/Bengaluru</td>\n",
       "    </tr>\n",
       "    <tr>\n",
       "      <th>3</th>\n",
       "      <td>Data Analyst / Data Engineer</td>\n",
       "      <td>TALENT MAX HR &amp; MANAGEMENT CONSULTANTS</td>\n",
       "      <td>8-13 Yrs</td>\n",
       "      <td>Indore, Pune, Bangalore/Bengaluru</td>\n",
       "    </tr>\n",
       "    <tr>\n",
       "      <th>4</th>\n",
       "      <td>Senior Data Analyst</td>\n",
       "      <td>Flipkart</td>\n",
       "      <td>4-6 Yrs</td>\n",
       "      <td>Bangalore/Bengaluru</td>\n",
       "    </tr>\n",
       "    <tr>\n",
       "      <th>5</th>\n",
       "      <td>Sr Domain Expert -Data Analysts</td>\n",
       "      <td>Siemens</td>\n",
       "      <td>0-10 Yrs</td>\n",
       "      <td>Bangalore/Bengaluru</td>\n",
       "    </tr>\n",
       "    <tr>\n",
       "      <th>6</th>\n",
       "      <td>Business Analyst/Data Analyst</td>\n",
       "      <td>Telamon HR Solutions</td>\n",
       "      <td>3-5 Yrs</td>\n",
       "      <td>Hyderabad/Secunderabad, Bangalore/Bengaluru, D...</td>\n",
       "    </tr>\n",
       "    <tr>\n",
       "      <th>7</th>\n",
       "      <td>Senior Data Analyst - KPO</td>\n",
       "      <td>Huquo Consulting Pvt. Ltd</td>\n",
       "      <td>7-12 Yrs</td>\n",
       "      <td>Gurgaon/Gurugram, Bangalore/Bengaluru</td>\n",
       "    </tr>\n",
       "    <tr>\n",
       "      <th>8</th>\n",
       "      <td>Senior Data Analyst</td>\n",
       "      <td>Cerner</td>\n",
       "      <td>8-12 Yrs</td>\n",
       "      <td>Bangalore/Bengaluru</td>\n",
       "    </tr>\n",
       "    <tr>\n",
       "      <th>9</th>\n",
       "      <td>Consultant - Data Analyst</td>\n",
       "      <td>Flipkart</td>\n",
       "      <td>1-3 Yrs</td>\n",
       "      <td>Bangalore/Bengaluru</td>\n",
       "    </tr>\n",
       "    <tr>\n",
       "      <th>10</th>\n",
       "      <td>Data Analyst</td>\n",
       "      <td>Enrich talents</td>\n",
       "      <td>0-4 Yrs</td>\n",
       "      <td>Bangalore/Bengaluru</td>\n",
       "    </tr>\n",
       "    <tr>\n",
       "      <th>11</th>\n",
       "      <td>Blockchain AML Data Analyst</td>\n",
       "      <td>PayPal</td>\n",
       "      <td>3-7 Yrs</td>\n",
       "      <td>Bangalore/Bengaluru</td>\n",
       "    </tr>\n",
       "    <tr>\n",
       "      <th>12</th>\n",
       "      <td>Senior Data Analyst</td>\n",
       "      <td>Walmart</td>\n",
       "      <td>5-8 Yrs</td>\n",
       "      <td>Bangalore/Bengaluru</td>\n",
       "    </tr>\n",
       "    <tr>\n",
       "      <th>13</th>\n",
       "      <td>Senior Data Analyst</td>\n",
       "      <td>LatentView</td>\n",
       "      <td>2-6 Yrs</td>\n",
       "      <td>Chennai, Bangalore/Bengaluru</td>\n",
       "    </tr>\n",
       "    <tr>\n",
       "      <th>14</th>\n",
       "      <td>Data Analyst - Python/SQL</td>\n",
       "      <td>Affine</td>\n",
       "      <td>3-5 Yrs</td>\n",
       "      <td>Bangalore/Bengaluru</td>\n",
       "    </tr>\n",
       "    <tr>\n",
       "      <th>15</th>\n",
       "      <td>Data Analyst</td>\n",
       "      <td>AECOM</td>\n",
       "      <td>2-7 Yrs</td>\n",
       "      <td>Bangalore/Bengaluru</td>\n",
       "    </tr>\n",
       "    <tr>\n",
       "      <th>16</th>\n",
       "      <td>Data Analyst - IT</td>\n",
       "      <td>Yespired</td>\n",
       "      <td>3-8 Yrs</td>\n",
       "      <td>Bangalore/Bengaluru</td>\n",
       "    </tr>\n",
       "    <tr>\n",
       "      <th>17</th>\n",
       "      <td>Business Analyst - Data Science &amp; Analytics, Omni</td>\n",
       "      <td>MORE RETAIL PRIVATE LIMITED</td>\n",
       "      <td>1-5 Yrs</td>\n",
       "      <td>Bangalore/Bengaluru</td>\n",
       "    </tr>\n",
       "    <tr>\n",
       "      <th>18</th>\n",
       "      <td>Senior Data Analyst (Digital Services Analytics)</td>\n",
       "      <td>Dell Technologies</td>\n",
       "      <td>1-6 Yrs</td>\n",
       "      <td>Bangalore/Bengaluru</td>\n",
       "    </tr>\n",
       "    <tr>\n",
       "      <th>19</th>\n",
       "      <td>Senior Data Analyst</td>\n",
       "      <td>FINNOVATION TECH SOLUTIONS PRIVATE LIMITED</td>\n",
       "      <td>3-6 Yrs</td>\n",
       "      <td>Bangalore/Bengaluru(Old Madras Road)</td>\n",
       "    </tr>\n",
       "  </tbody>\n",
       "</table>\n",
       "</div>"
      ],
      "text/plain": [
       "                                                title  \\\n",
       "0                              Senior Data Analyst II   \n",
       "1                              Senior Data Analyst II   \n",
       "2                Data Analysts with Business Analysis   \n",
       "3                        Data Analyst / Data Engineer   \n",
       "4                                 Senior Data Analyst   \n",
       "5                     Sr Domain Expert -Data Analysts   \n",
       "6                       Business Analyst/Data Analyst   \n",
       "7                           Senior Data Analyst - KPO   \n",
       "8                                 Senior Data Analyst   \n",
       "9                           Consultant - Data Analyst   \n",
       "10                                       Data Analyst   \n",
       "11                        Blockchain AML Data Analyst   \n",
       "12                                Senior Data Analyst   \n",
       "13                                Senior Data Analyst   \n",
       "14                          Data Analyst - Python/SQL   \n",
       "15                                       Data Analyst   \n",
       "16                                  Data Analyst - IT   \n",
       "17  Business Analyst - Data Science & Analytics, Omni   \n",
       "18   Senior Data Analyst (Digital Services Analytics)   \n",
       "19                                Senior Data Analyst   \n",
       "\n",
       "                                       company experience_required  \\\n",
       "0                                     Flipkart             2-4 Yrs   \n",
       "1                                     Flipkart             3-6 Yrs   \n",
       "2          Avanze Technologies India Pvt. Ltd.             6-8 Yrs   \n",
       "3       TALENT MAX HR & MANAGEMENT CONSULTANTS            8-13 Yrs   \n",
       "4                                     Flipkart             4-6 Yrs   \n",
       "5                                      Siemens            0-10 Yrs   \n",
       "6                         Telamon HR Solutions             3-5 Yrs   \n",
       "7                    Huquo Consulting Pvt. Ltd            7-12 Yrs   \n",
       "8                                       Cerner            8-12 Yrs   \n",
       "9                                     Flipkart             1-3 Yrs   \n",
       "10                              Enrich talents             0-4 Yrs   \n",
       "11                                      PayPal             3-7 Yrs   \n",
       "12                                     Walmart             5-8 Yrs   \n",
       "13                                  LatentView             2-6 Yrs   \n",
       "14                                      Affine             3-5 Yrs   \n",
       "15                                       AECOM             2-7 Yrs   \n",
       "16                                    Yespired             3-8 Yrs   \n",
       "17                 MORE RETAIL PRIVATE LIMITED             1-5 Yrs   \n",
       "18                           Dell Technologies             1-6 Yrs   \n",
       "19  FINNOVATION TECH SOLUTIONS PRIVATE LIMITED             3-6 Yrs   \n",
       "\n",
       "                                             location  \n",
       "0                                 Bangalore/Bengaluru  \n",
       "1                                 Bangalore/Bengaluru  \n",
       "2                                 Bangalore/Bengaluru  \n",
       "3                   Indore, Pune, Bangalore/Bengaluru  \n",
       "4                                 Bangalore/Bengaluru  \n",
       "5                                 Bangalore/Bengaluru  \n",
       "6   Hyderabad/Secunderabad, Bangalore/Bengaluru, D...  \n",
       "7               Gurgaon/Gurugram, Bangalore/Bengaluru  \n",
       "8                                 Bangalore/Bengaluru  \n",
       "9                                 Bangalore/Bengaluru  \n",
       "10                                Bangalore/Bengaluru  \n",
       "11                                Bangalore/Bengaluru  \n",
       "12                                Bangalore/Bengaluru  \n",
       "13                       Chennai, Bangalore/Bengaluru  \n",
       "14                                Bangalore/Bengaluru  \n",
       "15                                Bangalore/Bengaluru  \n",
       "16                                Bangalore/Bengaluru  \n",
       "17                                Bangalore/Bengaluru  \n",
       "18                                Bangalore/Bengaluru  \n",
       "19               Bangalore/Bengaluru(Old Madras Road)  "
      ]
     },
     "execution_count": 35,
     "metadata": {},
     "output_type": "execute_result"
    }
   ],
   "source": [
    "jobs"
   ]
  },
  {
   "cell_type": "code",
   "execution_count": null,
   "id": "a453ee08",
   "metadata": {},
   "outputs": [],
   "source": []
  }
 ],
 "metadata": {
  "kernelspec": {
   "display_name": "Python 3 (ipykernel)",
   "language": "python",
   "name": "python3"
  },
  "language_info": {
   "codemirror_mode": {
    "name": "ipython",
    "version": 3
   },
   "file_extension": ".py",
   "mimetype": "text/x-python",
   "name": "python",
   "nbconvert_exporter": "python",
   "pygments_lexer": "ipython3",
   "version": "3.9.7"
  }
 },
 "nbformat": 4,
 "nbformat_minor": 5
}

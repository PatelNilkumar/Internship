{
 "cells": [
  {
   "cell_type": "code",
   "execution_count": 1,
   "id": "505ac31d",
   "metadata": {},
   "outputs": [
    {
     "name": "stdout",
     "output_type": "stream",
     "text": [
      "Requirement already satisfied: selenium in c:\\programdata\\anaconda3\\lib\\site-packages (4.1.3)\n",
      "Requirement already satisfied: trio~=0.17 in c:\\programdata\\anaconda3\\lib\\site-packages (from selenium) (0.20.0)\n",
      "Requirement already satisfied: urllib3[secure,socks]~=1.26 in c:\\programdata\\anaconda3\\lib\\site-packages (from selenium) (1.26.7)\n",
      "Requirement already satisfied: trio-websocket~=0.9 in c:\\programdata\\anaconda3\\lib\\site-packages (from selenium) (0.9.2)\n",
      "Requirement already satisfied: sortedcontainers in c:\\programdata\\anaconda3\\lib\\site-packages (from trio~=0.17->selenium) (2.4.0)\n",
      "Requirement already satisfied: sniffio in c:\\programdata\\anaconda3\\lib\\site-packages (from trio~=0.17->selenium) (1.2.0)\n",
      "Requirement already satisfied: attrs>=19.2.0 in c:\\programdata\\anaconda3\\lib\\site-packages (from trio~=0.17->selenium) (21.2.0)\n",
      "Requirement already satisfied: idna in c:\\programdata\\anaconda3\\lib\\site-packages (from trio~=0.17->selenium) (3.2)\n",
      "Requirement already satisfied: outcome in c:\\programdata\\anaconda3\\lib\\site-packages (from trio~=0.17->selenium) (1.1.0)\n",
      "Requirement already satisfied: cffi>=1.14 in c:\\programdata\\anaconda3\\lib\\site-packages (from trio~=0.17->selenium) (1.14.6)\n",
      "Requirement already satisfied: async-generator>=1.9 in c:\\programdata\\anaconda3\\lib\\site-packages (from trio~=0.17->selenium) (1.10)\n",
      "Requirement already satisfied: pycparser in c:\\programdata\\anaconda3\\lib\\site-packages (from cffi>=1.14->trio~=0.17->selenium) (2.20)\n",
      "Requirement already satisfied: wsproto>=0.14 in c:\\programdata\\anaconda3\\lib\\site-packages (from trio-websocket~=0.9->selenium) (1.1.0)\n",
      "Requirement already satisfied: pyOpenSSL>=0.14 in c:\\programdata\\anaconda3\\lib\\site-packages (from urllib3[secure,socks]~=1.26->selenium) (21.0.0)\n",
      "Requirement already satisfied: cryptography>=1.3.4 in c:\\programdata\\anaconda3\\lib\\site-packages (from urllib3[secure,socks]~=1.26->selenium) (3.4.8)\n",
      "Requirement already satisfied: certifi in c:\\programdata\\anaconda3\\lib\\site-packages (from urllib3[secure,socks]~=1.26->selenium) (2021.10.8)\n",
      "Requirement already satisfied: PySocks!=1.5.7,<2.0,>=1.5.6 in c:\\programdata\\anaconda3\\lib\\site-packages (from urllib3[secure,socks]~=1.26->selenium) (1.7.1)\n",
      "Requirement already satisfied: six>=1.5.2 in c:\\programdata\\anaconda3\\lib\\site-packages (from pyOpenSSL>=0.14->urllib3[secure,socks]~=1.26->selenium) (1.16.0)\n",
      "Requirement already satisfied: h11<1,>=0.9.0 in c:\\programdata\\anaconda3\\lib\\site-packages (from wsproto>=0.14->trio-websocket~=0.9->selenium) (0.13.0)\n"
     ]
    }
   ],
   "source": [
    "!pip install selenium"
   ]
  },
  {
   "cell_type": "code",
   "execution_count": 2,
   "id": "d85f51de",
   "metadata": {},
   "outputs": [],
   "source": [
    "import selenium\n",
    "import pandas as pd \n",
    "from selenium import webdriver\n",
    "import warnings\n",
    "warnings.filterwarnings(\"ignore\")\n",
    "import time"
   ]
  },
  {
   "cell_type": "code",
   "execution_count": 3,
   "id": "92663800",
   "metadata": {},
   "outputs": [],
   "source": [
    "driver = webdriver.Chrome(r\"C:\\Users\\patel\\Downloads\\chromedriver_win32\\chromedriver.exe\")"
   ]
  },
  {
   "cell_type": "code",
   "execution_count": 7,
   "id": "f1204c0f",
   "metadata": {},
   "outputs": [],
   "source": [
    "driver=webdriver.Chrome(\"chromedriver.exe\")\n",
    "time.sleep(2)"
   ]
  },
  {
   "cell_type": "code",
   "execution_count": 5,
   "id": "03ee05e1",
   "metadata": {},
   "outputs": [],
   "source": [
    "driver.close()"
   ]
  },
  {
   "cell_type": "code",
   "execution_count": 8,
   "id": "80e201ed",
   "metadata": {},
   "outputs": [],
   "source": [
    "driver.get('https://www.naukri.com/')"
   ]
  },
  {
   "cell_type": "code",
   "execution_count": 9,
   "id": "98a8ceea",
   "metadata": {},
   "outputs": [],
   "source": [
    "search_field_designation=driver.find_element_by_class_name(\"suggestor-input\")\n",
    "search_field_designation.send_keys(\"Data Scientist\")\n",
    "search_field_location=driver.find_element_by_xpath('/html/body/div/div[2]/div[3]/div/div/div[3]/div/div/div/input')\n",
    "search_field_location.send_keys(\"Bangalore\")"
   ]
  },
  {
   "cell_type": "code",
   "execution_count": 10,
   "id": "67f2c1ab",
   "metadata": {},
   "outputs": [],
   "source": [
    "search_button=driver.find_element_by_xpath('/html/body/div/div[2]/div[3]/div/div/div[6]')\n",
    "search_button.click()"
   ]
  },
  {
   "cell_type": "code",
   "execution_count": 11,
   "id": "a28ebcfa",
   "metadata": {},
   "outputs": [],
   "source": [
    "url=\"https://www.naukri.com/data-scientist-jobs-in-bangalore?k=data%20scientist&l=bangalore\""
   ]
  },
  {
   "cell_type": "code",
   "execution_count": 12,
   "id": "f4131c6f",
   "metadata": {},
   "outputs": [],
   "source": [
    "driver.get(url)"
   ]
  },
  {
   "cell_type": "code",
   "execution_count": 13,
   "id": "3d6072ae",
   "metadata": {},
   "outputs": [],
   "source": [
    "job_titles=[]\n",
    "company_names=[]\n",
    "locations_list=[]\n",
    "experience_list=[]"
   ]
  },
  {
   "cell_type": "code",
   "execution_count": 14,
   "id": "8f68ec40",
   "metadata": {},
   "outputs": [
    {
     "data": {
      "text/plain": [
       "[<selenium.webdriver.remote.webelement.WebElement (session=\"1091dfd58b76d7b0699f1ac3f270897f\", element=\"26e04c40-f5a0-4bcc-be61-e8c916106bd0\")>,\n",
       " <selenium.webdriver.remote.webelement.WebElement (session=\"1091dfd58b76d7b0699f1ac3f270897f\", element=\"4f5bb641-bfe3-431f-9672-9204446edaca\")>,\n",
       " <selenium.webdriver.remote.webelement.WebElement (session=\"1091dfd58b76d7b0699f1ac3f270897f\", element=\"2bcfeb0a-6bc1-46c2-9d32-26e2d3ff3004\")>,\n",
       " <selenium.webdriver.remote.webelement.WebElement (session=\"1091dfd58b76d7b0699f1ac3f270897f\", element=\"edb03d77-ec6c-4f1a-8a86-d2e71a74a105\")>,\n",
       " <selenium.webdriver.remote.webelement.WebElement (session=\"1091dfd58b76d7b0699f1ac3f270897f\", element=\"9217342b-10ce-4802-9610-fe790be442ac\")>,\n",
       " <selenium.webdriver.remote.webelement.WebElement (session=\"1091dfd58b76d7b0699f1ac3f270897f\", element=\"0d296ad0-2fc4-4e44-9b8f-1e014dfc7c6d\")>,\n",
       " <selenium.webdriver.remote.webelement.WebElement (session=\"1091dfd58b76d7b0699f1ac3f270897f\", element=\"2a20bddd-d82e-432d-92bf-99fa567068d4\")>,\n",
       " <selenium.webdriver.remote.webelement.WebElement (session=\"1091dfd58b76d7b0699f1ac3f270897f\", element=\"111e95d5-8aaa-43f8-b705-db41a95ed878\")>,\n",
       " <selenium.webdriver.remote.webelement.WebElement (session=\"1091dfd58b76d7b0699f1ac3f270897f\", element=\"d753a085-fa44-487c-a4a0-0b897d38c54f\")>,\n",
       " <selenium.webdriver.remote.webelement.WebElement (session=\"1091dfd58b76d7b0699f1ac3f270897f\", element=\"2b3c612d-0763-44c0-a19b-4bcbc7a9ca6f\")>]"
      ]
     },
     "execution_count": 14,
     "metadata": {},
     "output_type": "execute_result"
    }
   ],
   "source": [
    "titles_tags=driver.find_elements_by_xpath(\"//a[@class='title fw500 ellipsis']\")\n",
    "titles_tags[0:10]"
   ]
  },
  {
   "cell_type": "code",
   "execution_count": 15,
   "id": "ebf81a6d",
   "metadata": {},
   "outputs": [
    {
     "data": {
      "text/plain": [
       "['Lead Data Scientist',\n",
       " 'Senior Data Scientist',\n",
       " 'ASSOCIATE DATA SCIENTIST',\n",
       " 'Data Scientist: Advanced Analytics',\n",
       " 'Data Scientist',\n",
       " 'Data Scientist: Artificial Intelligence',\n",
       " 'Data Scientist',\n",
       " 'Data Scientist/Engineer - Global Telecom Setup',\n",
       " 'Analyst- Data Scientist',\n",
       " 'Data Scientist']"
      ]
     },
     "execution_count": 15,
     "metadata": {},
     "output_type": "execute_result"
    }
   ],
   "source": [
    "for i in titles_tags:\n",
    "    title=i.text\n",
    "    job_titles.append(title)\n",
    "job_titles[0:10]    "
   ]
  },
  {
   "cell_type": "code",
   "execution_count": 16,
   "id": "b13fb623",
   "metadata": {},
   "outputs": [
    {
     "data": {
      "text/plain": [
       "[<selenium.webdriver.remote.webelement.WebElement (session=\"1091dfd58b76d7b0699f1ac3f270897f\", element=\"cff3b171-4a94-476d-81c6-0634252aea3b\")>,\n",
       " <selenium.webdriver.remote.webelement.WebElement (session=\"1091dfd58b76d7b0699f1ac3f270897f\", element=\"68d7b536-0233-4a8c-9d9c-43b3db340c2b\")>,\n",
       " <selenium.webdriver.remote.webelement.WebElement (session=\"1091dfd58b76d7b0699f1ac3f270897f\", element=\"9d3266a3-0fe2-4e39-93fb-8a4651ad897f\")>,\n",
       " <selenium.webdriver.remote.webelement.WebElement (session=\"1091dfd58b76d7b0699f1ac3f270897f\", element=\"23dbc5e3-94c7-413f-ae7a-cae3ce259b5e\")>,\n",
       " <selenium.webdriver.remote.webelement.WebElement (session=\"1091dfd58b76d7b0699f1ac3f270897f\", element=\"e9920b1b-5191-4be3-9437-211ccf896f44\")>,\n",
       " <selenium.webdriver.remote.webelement.WebElement (session=\"1091dfd58b76d7b0699f1ac3f270897f\", element=\"b2e62166-f7d6-416b-8ce0-d7731c9f1084\")>,\n",
       " <selenium.webdriver.remote.webelement.WebElement (session=\"1091dfd58b76d7b0699f1ac3f270897f\", element=\"b6d54e46-8fdd-4c8a-bfab-5eba490f37dd\")>,\n",
       " <selenium.webdriver.remote.webelement.WebElement (session=\"1091dfd58b76d7b0699f1ac3f270897f\", element=\"fd27b621-e3d6-4ae4-aebb-2bce79f01870\")>,\n",
       " <selenium.webdriver.remote.webelement.WebElement (session=\"1091dfd58b76d7b0699f1ac3f270897f\", element=\"d23349ce-2f4f-4aec-8d27-d94eae719b6e\")>,\n",
       " <selenium.webdriver.remote.webelement.WebElement (session=\"1091dfd58b76d7b0699f1ac3f270897f\", element=\"824c9d01-43a8-473c-a865-3a7862ad4469\")>]"
      ]
     },
     "execution_count": 16,
     "metadata": {},
     "output_type": "execute_result"
    }
   ],
   "source": [
    "companies_tags=driver.find_elements_by_xpath(\"//a[@class='subTitle ellipsis fleft']\")\n",
    "companies_tags[0:10]"
   ]
  },
  {
   "cell_type": "code",
   "execution_count": 17,
   "id": "d0a1ac73",
   "metadata": {},
   "outputs": [
    {
     "data": {
      "text/plain": [
       "['Groww',\n",
       " 'PayU',\n",
       " 'Hinduja Global',\n",
       " 'IBM',\n",
       " 'Applied Materials',\n",
       " 'IBM',\n",
       " 'Applied Materials',\n",
       " 'Global Telecom Setup',\n",
       " 'Sigma Aldrich',\n",
       " 'PayU']"
      ]
     },
     "execution_count": 17,
     "metadata": {},
     "output_type": "execute_result"
    }
   ],
   "source": [
    "for i in companies_tags:\n",
    "    company_name=i.text\n",
    "    company_names.append(company_name)\n",
    "company_names[0:10]    "
   ]
  },
  {
   "cell_type": "code",
   "execution_count": 18,
   "id": "ddbda3c8",
   "metadata": {},
   "outputs": [
    {
     "data": {
      "text/plain": [
       "[<selenium.webdriver.remote.webelement.WebElement (session=\"1091dfd58b76d7b0699f1ac3f270897f\", element=\"aa49d714-04ad-46b3-8e8b-2bd848b89948\")>,\n",
       " <selenium.webdriver.remote.webelement.WebElement (session=\"1091dfd58b76d7b0699f1ac3f270897f\", element=\"e65b0b0f-90f0-4f79-81cb-8ce0ee0307cd\")>,\n",
       " <selenium.webdriver.remote.webelement.WebElement (session=\"1091dfd58b76d7b0699f1ac3f270897f\", element=\"714a4f1a-3915-4369-9081-7843cdbc6317\")>,\n",
       " <selenium.webdriver.remote.webelement.WebElement (session=\"1091dfd58b76d7b0699f1ac3f270897f\", element=\"304db4fd-27c9-4b3d-9a95-b492e7287e26\")>,\n",
       " <selenium.webdriver.remote.webelement.WebElement (session=\"1091dfd58b76d7b0699f1ac3f270897f\", element=\"0356c175-1db4-4b43-a3a3-c2acc9edfd54\")>,\n",
       " <selenium.webdriver.remote.webelement.WebElement (session=\"1091dfd58b76d7b0699f1ac3f270897f\", element=\"5ec2859b-326d-4595-ad63-337472b8ea16\")>,\n",
       " <selenium.webdriver.remote.webelement.WebElement (session=\"1091dfd58b76d7b0699f1ac3f270897f\", element=\"2ee48214-cb70-4998-adc7-36f71e4671a3\")>,\n",
       " <selenium.webdriver.remote.webelement.WebElement (session=\"1091dfd58b76d7b0699f1ac3f270897f\", element=\"a304c732-d6d9-4ee0-b70e-52d42c982997\")>,\n",
       " <selenium.webdriver.remote.webelement.WebElement (session=\"1091dfd58b76d7b0699f1ac3f270897f\", element=\"8bd30dc8-6a98-4174-a38e-091c8fb97753\")>,\n",
       " <selenium.webdriver.remote.webelement.WebElement (session=\"1091dfd58b76d7b0699f1ac3f270897f\", element=\"cfb8ce0b-6255-4718-b1da-5f38bbb09e88\")>]"
      ]
     },
     "execution_count": 18,
     "metadata": {},
     "output_type": "execute_result"
    }
   ],
   "source": [
    "experience_tags=driver.find_elements_by_xpath(\"//li[@class='fleft grey-text br2 placeHolderLi experience']\")\n",
    "experience_tags[0:10]"
   ]
  },
  {
   "cell_type": "code",
   "execution_count": 19,
   "id": "ac26ab10",
   "metadata": {},
   "outputs": [
    {
     "data": {
      "text/plain": [
       "['5-8 Yrs',\n",
       " '3-7 Yrs',\n",
       " '1-4 Yrs',\n",
       " '2-5 Yrs',\n",
       " '2-4 Yrs',\n",
       " '3-7 Yrs',\n",
       " '0-3 Yrs',\n",
       " '3-8 Yrs',\n",
       " '1-4 Yrs',\n",
       " '2-6 Yrs']"
      ]
     },
     "execution_count": 19,
     "metadata": {},
     "output_type": "execute_result"
    }
   ],
   "source": [
    "for i in experience_tags:\n",
    "    experience=i.text\n",
    "    experience_list.append(experience)\n",
    "experience_list[0:10]"
   ]
  },
  {
   "cell_type": "code",
   "execution_count": 21,
   "id": "12ce2b03",
   "metadata": {},
   "outputs": [
    {
     "data": {
      "text/plain": [
       "[<selenium.webdriver.remote.webelement.WebElement (session=\"1091dfd58b76d7b0699f1ac3f270897f\", element=\"88fec5e8-0557-485b-a7f3-f0ef9881aade\")>,\n",
       " <selenium.webdriver.remote.webelement.WebElement (session=\"1091dfd58b76d7b0699f1ac3f270897f\", element=\"6e6815b1-76c5-4e76-b3c4-e95575caa544\")>,\n",
       " <selenium.webdriver.remote.webelement.WebElement (session=\"1091dfd58b76d7b0699f1ac3f270897f\", element=\"5be8a8d1-ff98-48ea-b21c-c422fe048f75\")>,\n",
       " <selenium.webdriver.remote.webelement.WebElement (session=\"1091dfd58b76d7b0699f1ac3f270897f\", element=\"e8754392-6a39-4b3d-8576-341788abc48e\")>,\n",
       " <selenium.webdriver.remote.webelement.WebElement (session=\"1091dfd58b76d7b0699f1ac3f270897f\", element=\"2f0f8f03-5bbe-4e82-8818-f2146b036c22\")>,\n",
       " <selenium.webdriver.remote.webelement.WebElement (session=\"1091dfd58b76d7b0699f1ac3f270897f\", element=\"bbd50146-b1f4-4879-aed2-9d6532d70156\")>,\n",
       " <selenium.webdriver.remote.webelement.WebElement (session=\"1091dfd58b76d7b0699f1ac3f270897f\", element=\"bacc1b46-fdb6-4d8c-9635-3f5f5642f466\")>,\n",
       " <selenium.webdriver.remote.webelement.WebElement (session=\"1091dfd58b76d7b0699f1ac3f270897f\", element=\"d2b607c8-7a0a-40ef-a92f-870ee29c787c\")>,\n",
       " <selenium.webdriver.remote.webelement.WebElement (session=\"1091dfd58b76d7b0699f1ac3f270897f\", element=\"e1cc8719-dc3b-43dc-aee3-a1d77a27d418\")>,\n",
       " <selenium.webdriver.remote.webelement.WebElement (session=\"1091dfd58b76d7b0699f1ac3f270897f\", element=\"9ec967fd-d29b-4105-a1e5-0662e0810d16\")>]"
      ]
     },
     "execution_count": 21,
     "metadata": {},
     "output_type": "execute_result"
    }
   ],
   "source": [
    "locations_tags=driver.find_elements_by_xpath(\"//li[@class='fleft grey-text br2 placeHolderLi location']\")\n",
    "locations_tags[0:10]"
   ]
  },
  {
   "cell_type": "code",
   "execution_count": 22,
   "id": "121d745a",
   "metadata": {},
   "outputs": [
    {
     "data": {
      "text/plain": [
       "['Bangalore/Bengaluru',\n",
       " 'Bangalore/Bengaluru',\n",
       " 'Bangalore/Bengaluru',\n",
       " 'Bangalore/Bengaluru',\n",
       " 'Bangalore/Bengaluru',\n",
       " 'Bangalore/Bengaluru',\n",
       " 'Bangalore/Bengaluru',\n",
       " 'Hyderabad/Secunderabad, Pune, Bangalore/Bengaluru',\n",
       " 'Bangalore/Bengaluru',\n",
       " 'Bangalore/Bengaluru']"
      ]
     },
     "execution_count": 22,
     "metadata": {},
     "output_type": "execute_result"
    }
   ],
   "source": [
    "for i in locations_tags:\n",
    "    location=i.text\n",
    "    locations_list.append(location)\n",
    "locations_list[0:10]    "
   ]
  },
  {
   "cell_type": "code",
   "execution_count": 23,
   "id": "18f9e786",
   "metadata": {},
   "outputs": [
    {
     "name": "stdout",
     "output_type": "stream",
     "text": [
      "20 20 20 20\n"
     ]
    }
   ],
   "source": [
    "print(len(job_titles),len(company_names),len(experience_list),len(locations_list))"
   ]
  },
  {
   "cell_type": "code",
   "execution_count": 24,
   "id": "c258ba02",
   "metadata": {},
   "outputs": [],
   "source": [
    "jobs=pd.DataFrame({})\n",
    "jobs['title']=job_titles\n",
    "jobs['company']=company_names\n",
    "jobs['experience_required']=experience_list\n",
    "jobs['location']=locations_list"
   ]
  },
  {
   "cell_type": "code",
   "execution_count": 25,
   "id": "a5e1325a",
   "metadata": {},
   "outputs": [
    {
     "data": {
      "text/html": [
       "<div>\n",
       "<style scoped>\n",
       "    .dataframe tbody tr th:only-of-type {\n",
       "        vertical-align: middle;\n",
       "    }\n",
       "\n",
       "    .dataframe tbody tr th {\n",
       "        vertical-align: top;\n",
       "    }\n",
       "\n",
       "    .dataframe thead th {\n",
       "        text-align: right;\n",
       "    }\n",
       "</style>\n",
       "<table border=\"1\" class=\"dataframe\">\n",
       "  <thead>\n",
       "    <tr style=\"text-align: right;\">\n",
       "      <th></th>\n",
       "      <th>title</th>\n",
       "      <th>company</th>\n",
       "      <th>experience_required</th>\n",
       "      <th>location</th>\n",
       "    </tr>\n",
       "  </thead>\n",
       "  <tbody>\n",
       "    <tr>\n",
       "      <th>0</th>\n",
       "      <td>Lead Data Scientist</td>\n",
       "      <td>Groww</td>\n",
       "      <td>5-8 Yrs</td>\n",
       "      <td>Bangalore/Bengaluru</td>\n",
       "    </tr>\n",
       "    <tr>\n",
       "      <th>1</th>\n",
       "      <td>Senior Data Scientist</td>\n",
       "      <td>PayU</td>\n",
       "      <td>3-7 Yrs</td>\n",
       "      <td>Bangalore/Bengaluru</td>\n",
       "    </tr>\n",
       "    <tr>\n",
       "      <th>2</th>\n",
       "      <td>ASSOCIATE DATA SCIENTIST</td>\n",
       "      <td>Hinduja Global</td>\n",
       "      <td>1-4 Yrs</td>\n",
       "      <td>Bangalore/Bengaluru</td>\n",
       "    </tr>\n",
       "    <tr>\n",
       "      <th>3</th>\n",
       "      <td>Data Scientist: Advanced Analytics</td>\n",
       "      <td>IBM</td>\n",
       "      <td>2-5 Yrs</td>\n",
       "      <td>Bangalore/Bengaluru</td>\n",
       "    </tr>\n",
       "    <tr>\n",
       "      <th>4</th>\n",
       "      <td>Data Scientist</td>\n",
       "      <td>Applied Materials</td>\n",
       "      <td>2-4 Yrs</td>\n",
       "      <td>Bangalore/Bengaluru</td>\n",
       "    </tr>\n",
       "    <tr>\n",
       "      <th>5</th>\n",
       "      <td>Data Scientist: Artificial Intelligence</td>\n",
       "      <td>IBM</td>\n",
       "      <td>3-7 Yrs</td>\n",
       "      <td>Bangalore/Bengaluru</td>\n",
       "    </tr>\n",
       "    <tr>\n",
       "      <th>6</th>\n",
       "      <td>Data Scientist</td>\n",
       "      <td>Applied Materials</td>\n",
       "      <td>0-3 Yrs</td>\n",
       "      <td>Bangalore/Bengaluru</td>\n",
       "    </tr>\n",
       "    <tr>\n",
       "      <th>7</th>\n",
       "      <td>Data Scientist/Engineer - Global Telecom Setup</td>\n",
       "      <td>Global Telecom Setup</td>\n",
       "      <td>3-8 Yrs</td>\n",
       "      <td>Hyderabad/Secunderabad, Pune, Bangalore/Bengaluru</td>\n",
       "    </tr>\n",
       "    <tr>\n",
       "      <th>8</th>\n",
       "      <td>Analyst- Data Scientist</td>\n",
       "      <td>Sigma Aldrich</td>\n",
       "      <td>1-4 Yrs</td>\n",
       "      <td>Bangalore/Bengaluru</td>\n",
       "    </tr>\n",
       "    <tr>\n",
       "      <th>9</th>\n",
       "      <td>Data Scientist</td>\n",
       "      <td>PayU</td>\n",
       "      <td>2-6 Yrs</td>\n",
       "      <td>Bangalore/Bengaluru</td>\n",
       "    </tr>\n",
       "    <tr>\n",
       "      <th>10</th>\n",
       "      <td>Data Scientist</td>\n",
       "      <td>PayU</td>\n",
       "      <td>3-6 Yrs</td>\n",
       "      <td>Bangalore/Bengaluru</td>\n",
       "    </tr>\n",
       "    <tr>\n",
       "      <th>11</th>\n",
       "      <td>Data Scientist</td>\n",
       "      <td>PayU</td>\n",
       "      <td>2-6 Yrs</td>\n",
       "      <td>Bangalore/Bengaluru</td>\n",
       "    </tr>\n",
       "    <tr>\n",
       "      <th>12</th>\n",
       "      <td>Data Scientist - Immediate Joiners</td>\n",
       "      <td>Bristlecone</td>\n",
       "      <td>5-8 Yrs</td>\n",
       "      <td>Noida, Mumbai, Pune, Bangalore/Bengaluru</td>\n",
       "    </tr>\n",
       "    <tr>\n",
       "      <th>13</th>\n",
       "      <td>Data Scientist</td>\n",
       "      <td>PayU</td>\n",
       "      <td>2-5 Yrs</td>\n",
       "      <td>Bangalore/Bengaluru</td>\n",
       "    </tr>\n",
       "    <tr>\n",
       "      <th>14</th>\n",
       "      <td>Senior Data Scientist - SQL/Python/Numpy</td>\n",
       "      <td>Serving Skill</td>\n",
       "      <td>2-6 Yrs</td>\n",
       "      <td>Bangalore/Bengaluru</td>\n",
       "    </tr>\n",
       "    <tr>\n",
       "      <th>15</th>\n",
       "      <td>Senior Data Scientist (Fintech)</td>\n",
       "      <td>TalentStack</td>\n",
       "      <td>9-12 Yrs</td>\n",
       "      <td>Bangalore/Bengaluru</td>\n",
       "    </tr>\n",
       "    <tr>\n",
       "      <th>16</th>\n",
       "      <td>Senior Data Scientist</td>\n",
       "      <td>GSK India</td>\n",
       "      <td>5-9 Yrs</td>\n",
       "      <td>Bangalore/Bengaluru</td>\n",
       "    </tr>\n",
       "    <tr>\n",
       "      <th>17</th>\n",
       "      <td>Data Scientist</td>\n",
       "      <td>Cervello India Private Limited</td>\n",
       "      <td>3-8 Yrs</td>\n",
       "      <td>Bangalore/Bengaluru</td>\n",
       "    </tr>\n",
       "    <tr>\n",
       "      <th>18</th>\n",
       "      <td>Principal Data Scientist</td>\n",
       "      <td>Target</td>\n",
       "      <td>10-20 Yrs</td>\n",
       "      <td>Bangalore/Bengaluru</td>\n",
       "    </tr>\n",
       "    <tr>\n",
       "      <th>19</th>\n",
       "      <td>Data Scientist: Artificial Intelligence</td>\n",
       "      <td>IBM</td>\n",
       "      <td>4-8 Yrs</td>\n",
       "      <td>Bangalore/Bengaluru</td>\n",
       "    </tr>\n",
       "  </tbody>\n",
       "</table>\n",
       "</div>"
      ],
      "text/plain": [
       "                                             title  \\\n",
       "0                              Lead Data Scientist   \n",
       "1                            Senior Data Scientist   \n",
       "2                         ASSOCIATE DATA SCIENTIST   \n",
       "3               Data Scientist: Advanced Analytics   \n",
       "4                                   Data Scientist   \n",
       "5          Data Scientist: Artificial Intelligence   \n",
       "6                                   Data Scientist   \n",
       "7   Data Scientist/Engineer - Global Telecom Setup   \n",
       "8                          Analyst- Data Scientist   \n",
       "9                                   Data Scientist   \n",
       "10                                  Data Scientist   \n",
       "11                                  Data Scientist   \n",
       "12              Data Scientist - Immediate Joiners   \n",
       "13                                  Data Scientist   \n",
       "14        Senior Data Scientist - SQL/Python/Numpy   \n",
       "15                 Senior Data Scientist (Fintech)   \n",
       "16                           Senior Data Scientist   \n",
       "17                                  Data Scientist   \n",
       "18                        Principal Data Scientist   \n",
       "19         Data Scientist: Artificial Intelligence   \n",
       "\n",
       "                           company experience_required  \\\n",
       "0                            Groww             5-8 Yrs   \n",
       "1                             PayU             3-7 Yrs   \n",
       "2                   Hinduja Global             1-4 Yrs   \n",
       "3                              IBM             2-5 Yrs   \n",
       "4                Applied Materials             2-4 Yrs   \n",
       "5                              IBM             3-7 Yrs   \n",
       "6                Applied Materials             0-3 Yrs   \n",
       "7             Global Telecom Setup             3-8 Yrs   \n",
       "8                    Sigma Aldrich             1-4 Yrs   \n",
       "9                             PayU             2-6 Yrs   \n",
       "10                            PayU             3-6 Yrs   \n",
       "11                            PayU             2-6 Yrs   \n",
       "12                     Bristlecone             5-8 Yrs   \n",
       "13                            PayU             2-5 Yrs   \n",
       "14                   Serving Skill             2-6 Yrs   \n",
       "15                     TalentStack            9-12 Yrs   \n",
       "16                       GSK India             5-9 Yrs   \n",
       "17  Cervello India Private Limited             3-8 Yrs   \n",
       "18                          Target           10-20 Yrs   \n",
       "19                             IBM             4-8 Yrs   \n",
       "\n",
       "                                             location  \n",
       "0                                 Bangalore/Bengaluru  \n",
       "1                                 Bangalore/Bengaluru  \n",
       "2                                 Bangalore/Bengaluru  \n",
       "3                                 Bangalore/Bengaluru  \n",
       "4                                 Bangalore/Bengaluru  \n",
       "5                                 Bangalore/Bengaluru  \n",
       "6                                 Bangalore/Bengaluru  \n",
       "7   Hyderabad/Secunderabad, Pune, Bangalore/Bengaluru  \n",
       "8                                 Bangalore/Bengaluru  \n",
       "9                                 Bangalore/Bengaluru  \n",
       "10                                Bangalore/Bengaluru  \n",
       "11                                Bangalore/Bengaluru  \n",
       "12           Noida, Mumbai, Pune, Bangalore/Bengaluru  \n",
       "13                                Bangalore/Bengaluru  \n",
       "14                                Bangalore/Bengaluru  \n",
       "15                                Bangalore/Bengaluru  \n",
       "16                                Bangalore/Bengaluru  \n",
       "17                                Bangalore/Bengaluru  \n",
       "18                                Bangalore/Bengaluru  \n",
       "19                                Bangalore/Bengaluru  "
      ]
     },
     "execution_count": 25,
     "metadata": {},
     "output_type": "execute_result"
    }
   ],
   "source": [
    "jobs"
   ]
  },
  {
   "cell_type": "code",
   "execution_count": null,
   "id": "aa26380f",
   "metadata": {},
   "outputs": [],
   "source": []
  }
 ],
 "metadata": {
  "kernelspec": {
   "display_name": "Python 3 (ipykernel)",
   "language": "python",
   "name": "python3"
  },
  "language_info": {
   "codemirror_mode": {
    "name": "ipython",
    "version": 3
   },
   "file_extension": ".py",
   "mimetype": "text/x-python",
   "name": "python",
   "nbconvert_exporter": "python",
   "pygments_lexer": "ipython3",
   "version": "3.9.7"
  }
 },
 "nbformat": 4,
 "nbformat_minor": 5
}

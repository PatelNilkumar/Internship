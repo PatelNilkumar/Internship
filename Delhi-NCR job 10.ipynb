{
 "cells": [
  {
   "cell_type": "code",
   "execution_count": 1,
   "id": "477e67e4",
   "metadata": {},
   "outputs": [
    {
     "name": "stdout",
     "output_type": "stream",
     "text": [
      "Requirement already satisfied: selenium in c:\\programdata\\anaconda3\\lib\\site-packages (4.1.3)\n",
      "Requirement already satisfied: trio~=0.17 in c:\\programdata\\anaconda3\\lib\\site-packages (from selenium) (0.20.0)\n",
      "Requirement already satisfied: trio-websocket~=0.9 in c:\\programdata\\anaconda3\\lib\\site-packages (from selenium) (0.9.2)\n",
      "Requirement already satisfied: urllib3[secure,socks]~=1.26 in c:\\programdata\\anaconda3\\lib\\site-packages (from selenium) (1.26.7)\n",
      "Requirement already satisfied: cffi>=1.14 in c:\\programdata\\anaconda3\\lib\\site-packages (from trio~=0.17->selenium) (1.14.6)\n",
      "Requirement already satisfied: attrs>=19.2.0 in c:\\programdata\\anaconda3\\lib\\site-packages (from trio~=0.17->selenium) (21.2.0)\n",
      "Requirement already satisfied: idna in c:\\programdata\\anaconda3\\lib\\site-packages (from trio~=0.17->selenium) (3.2)\n",
      "Requirement already satisfied: async-generator>=1.9 in c:\\programdata\\anaconda3\\lib\\site-packages (from trio~=0.17->selenium) (1.10)\n",
      "Requirement already satisfied: sortedcontainers in c:\\programdata\\anaconda3\\lib\\site-packages (from trio~=0.17->selenium) (2.4.0)\n",
      "Requirement already satisfied: outcome in c:\\programdata\\anaconda3\\lib\\site-packages (from trio~=0.17->selenium) (1.1.0)\n",
      "Requirement already satisfied: sniffio in c:\\programdata\\anaconda3\\lib\\site-packages (from trio~=0.17->selenium) (1.2.0)\n",
      "Requirement already satisfied: pycparser in c:\\programdata\\anaconda3\\lib\\site-packages (from cffi>=1.14->trio~=0.17->selenium) (2.20)\n",
      "Requirement already satisfied: wsproto>=0.14 in c:\\programdata\\anaconda3\\lib\\site-packages (from trio-websocket~=0.9->selenium) (1.1.0)\n",
      "Requirement already satisfied: PySocks!=1.5.7,<2.0,>=1.5.6 in c:\\programdata\\anaconda3\\lib\\site-packages (from urllib3[secure,socks]~=1.26->selenium) (1.7.1)\n",
      "Requirement already satisfied: pyOpenSSL>=0.14 in c:\\programdata\\anaconda3\\lib\\site-packages (from urllib3[secure,socks]~=1.26->selenium) (21.0.0)\n",
      "Requirement already satisfied: cryptography>=1.3.4 in c:\\programdata\\anaconda3\\lib\\site-packages (from urllib3[secure,socks]~=1.26->selenium) (3.4.8)\n",
      "Requirement already satisfied: certifi in c:\\programdata\\anaconda3\\lib\\site-packages (from urllib3[secure,socks]~=1.26->selenium) (2021.10.8)\n",
      "Requirement already satisfied: six>=1.5.2 in c:\\programdata\\anaconda3\\lib\\site-packages (from pyOpenSSL>=0.14->urllib3[secure,socks]~=1.26->selenium) (1.16.0)\n",
      "Requirement already satisfied: h11<1,>=0.9.0 in c:\\programdata\\anaconda3\\lib\\site-packages (from wsproto>=0.14->trio-websocket~=0.9->selenium) (0.13.0)\n"
     ]
    }
   ],
   "source": [
    "!pip install selenium"
   ]
  },
  {
   "cell_type": "code",
   "execution_count": 2,
   "id": "4b9157d0",
   "metadata": {},
   "outputs": [],
   "source": [
    "import selenium\n",
    "import pandas as pd \n",
    "from selenium import webdriver\n",
    "import warnings\n",
    "warnings.filterwarnings(\"ignore\")\n",
    "import time"
   ]
  },
  {
   "cell_type": "code",
   "execution_count": 3,
   "id": "98a1771f",
   "metadata": {},
   "outputs": [],
   "source": [
    "driver = webdriver.Chrome(r\"C:\\Users\\patel\\Downloads\\chromedriver_win32\\chromedriver.exe\")"
   ]
  },
  {
   "cell_type": "code",
   "execution_count": 5,
   "id": "0b73a92c",
   "metadata": {},
   "outputs": [],
   "source": [
    "driver=webdriver.Chrome(\"chromedriver.exe\")\n",
    "time.sleep(2)"
   ]
  },
  {
   "cell_type": "code",
   "execution_count": 4,
   "id": "22556260",
   "metadata": {},
   "outputs": [],
   "source": [
    "driver.close()"
   ]
  },
  {
   "cell_type": "code",
   "execution_count": 6,
   "id": "4d0d7fa3",
   "metadata": {},
   "outputs": [],
   "source": [
    "driver.get('https://www.naukri.com/')"
   ]
  },
  {
   "cell_type": "code",
   "execution_count": 7,
   "id": "2d9492a2",
   "metadata": {},
   "outputs": [],
   "source": [
    "search_field_designation=driver.find_element_by_class_name(\"suggestor-input\")\n",
    "search_field_designation.send_keys(\"Data Scientist\")\n",
    "search_field_location=driver.find_element_by_xpath('/html/body/div/div[2]/div[3]/div/div/div[3]/div/div/div/input')\n",
    "search_field_location.send_keys(\"Delhi/NCR\")"
   ]
  },
  {
   "cell_type": "code",
   "execution_count": 8,
   "id": "4ea97c09",
   "metadata": {},
   "outputs": [],
   "source": [
    "search_button=driver.find_element_by_xpath('/html/body/div/div[2]/div[3]/div/div/div[6]')\n",
    "search_button.click()"
   ]
  },
  {
   "cell_type": "code",
   "execution_count": 11,
   "id": "12c2c51c",
   "metadata": {},
   "outputs": [],
   "source": [
    "url=\"https://www.naukri.com/data-scientist-jobs-in-delhi-ncr?k=data%20scientist&l=delhi%2Fncr&ctcFilter=3to6\""
   ]
  },
  {
   "cell_type": "code",
   "execution_count": 12,
   "id": "8f38c64a",
   "metadata": {},
   "outputs": [],
   "source": [
    "driver.get(url)"
   ]
  },
  {
   "cell_type": "code",
   "execution_count": 14,
   "id": "2e30d319",
   "metadata": {},
   "outputs": [],
   "source": [
    "job_titles=[]\n",
    "company_names=[]\n",
    "locations_list=[]\n",
    "experience_list=[]\n",
    "salary_list=[]"
   ]
  },
  {
   "cell_type": "code",
   "execution_count": 15,
   "id": "c4dd0ecc",
   "metadata": {},
   "outputs": [
    {
     "data": {
      "text/plain": [
       "[<selenium.webdriver.remote.webelement.WebElement (session=\"cd5fd05b370365e6b7ab9dfd8288a702\", element=\"0dbdec0c-ea77-42b3-8584-0a91af16a5af\")>,\n",
       " <selenium.webdriver.remote.webelement.WebElement (session=\"cd5fd05b370365e6b7ab9dfd8288a702\", element=\"e31ee16e-3f95-4c46-bc74-39bb88bc2f50\")>,\n",
       " <selenium.webdriver.remote.webelement.WebElement (session=\"cd5fd05b370365e6b7ab9dfd8288a702\", element=\"cf635a0b-6d15-4d19-b600-fecf88c19dd9\")>,\n",
       " <selenium.webdriver.remote.webelement.WebElement (session=\"cd5fd05b370365e6b7ab9dfd8288a702\", element=\"49d04baf-d046-4fa6-bdce-992e10dbfc00\")>,\n",
       " <selenium.webdriver.remote.webelement.WebElement (session=\"cd5fd05b370365e6b7ab9dfd8288a702\", element=\"5a480eed-a879-48c8-b8e6-e0aec5283b38\")>,\n",
       " <selenium.webdriver.remote.webelement.WebElement (session=\"cd5fd05b370365e6b7ab9dfd8288a702\", element=\"2af310f3-2b81-4188-881b-4546d6e7fb35\")>,\n",
       " <selenium.webdriver.remote.webelement.WebElement (session=\"cd5fd05b370365e6b7ab9dfd8288a702\", element=\"ed8c7b26-cd48-49a3-9d42-a380a89b47f8\")>,\n",
       " <selenium.webdriver.remote.webelement.WebElement (session=\"cd5fd05b370365e6b7ab9dfd8288a702\", element=\"15e2288c-7d85-4efe-a760-43bc55ca0aa3\")>,\n",
       " <selenium.webdriver.remote.webelement.WebElement (session=\"cd5fd05b370365e6b7ab9dfd8288a702\", element=\"f48a837e-426e-4523-8af7-88c2508e6bdd\")>,\n",
       " <selenium.webdriver.remote.webelement.WebElement (session=\"cd5fd05b370365e6b7ab9dfd8288a702\", element=\"9f1b3d7e-b8a4-4e12-9808-3a79846e11fa\")>]"
      ]
     },
     "execution_count": 15,
     "metadata": {},
     "output_type": "execute_result"
    }
   ],
   "source": [
    "titles_tags=driver.find_elements_by_xpath(\"//a[@class='title fw500 ellipsis']\")\n",
    "titles_tags[0:10]"
   ]
  },
  {
   "cell_type": "code",
   "execution_count": 16,
   "id": "11e177a8",
   "metadata": {},
   "outputs": [
    {
     "data": {
      "text/plain": [
       "['Opening For Data Scientist',\n",
       " 'Hiring For Senior Data Scientist-Noida',\n",
       " 'Data Scientist (freelance)',\n",
       " 'Data Scientist/ Machine Learning, 2022 Passout Can also apply',\n",
       " 'Data Scientist',\n",
       " 'Data Scientist',\n",
       " 'Urgent Requirement || Data Scientist || Noida',\n",
       " 'Senior Data Scientist',\n",
       " 'AM Data Scientist - Goods & Service Tax Network, Delhi',\n",
       " 'Data Scientist - MIND Infotech']"
      ]
     },
     "execution_count": 16,
     "metadata": {},
     "output_type": "execute_result"
    }
   ],
   "source": [
    "for i in titles_tags:\n",
    "    title=i.text\n",
    "    job_titles.append(title)\n",
    "job_titles[0:10] "
   ]
  },
  {
   "cell_type": "code",
   "execution_count": 17,
   "id": "849f2192",
   "metadata": {},
   "outputs": [
    {
     "data": {
      "text/plain": [
       "[<selenium.webdriver.remote.webelement.WebElement (session=\"cd5fd05b370365e6b7ab9dfd8288a702\", element=\"0e4e11fd-29c0-472b-bc28-b8d4ffa7a0c1\")>,\n",
       " <selenium.webdriver.remote.webelement.WebElement (session=\"cd5fd05b370365e6b7ab9dfd8288a702\", element=\"3c4a1749-20f1-4318-ab08-1279c73025b1\")>,\n",
       " <selenium.webdriver.remote.webelement.WebElement (session=\"cd5fd05b370365e6b7ab9dfd8288a702\", element=\"f4cb4ad2-7e63-440c-86a0-043f371bb4bc\")>,\n",
       " <selenium.webdriver.remote.webelement.WebElement (session=\"cd5fd05b370365e6b7ab9dfd8288a702\", element=\"a0f2f7fa-1938-4db3-8472-d13f245ca8b5\")>,\n",
       " <selenium.webdriver.remote.webelement.WebElement (session=\"cd5fd05b370365e6b7ab9dfd8288a702\", element=\"7e2a7885-9488-4010-b7f7-7482b793a156\")>,\n",
       " <selenium.webdriver.remote.webelement.WebElement (session=\"cd5fd05b370365e6b7ab9dfd8288a702\", element=\"9c3d97e7-8193-4251-ad6a-c7f6b8c15531\")>,\n",
       " <selenium.webdriver.remote.webelement.WebElement (session=\"cd5fd05b370365e6b7ab9dfd8288a702\", element=\"84719fb1-008e-4a2c-92a4-000578a9946a\")>,\n",
       " <selenium.webdriver.remote.webelement.WebElement (session=\"cd5fd05b370365e6b7ab9dfd8288a702\", element=\"30f6560c-5bf9-484d-b55b-8fa19cb137be\")>,\n",
       " <selenium.webdriver.remote.webelement.WebElement (session=\"cd5fd05b370365e6b7ab9dfd8288a702\", element=\"e44fcf4e-de9f-4790-aa22-92d26ba4f804\")>,\n",
       " <selenium.webdriver.remote.webelement.WebElement (session=\"cd5fd05b370365e6b7ab9dfd8288a702\", element=\"22a4350f-0571-43d9-9820-dee59f260cfc\")>]"
      ]
     },
     "execution_count": 17,
     "metadata": {},
     "output_type": "execute_result"
    }
   ],
   "source": [
    "locations_tags=driver.find_elements_by_xpath(\"//li[@class='fleft grey-text br2 placeHolderLi location']\")\n",
    "locations_tags[0:10]"
   ]
  },
  {
   "cell_type": "code",
   "execution_count": 18,
   "id": "884efd10",
   "metadata": {},
   "outputs": [
    {
     "data": {
      "text/plain": [
       "['Gurgaon/Gurugram',\n",
       " 'Noida, Greater Noida, Delhi / NCR',\n",
       " 'New Delhi, Delhi',\n",
       " 'Hyderabad/Secunderabad, Ahmedabad, Chennai, Bangalore/Bengaluru, Delhi / NCR, Mumbai (All Areas)',\n",
       " 'Gurgaon, Bengaluru',\n",
       " 'New Delhi',\n",
       " 'Noida, Delhi / NCR',\n",
       " 'Delhi',\n",
       " 'Delhi / NCR',\n",
       " 'Noida']"
      ]
     },
     "execution_count": 18,
     "metadata": {},
     "output_type": "execute_result"
    }
   ],
   "source": [
    "for i in locations_tags:\n",
    "    location=i.text\n",
    "    locations_list.append(location)\n",
    "locations_list[0:10]    "
   ]
  },
  {
   "cell_type": "code",
   "execution_count": 19,
   "id": "fe54a43d",
   "metadata": {},
   "outputs": [
    {
     "data": {
      "text/plain": [
       "[<selenium.webdriver.remote.webelement.WebElement (session=\"cd5fd05b370365e6b7ab9dfd8288a702\", element=\"b4cb2d1e-dcf6-4464-b5a7-0490c602a7f2\")>,\n",
       " <selenium.webdriver.remote.webelement.WebElement (session=\"cd5fd05b370365e6b7ab9dfd8288a702\", element=\"1e90f5fa-e9a9-420f-b04f-222b4b3be081\")>,\n",
       " <selenium.webdriver.remote.webelement.WebElement (session=\"cd5fd05b370365e6b7ab9dfd8288a702\", element=\"ef35943d-cc05-4e9f-9ee2-79c635253422\")>,\n",
       " <selenium.webdriver.remote.webelement.WebElement (session=\"cd5fd05b370365e6b7ab9dfd8288a702\", element=\"da060ff6-5834-48d3-a1eb-97be9d3ffec4\")>,\n",
       " <selenium.webdriver.remote.webelement.WebElement (session=\"cd5fd05b370365e6b7ab9dfd8288a702\", element=\"f0ff4a9f-27df-4e00-9983-9d7a108cb26c\")>,\n",
       " <selenium.webdriver.remote.webelement.WebElement (session=\"cd5fd05b370365e6b7ab9dfd8288a702\", element=\"43ab2ca6-0f5c-40b8-8a4d-5199f613b236\")>,\n",
       " <selenium.webdriver.remote.webelement.WebElement (session=\"cd5fd05b370365e6b7ab9dfd8288a702\", element=\"cf693ef3-ff3d-43f1-b3ad-96308e76844b\")>,\n",
       " <selenium.webdriver.remote.webelement.WebElement (session=\"cd5fd05b370365e6b7ab9dfd8288a702\", element=\"1ffa8e89-2d4b-4501-ab2a-be20df8d47c6\")>,\n",
       " <selenium.webdriver.remote.webelement.WebElement (session=\"cd5fd05b370365e6b7ab9dfd8288a702\", element=\"c278c1a4-4ef9-4390-ab09-70230947937b\")>,\n",
       " <selenium.webdriver.remote.webelement.WebElement (session=\"cd5fd05b370365e6b7ab9dfd8288a702\", element=\"a421aac8-e33a-4f52-9b08-f4ff22904bf3\")>]"
      ]
     },
     "execution_count": 19,
     "metadata": {},
     "output_type": "execute_result"
    }
   ],
   "source": [
    "companies_tags=driver.find_elements_by_xpath(\"//a[@class='subTitle ellipsis fleft']\")\n",
    "companies_tags[0:10]"
   ]
  },
  {
   "cell_type": "code",
   "execution_count": 20,
   "id": "62ef9f93",
   "metadata": {},
   "outputs": [
    {
     "data": {
      "text/plain": [
       "['Care Health Insurance',\n",
       " 'Lumiq.ai',\n",
       " '2Coms',\n",
       " 'Creative Hands HR Consultancy',\n",
       " 'BlackBuck',\n",
       " 'Boston Consulting Group',\n",
       " 'HCL Technologies',\n",
       " 'iNICU',\n",
       " 'NISG (National Institute for Smart Government)',\n",
       " 'MOTHERSONSUMI INFOTECH & DESIGNS LIMITED']"
      ]
     },
     "execution_count": 20,
     "metadata": {},
     "output_type": "execute_result"
    }
   ],
   "source": [
    "for i in companies_tags:\n",
    "    company_name=i.text\n",
    "    company_names.append(company_name)\n",
    "company_names[0:10]    "
   ]
  },
  {
   "cell_type": "code",
   "execution_count": 21,
   "id": "bf04622f",
   "metadata": {},
   "outputs": [
    {
     "data": {
      "text/plain": [
       "[<selenium.webdriver.remote.webelement.WebElement (session=\"cd5fd05b370365e6b7ab9dfd8288a702\", element=\"08dc83ae-3231-412c-af32-2605c2cd59eb\")>,\n",
       " <selenium.webdriver.remote.webelement.WebElement (session=\"cd5fd05b370365e6b7ab9dfd8288a702\", element=\"ad6a1ec0-fdd6-4583-8b29-05d5be4c49d0\")>,\n",
       " <selenium.webdriver.remote.webelement.WebElement (session=\"cd5fd05b370365e6b7ab9dfd8288a702\", element=\"259fed42-c55d-472b-93bc-6dd9397b5c1e\")>,\n",
       " <selenium.webdriver.remote.webelement.WebElement (session=\"cd5fd05b370365e6b7ab9dfd8288a702\", element=\"0b5dc429-87a5-4a49-918f-127b3c8f4dc6\")>,\n",
       " <selenium.webdriver.remote.webelement.WebElement (session=\"cd5fd05b370365e6b7ab9dfd8288a702\", element=\"6e242b31-fe09-427f-a337-a482b1055958\")>,\n",
       " <selenium.webdriver.remote.webelement.WebElement (session=\"cd5fd05b370365e6b7ab9dfd8288a702\", element=\"0eb6cf36-7818-4fc7-a296-538bc5126651\")>,\n",
       " <selenium.webdriver.remote.webelement.WebElement (session=\"cd5fd05b370365e6b7ab9dfd8288a702\", element=\"0e4aa834-9769-44a5-b59f-343511d92ac9\")>,\n",
       " <selenium.webdriver.remote.webelement.WebElement (session=\"cd5fd05b370365e6b7ab9dfd8288a702\", element=\"6e957f8c-27d6-4911-baf3-165cf17d6a53\")>,\n",
       " <selenium.webdriver.remote.webelement.WebElement (session=\"cd5fd05b370365e6b7ab9dfd8288a702\", element=\"4dcb8ec3-6531-42cc-890f-a789d155e6aa\")>,\n",
       " <selenium.webdriver.remote.webelement.WebElement (session=\"cd5fd05b370365e6b7ab9dfd8288a702\", element=\"efa227b9-2bee-441a-a73b-822ceed0b108\")>]"
      ]
     },
     "execution_count": 21,
     "metadata": {},
     "output_type": "execute_result"
    }
   ],
   "source": [
    "experience_tags=driver.find_elements_by_xpath(\"//li[@class='fleft grey-text br2 placeHolderLi experience']\")\n",
    "experience_tags[0:10]"
   ]
  },
  {
   "cell_type": "code",
   "execution_count": 22,
   "id": "10cd668d",
   "metadata": {},
   "outputs": [
    {
     "data": {
      "text/plain": [
       "['1-5 Yrs',\n",
       " '2-6 Yrs',\n",
       " '2-7 Yrs',\n",
       " '0-4 Yrs',\n",
       " '3-7 Yrs',\n",
       " '2-5 Yrs',\n",
       " '3-8 Yrs',\n",
       " '1-5 Yrs',\n",
       " '3-8 Yrs',\n",
       " '4-8 Yrs']"
      ]
     },
     "execution_count": 22,
     "metadata": {},
     "output_type": "execute_result"
    }
   ],
   "source": [
    "for i in experience_tags:\n",
    "    experience=i.text\n",
    "    experience_list.append(experience)\n",
    "experience_list[0:10]"
   ]
  },
  {
   "cell_type": "code",
   "execution_count": 23,
   "id": "badc005a",
   "metadata": {},
   "outputs": [
    {
     "data": {
      "text/plain": [
       "[<selenium.webdriver.remote.webelement.WebElement (session=\"cd5fd05b370365e6b7ab9dfd8288a702\", element=\"bc312d86-6224-44ef-9c68-97fdc2e93a0f\")>,\n",
       " <selenium.webdriver.remote.webelement.WebElement (session=\"cd5fd05b370365e6b7ab9dfd8288a702\", element=\"2a40596b-bc90-4034-9565-966cb5e685f7\")>,\n",
       " <selenium.webdriver.remote.webelement.WebElement (session=\"cd5fd05b370365e6b7ab9dfd8288a702\", element=\"b656fa93-8477-4ebb-b6c4-9c6c5e58c533\")>,\n",
       " <selenium.webdriver.remote.webelement.WebElement (session=\"cd5fd05b370365e6b7ab9dfd8288a702\", element=\"ba0b20b6-ad4a-46f1-a76c-2d1c5a75f54f\")>,\n",
       " <selenium.webdriver.remote.webelement.WebElement (session=\"cd5fd05b370365e6b7ab9dfd8288a702\", element=\"9332939c-04a0-4466-ab62-1c053522198f\")>,\n",
       " <selenium.webdriver.remote.webelement.WebElement (session=\"cd5fd05b370365e6b7ab9dfd8288a702\", element=\"d5c85917-c08d-48a7-99fb-d2d699bc1e43\")>,\n",
       " <selenium.webdriver.remote.webelement.WebElement (session=\"cd5fd05b370365e6b7ab9dfd8288a702\", element=\"bc57392b-44b0-4c2e-baa1-ded208d9ad58\")>,\n",
       " <selenium.webdriver.remote.webelement.WebElement (session=\"cd5fd05b370365e6b7ab9dfd8288a702\", element=\"84368c3e-fbce-43bd-a527-48ac8934a562\")>,\n",
       " <selenium.webdriver.remote.webelement.WebElement (session=\"cd5fd05b370365e6b7ab9dfd8288a702\", element=\"e47e7d75-3e36-4eb9-88d6-e49a301aee69\")>,\n",
       " <selenium.webdriver.remote.webelement.WebElement (session=\"cd5fd05b370365e6b7ab9dfd8288a702\", element=\"b40e0f1f-9039-4ab4-a0c4-69449ee6523a\")>]"
      ]
     },
     "execution_count": 23,
     "metadata": {},
     "output_type": "execute_result"
    }
   ],
   "source": [
    "salary_tags=driver.find_elements_by_xpath(\"//li[@class='fleft grey-text br2 placeHolderLi salary']\")\n",
    "salary_tags[0:10]"
   ]
  },
  {
   "cell_type": "code",
   "execution_count": 24,
   "id": "69c3fcfd",
   "metadata": {},
   "outputs": [
    {
     "data": {
      "text/plain": [
       "['3,00,000 - 7,00,000 PA.',\n",
       " 'Not disclosed',\n",
       " '4,75,000 - 9,75,000 PA.',\n",
       " '5,00,000 - 7,00,000 PA.',\n",
       " 'Not disclosed',\n",
       " 'Not disclosed',\n",
       " 'Not disclosed',\n",
       " 'Not disclosed',\n",
       " 'Not disclosed',\n",
       " 'Not disclosed']"
      ]
     },
     "execution_count": 24,
     "metadata": {},
     "output_type": "execute_result"
    }
   ],
   "source": [
    "for i in salary_tags:\n",
    "    salary=i.text\n",
    "    salary_list.append(salary)\n",
    "salary_list[0:10]    "
   ]
  },
  {
   "cell_type": "code",
   "execution_count": 25,
   "id": "67e25882",
   "metadata": {},
   "outputs": [
    {
     "name": "stdout",
     "output_type": "stream",
     "text": [
      "20 20 20 20 20\n"
     ]
    }
   ],
   "source": [
    "print(len(job_titles),len(company_names),len(experience_list),len(locations_list),len(salary_list))"
   ]
  },
  {
   "cell_type": "code",
   "execution_count": 26,
   "id": "a9ddc15a",
   "metadata": {},
   "outputs": [],
   "source": [
    "jobs=pd.DataFrame({})\n",
    "jobs['title']=job_titles\n",
    "jobs['company']=company_names\n",
    "jobs['experience_required']=experience_list\n",
    "jobs['location']=locations_list\n",
    "jobs['salary']=salary_list"
   ]
  },
  {
   "cell_type": "code",
   "execution_count": 27,
   "id": "8e041594",
   "metadata": {},
   "outputs": [
    {
     "data": {
      "text/html": [
       "<div>\n",
       "<style scoped>\n",
       "    .dataframe tbody tr th:only-of-type {\n",
       "        vertical-align: middle;\n",
       "    }\n",
       "\n",
       "    .dataframe tbody tr th {\n",
       "        vertical-align: top;\n",
       "    }\n",
       "\n",
       "    .dataframe thead th {\n",
       "        text-align: right;\n",
       "    }\n",
       "</style>\n",
       "<table border=\"1\" class=\"dataframe\">\n",
       "  <thead>\n",
       "    <tr style=\"text-align: right;\">\n",
       "      <th></th>\n",
       "      <th>title</th>\n",
       "      <th>company</th>\n",
       "      <th>experience_required</th>\n",
       "      <th>location</th>\n",
       "      <th>salary</th>\n",
       "    </tr>\n",
       "  </thead>\n",
       "  <tbody>\n",
       "    <tr>\n",
       "      <th>0</th>\n",
       "      <td>Opening For Data Scientist</td>\n",
       "      <td>Care Health Insurance</td>\n",
       "      <td>1-5 Yrs</td>\n",
       "      <td>Gurgaon/Gurugram</td>\n",
       "      <td>3,00,000 - 7,00,000 PA.</td>\n",
       "    </tr>\n",
       "    <tr>\n",
       "      <th>1</th>\n",
       "      <td>Hiring For Senior Data Scientist-Noida</td>\n",
       "      <td>Lumiq.ai</td>\n",
       "      <td>2-6 Yrs</td>\n",
       "      <td>Noida, Greater Noida, Delhi / NCR</td>\n",
       "      <td>Not disclosed</td>\n",
       "    </tr>\n",
       "    <tr>\n",
       "      <th>2</th>\n",
       "      <td>Data Scientist (freelance)</td>\n",
       "      <td>2Coms</td>\n",
       "      <td>2-7 Yrs</td>\n",
       "      <td>New Delhi, Delhi</td>\n",
       "      <td>4,75,000 - 9,75,000 PA.</td>\n",
       "    </tr>\n",
       "    <tr>\n",
       "      <th>3</th>\n",
       "      <td>Data Scientist/ Machine Learning, 2022 Passout...</td>\n",
       "      <td>Creative Hands HR Consultancy</td>\n",
       "      <td>0-4 Yrs</td>\n",
       "      <td>Hyderabad/Secunderabad, Ahmedabad, Chennai, Ba...</td>\n",
       "      <td>5,00,000 - 7,00,000 PA.</td>\n",
       "    </tr>\n",
       "    <tr>\n",
       "      <th>4</th>\n",
       "      <td>Data Scientist</td>\n",
       "      <td>BlackBuck</td>\n",
       "      <td>3-7 Yrs</td>\n",
       "      <td>Gurgaon, Bengaluru</td>\n",
       "      <td>Not disclosed</td>\n",
       "    </tr>\n",
       "    <tr>\n",
       "      <th>5</th>\n",
       "      <td>Data Scientist</td>\n",
       "      <td>Boston Consulting Group</td>\n",
       "      <td>2-5 Yrs</td>\n",
       "      <td>New Delhi</td>\n",
       "      <td>Not disclosed</td>\n",
       "    </tr>\n",
       "    <tr>\n",
       "      <th>6</th>\n",
       "      <td>Urgent Requirement || Data Scientist || Noida</td>\n",
       "      <td>HCL Technologies</td>\n",
       "      <td>3-8 Yrs</td>\n",
       "      <td>Noida, Delhi / NCR</td>\n",
       "      <td>Not disclosed</td>\n",
       "    </tr>\n",
       "    <tr>\n",
       "      <th>7</th>\n",
       "      <td>Senior Data Scientist</td>\n",
       "      <td>iNICU</td>\n",
       "      <td>1-5 Yrs</td>\n",
       "      <td>Delhi</td>\n",
       "      <td>Not disclosed</td>\n",
       "    </tr>\n",
       "    <tr>\n",
       "      <th>8</th>\n",
       "      <td>AM Data Scientist - Goods &amp; Service Tax Networ...</td>\n",
       "      <td>NISG (National Institute for Smart Government)</td>\n",
       "      <td>3-8 Yrs</td>\n",
       "      <td>Delhi / NCR</td>\n",
       "      <td>Not disclosed</td>\n",
       "    </tr>\n",
       "    <tr>\n",
       "      <th>9</th>\n",
       "      <td>Data Scientist - MIND Infotech</td>\n",
       "      <td>MOTHERSONSUMI INFOTECH &amp; DESIGNS LIMITED</td>\n",
       "      <td>4-8 Yrs</td>\n",
       "      <td>Noida</td>\n",
       "      <td>Not disclosed</td>\n",
       "    </tr>\n",
       "    <tr>\n",
       "      <th>10</th>\n",
       "      <td>Lead Data Scientist</td>\n",
       "      <td>KIA INDIA PRIVATE LIMITED</td>\n",
       "      <td>7-10 Yrs</td>\n",
       "      <td>Gurgaon/Gurugram</td>\n",
       "      <td>Not disclosed</td>\n",
       "    </tr>\n",
       "    <tr>\n",
       "      <th>11</th>\n",
       "      <td>Data Scientist - Python/SQL</td>\n",
       "      <td>AVE-Promagne</td>\n",
       "      <td>3-8 Yrs</td>\n",
       "      <td>Noida, Kota, Mumbai, Chandigarh, Lucknow, Agra...</td>\n",
       "      <td>Not disclosed</td>\n",
       "    </tr>\n",
       "    <tr>\n",
       "      <th>12</th>\n",
       "      <td>Data Scientist</td>\n",
       "      <td>Country Veggie</td>\n",
       "      <td>1-3 Yrs</td>\n",
       "      <td>Bharuch, Jaipur, Bhopal, Mumbai, Jhansi, Nagpu...</td>\n",
       "      <td>Not disclosed</td>\n",
       "    </tr>\n",
       "    <tr>\n",
       "      <th>13</th>\n",
       "      <td>Associate Data Scientist</td>\n",
       "      <td>Right Step Consulting</td>\n",
       "      <td>3-6 Yrs</td>\n",
       "      <td>Noida</td>\n",
       "      <td>Not disclosed</td>\n",
       "    </tr>\n",
       "    <tr>\n",
       "      <th>14</th>\n",
       "      <td>Junior AI Data Scientist</td>\n",
       "      <td>Seven Consultancy (HR Solution)</td>\n",
       "      <td>1-6 Yrs</td>\n",
       "      <td>New Delhi</td>\n",
       "      <td>Not disclosed</td>\n",
       "    </tr>\n",
       "    <tr>\n",
       "      <th>15</th>\n",
       "      <td>AM - Data Scientist</td>\n",
       "      <td>GSTN</td>\n",
       "      <td>3-5 Yrs</td>\n",
       "      <td>Delhi / NCR</td>\n",
       "      <td>4,00,000 - 7,50,000 PA.</td>\n",
       "    </tr>\n",
       "    <tr>\n",
       "      <th>16</th>\n",
       "      <td>Data scientist- Python</td>\n",
       "      <td>TeamPlus Staffing Solution Pvt Ltd</td>\n",
       "      <td>3-6 Yrs</td>\n",
       "      <td>Gurgaon/Gurugram</td>\n",
       "      <td>Not disclosed</td>\n",
       "    </tr>\n",
       "    <tr>\n",
       "      <th>17</th>\n",
       "      <td>Data Scientist</td>\n",
       "      <td>T &amp; A Solutions</td>\n",
       "      <td>2-6 Yrs</td>\n",
       "      <td>Gurgaon/Gurugram</td>\n",
       "      <td>Not disclosed</td>\n",
       "    </tr>\n",
       "    <tr>\n",
       "      <th>18</th>\n",
       "      <td>Data Scientist</td>\n",
       "      <td>itForte Staffing Services Private Ltd.</td>\n",
       "      <td>3-8 Yrs</td>\n",
       "      <td>Gurgaon</td>\n",
       "      <td>Not disclosed</td>\n",
       "    </tr>\n",
       "    <tr>\n",
       "      <th>19</th>\n",
       "      <td>Data Scientist</td>\n",
       "      <td>CELEBAL TECHNOLOGIES PRIVATE LIMITED</td>\n",
       "      <td>3-8 Yrs</td>\n",
       "      <td>Ahmedabad, Jaipur, Delhi / NCR</td>\n",
       "      <td>Not disclosed</td>\n",
       "    </tr>\n",
       "  </tbody>\n",
       "</table>\n",
       "</div>"
      ],
      "text/plain": [
       "                                                title  \\\n",
       "0                          Opening For Data Scientist   \n",
       "1              Hiring For Senior Data Scientist-Noida   \n",
       "2                          Data Scientist (freelance)   \n",
       "3   Data Scientist/ Machine Learning, 2022 Passout...   \n",
       "4                                      Data Scientist   \n",
       "5                                      Data Scientist   \n",
       "6       Urgent Requirement || Data Scientist || Noida   \n",
       "7                               Senior Data Scientist   \n",
       "8   AM Data Scientist - Goods & Service Tax Networ...   \n",
       "9                      Data Scientist - MIND Infotech   \n",
       "10                                Lead Data Scientist   \n",
       "11                        Data Scientist - Python/SQL   \n",
       "12                                     Data Scientist   \n",
       "13                           Associate Data Scientist   \n",
       "14                           Junior AI Data Scientist   \n",
       "15                                AM - Data Scientist   \n",
       "16                             Data scientist- Python   \n",
       "17                                     Data Scientist   \n",
       "18                                     Data Scientist   \n",
       "19                                     Data Scientist   \n",
       "\n",
       "                                           company experience_required  \\\n",
       "0                            Care Health Insurance             1-5 Yrs   \n",
       "1                                         Lumiq.ai             2-6 Yrs   \n",
       "2                                            2Coms             2-7 Yrs   \n",
       "3                    Creative Hands HR Consultancy             0-4 Yrs   \n",
       "4                                        BlackBuck             3-7 Yrs   \n",
       "5                          Boston Consulting Group             2-5 Yrs   \n",
       "6                                 HCL Technologies             3-8 Yrs   \n",
       "7                                            iNICU             1-5 Yrs   \n",
       "8   NISG (National Institute for Smart Government)             3-8 Yrs   \n",
       "9         MOTHERSONSUMI INFOTECH & DESIGNS LIMITED             4-8 Yrs   \n",
       "10                       KIA INDIA PRIVATE LIMITED            7-10 Yrs   \n",
       "11                                    AVE-Promagne             3-8 Yrs   \n",
       "12                                  Country Veggie             1-3 Yrs   \n",
       "13                           Right Step Consulting             3-6 Yrs   \n",
       "14                 Seven Consultancy (HR Solution)             1-6 Yrs   \n",
       "15                                            GSTN             3-5 Yrs   \n",
       "16              TeamPlus Staffing Solution Pvt Ltd             3-6 Yrs   \n",
       "17                                 T & A Solutions             2-6 Yrs   \n",
       "18          itForte Staffing Services Private Ltd.             3-8 Yrs   \n",
       "19            CELEBAL TECHNOLOGIES PRIVATE LIMITED             3-8 Yrs   \n",
       "\n",
       "                                             location                   salary  \n",
       "0                                    Gurgaon/Gurugram  3,00,000 - 7,00,000 PA.  \n",
       "1                   Noida, Greater Noida, Delhi / NCR            Not disclosed  \n",
       "2                                    New Delhi, Delhi  4,75,000 - 9,75,000 PA.  \n",
       "3   Hyderabad/Secunderabad, Ahmedabad, Chennai, Ba...  5,00,000 - 7,00,000 PA.  \n",
       "4                                  Gurgaon, Bengaluru            Not disclosed  \n",
       "5                                           New Delhi            Not disclosed  \n",
       "6                                  Noida, Delhi / NCR            Not disclosed  \n",
       "7                                               Delhi            Not disclosed  \n",
       "8                                         Delhi / NCR            Not disclosed  \n",
       "9                                               Noida            Not disclosed  \n",
       "10                                   Gurgaon/Gurugram            Not disclosed  \n",
       "11  Noida, Kota, Mumbai, Chandigarh, Lucknow, Agra...            Not disclosed  \n",
       "12  Bharuch, Jaipur, Bhopal, Mumbai, Jhansi, Nagpu...            Not disclosed  \n",
       "13                                              Noida            Not disclosed  \n",
       "14                                          New Delhi            Not disclosed  \n",
       "15                                        Delhi / NCR  4,00,000 - 7,50,000 PA.  \n",
       "16                                   Gurgaon/Gurugram            Not disclosed  \n",
       "17                                   Gurgaon/Gurugram            Not disclosed  \n",
       "18                                            Gurgaon            Not disclosed  \n",
       "19                     Ahmedabad, Jaipur, Delhi / NCR            Not disclosed  "
      ]
     },
     "execution_count": 27,
     "metadata": {},
     "output_type": "execute_result"
    }
   ],
   "source": [
    "jobs"
   ]
  },
  {
   "cell_type": "code",
   "execution_count": null,
   "id": "3eb98e4f",
   "metadata": {},
   "outputs": [],
   "source": []
  }
 ],
 "metadata": {
  "kernelspec": {
   "display_name": "Python 3 (ipykernel)",
   "language": "python",
   "name": "python3"
  },
  "language_info": {
   "codemirror_mode": {
    "name": "ipython",
    "version": 3
   },
   "file_extension": ".py",
   "mimetype": "text/x-python",
   "name": "python",
   "nbconvert_exporter": "python",
   "pygments_lexer": "ipython3",
   "version": "3.9.7"
  }
 },
 "nbformat": 4,
 "nbformat_minor": 5
}

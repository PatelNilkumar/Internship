{
 "cells": [
  {
   "cell_type": "code",
   "execution_count": 2,
   "id": "73fd7a1f",
   "metadata": {},
   "outputs": [],
   "source": [
    "#import all the required libraries\n",
    "import pandas as pd\n",
    "import selenium\n",
    "from selenium import webdriver\n",
    "from selenium.common.exceptions import StaleElementReferenceException, NoSuchElementException\n",
    "import time\n",
    "import re"
   ]
  },
  {
   "cell_type": "code",
   "execution_count": 100,
   "id": "e9076960",
   "metadata": {},
   "outputs": [
    {
     "name": "stderr",
     "output_type": "stream",
     "text": [
      "C:\\Users\\patel\\AppData\\Local\\Temp/ipykernel_56116/1705928529.py:1: DeprecationWarning: executable_path has been deprecated, please pass in a Service object\n",
      "  driver = webdriver.Chrome(r\"C:/Users/patel/Downloads/chromedriver_win32/chromedriver.exe\")\n"
     ]
    }
   ],
   "source": [
    "driver = webdriver.Chrome(r\"C:/Users/patel/Downloads/chromedriver_win32/chromedriver.exe\")"
   ]
  },
  {
   "cell_type": "markdown",
   "id": "a2bc86cb",
   "metadata": {},
   "source": [
    "# 8. Write a python program to scrape the details for all billionaires from www.forbes.com. \n",
    "\n",
    "Details to be scrapped: “Rank”, “Name”, “Net worth”, “Age”, “Citizenship”, “Source”, “Industry”."
   ]
  },
  {
   "cell_type": "code",
   "execution_count": 7,
   "id": "1e2b0af5",
   "metadata": {},
   "outputs": [],
   "source": [
    "url=\"https://www.forbes.com\""
   ]
  },
  {
   "cell_type": "code",
   "execution_count": 8,
   "id": "ece3706e",
   "metadata": {},
   "outputs": [],
   "source": [
    "driver.get(url)"
   ]
  },
  {
   "cell_type": "code",
   "execution_count": 9,
   "id": "ed97a466",
   "metadata": {},
   "outputs": [],
   "source": [
    "Rank=[]\n",
    "Name=[]\n",
    "Networth=[]\n",
    "Age=[]"
   ]
  },
  {
   "cell_type": "code",
   "execution_count": 24,
   "id": "97e16960",
   "metadata": {},
   "outputs": [
    {
     "name": "stderr",
     "output_type": "stream",
     "text": [
      "C:\\Users\\patel\\AppData\\Local\\Temp/ipykernel_56116/1274619739.py:1: DeprecationWarning: find_elements_by_xpath is deprecated. Please use find_elements(by=By.XPATH, value=xpath) instead\n",
      "  ra=driver.find_elements_by_xpath(\"//div[@class='fbs-slider__slide']\")\n"
     ]
    },
    {
     "data": {
      "text/plain": [
       "6"
      ]
     },
     "execution_count": 24,
     "metadata": {},
     "output_type": "execute_result"
    }
   ],
   "source": [
    "ra=driver.find_elements_by_xpath(\"//div[@class='fbs-slider__slide']\")\n",
    "len(ra)"
   ]
  },
  {
   "cell_type": "code",
   "execution_count": null,
   "id": "9922deae",
   "metadata": {},
   "outputs": [],
   "source": []
  },
  {
   "cell_type": "markdown",
   "id": "6ec8aa8a",
   "metadata": {},
   "source": [
    "# 9. Write a program to extract at least 500 Comments, Comment upvote and time when comment was posted from any YouTube Video."
   ]
  },
  {
   "cell_type": "code",
   "execution_count": 74,
   "id": "8832816f",
   "metadata": {},
   "outputs": [],
   "source": [
    "import pandas as pd\n",
    "import json\n",
    "import os\n",
    "import sys\n",
    "import re\n",
    "import time\n",
    "\n",
    "import requests"
   ]
  },
  {
   "cell_type": "code",
   "execution_count": 75,
   "id": "1e608932",
   "metadata": {},
   "outputs": [],
   "source": [
    "pd.set_option('display.max_rows', 500)\n",
    "pd.set_option('display.max_columns', 500)\n",
    "pd.set_option('display.width', 1000)"
   ]
  },
  {
   "cell_type": "code",
   "execution_count": 76,
   "id": "358c4c51",
   "metadata": {},
   "outputs": [],
   "source": [
    "url='https://www.youtube.com/comment_service_ajax'"
   ]
  },
  {
   "cell_type": "code",
   "execution_count": 80,
   "id": "dc17a9fa",
   "metadata": {},
   "outputs": [],
   "source": [
    "USER_AGENT = 'Mozilla/5.0 (Windows NT 10.0; Win64; x64) AppleWebKit/537.36 (KHTML, like Gecko) Chrome/79.0.3945.130 Safari/537.36'"
   ]
  },
  {
   "cell_type": "code",
   "execution_count": 81,
   "id": "6f9e39cc",
   "metadata": {},
   "outputs": [],
   "source": [
    "File_Name = 'ytb_comments.csv'"
   ]
  },
  {
   "cell_type": "code",
   "execution_count": 82,
   "id": "d75f4534",
   "metadata": {},
   "outputs": [],
   "source": [
    "SORT_BY_POPULAR = 0\n",
    "SORT_BY_RECENT = 1\n",
    "COMMENT_LIMIT = 500"
   ]
  },
  {
   "cell_type": "code",
   "execution_count": 83,
   "id": "00cfe85e",
   "metadata": {},
   "outputs": [],
   "source": [
    "YT_CFG_RE = r'ytcfg\\.set\\s*\\(\\s*({.+?})\\s*\\)\\s*;'\n",
    "YT_INITIAL_DATA_RE = r'(?:window\\s*\\[\\s*[\"\\']ytInitialData[\"\\']\\s*\\]|ytInitialData)\\s*=\\s*({.+?})\\s*;\\s*(?:var\\s+meta|</script|\\n)'"
   ]
  },
  {
   "cell_type": "code",
   "execution_count": 84,
   "id": "a58d98fd",
   "metadata": {},
   "outputs": [],
   "source": [
    "def regex_search(text, pattern, group=1, default=None):\n",
    "    match = re.search(pattern, text)\n",
    "    return match.group(group) if match else default"
   ]
  },
  {
   "cell_type": "code",
   "execution_count": 85,
   "id": "3505a0fb",
   "metadata": {},
   "outputs": [],
   "source": [
    "def ajax_request(session, endpoint, ytcfg, retries=5, sleep=20):\n",
    "    url = 'https://www.youtube.com' + endpoint['commandMetadata']['webCommandMetadata']['apiUrl']\n",
    "    data = {'context': ytcfg['INNERTUBE_CONTEXT'],\n",
    "            'continuation': endpoint['continuationCommand']['token']}"
   ]
  },
  {
   "cell_type": "code",
   "execution_count": 86,
   "id": "d3c272fe",
   "metadata": {},
   "outputs": [
    {
     "ename": "SyntaxError",
     "evalue": "'return' outside function (Temp/ipykernel_56116/3388827532.py, line 4)",
     "output_type": "error",
     "traceback": [
      "\u001b[1;36m  File \u001b[1;32m\"C:\\Users\\patel\\AppData\\Local\\Temp/ipykernel_56116/3388827532.py\"\u001b[1;36m, line \u001b[1;32m4\u001b[0m\n\u001b[1;33m    return response.json()\u001b[0m\n\u001b[1;37m    ^\u001b[0m\n\u001b[1;31mSyntaxError\u001b[0m\u001b[1;31m:\u001b[0m 'return' outside function\n"
     ]
    }
   ],
   "source": [
    "for _ in range(retries):\n",
    "        response = session.post(url, params={'key': ytcfg['INNERTUBE_API_KEY']}, json=data)\n",
    "        if response.status_code == 200:\n",
    "            return response.json()\n",
    "        if response.status_code in [403, 413]:\n",
    "            return {}\n",
    "        else:\n",
    "            time.sleep(sleep)"
   ]
  },
  {
   "cell_type": "code",
   "execution_count": 92,
   "id": "743a2922",
   "metadata": {},
   "outputs": [
    {
     "ename": "IndentationError",
     "evalue": "unindent does not match any outer indentation level (<tokenize>, line 24)",
     "output_type": "error",
     "traceback": [
      "\u001b[1;36m  File \u001b[1;32m\"<tokenize>\"\u001b[1;36m, line \u001b[1;32m24\u001b[0m\n\u001b[1;33m    needs_sorting = sort_by != SORT_BY_POPULAR\u001b[0m\n\u001b[1;37m    ^\u001b[0m\n\u001b[1;31mIndentationError\u001b[0m\u001b[1;31m:\u001b[0m unindent does not match any outer indentation level\n"
     ]
    }
   ],
   "source": [
    "def download_comments(YOUTUBE_VIDEO_URL, sort_by=SORT_BY_RECENT, language=None, sleep=0.1):\n",
    "    session = requests.Session()\n",
    "    session.headers['User-Agent'] = USER_AGENT\n",
    "    response = session.get(YOUTUBE_VIDEO_URL)\n",
    "\n",
    "    if 'uxe=' in response.request.url:\n",
    "        session.cookies.set('CONSENT', 'YES+cb', domain='.youtube.com')\n",
    "        response = session.get(YOUTUBE_VIDEO_URL)\n",
    "\n",
    "    html = response.text\n",
    "    ytcfg = json.loads(regex_search(html, YT_CFG_RE, default=''))\n",
    "    if not ytcfg:\n",
    "        return # Unable to extract configuration\n",
    "    if language:\n",
    "        ytcfg['INNERTUBE_CONTEXT']['client']['hl'] = language\n",
    "\n",
    "    data = json.loads(regex_search(html, YT_INITIAL_DATA_RE, default=''))\n",
    "\n",
    "    section = next(search_dict(data, 'itemSectionRenderer'), None)\n",
    "    renderer = next(search_dict(section, 'continuationItemRenderer'), None) if section else None\n",
    "    if not renderer:\n",
    "        # Comments disabled?\n",
    "        return\n",
    "     needs_sorting = sort_by != SORT_BY_POPULAR\n",
    "    continuations = [renderer['continuationEndpoint']]\n",
    "    while continuations:\n",
    "        continuation = continuations.pop()\n",
    "        response = ajax_request(session, continuation, ytcfg)\n",
    "\n",
    "        if not response:\n",
    "            break\n",
    "        if list(search_dict(response, 'externalErrorMessage')):\n",
    "            raise RuntimeError('Error returned from server: ' + next(search_dict(response, 'externalErrorMessage')))\n",
    "\n",
    "        if needs_sorting:\n",
    "            sort_menu = next(search_dict(response, 'sortFilterSubMenuRenderer'), {}).get('subMenuItems', [])\n",
    "            if sort_by < len(sort_menu):\n",
    "                continuations = [sort_menu[sort_by]['serviceEndpoint']]\n",
    "                needs_sorting = False\n",
    "                continue\n",
    "            raise RuntimeError('Failed to set sorting')\n",
    "            actions = list(search_dict(response, 'reloadContinuationItemsCommand')) + \\\n",
    "                  list(search_dict(response, 'appendContinuationItemsAction'))\n",
    "        for action in actions:\n",
    "            for item in action.get('continuationItems', []):\n",
    "                if action['targetId'] == 'comments-section':\n",
    "                    # Process continuations for comments and replies.\n",
    "                    continuations[:0] = [ep for ep in search_dict(item, 'continuationEndpoint')]\n",
    "                if action['targetId'].startswith('comment-replies-item') and 'continuationItemRenderer' in item:\n",
    "                    # Process the 'Show more replies' button\n",
    "                    continuations.append(next(search_dict(item, 'buttonRenderer'))['command'])"
   ]
  },
  {
   "cell_type": "code",
   "execution_count": 94,
   "id": "296e9046",
   "metadata": {},
   "outputs": [
    {
     "ename": "IndentationError",
     "evalue": "unindent does not match any outer indentation level (<tokenize>, line 11)",
     "output_type": "error",
     "traceback": [
      "\u001b[1;36m  File \u001b[1;32m\"<tokenize>\"\u001b[1;36m, line \u001b[1;32m11\u001b[0m\n\u001b[1;33m    time.sleep(sleep)\u001b[0m\n\u001b[1;37m    ^\u001b[0m\n\u001b[1;31mIndentationError\u001b[0m\u001b[1;31m:\u001b[0m unindent does not match any outer indentation level\n"
     ]
    }
   ],
   "source": [
    "for comment in reversed(list(search_dict(response, 'commentRenderer'))):\n",
    "            yield {'cid': comment['commentId'],\n",
    "                   'text': ''.join([c['text'] for c in comment['contentText'].get('runs', [])]),\n",
    "                   'time': comment['publishedTimeText']['runs'][0]['text'],\n",
    "                   'author': comment.get('authorText', {}).get('simpleText', ''),\n",
    "                   'channel': comment['authorEndpoint']['browseEndpoint'].get('browseId', ''),\n",
    "                   'votes': comment.get('voteCount', {}).get('simpleText', '0'),\n",
    "                   'photo': comment['authorThumbnail']['thumbnails'][-1]['url'],\n",
    "                   'heart': next(search_dict(comment, 'isHearted'), False)}\n",
    "\n",
    "        time.sleep(sleep)"
   ]
  },
  {
   "cell_type": "code",
   "execution_count": 95,
   "id": "7a0d38f2",
   "metadata": {},
   "outputs": [],
   "source": [
    "def search_dict(partial, search_key):\n",
    "    stack = [partial]\n",
    "    while stack:\n",
    "        current_item = stack.pop()\n",
    "        if isinstance(current_item, dict):\n",
    "            for key, value in current_item.items():\n",
    "                if key == search_key:\n",
    "                    yield value\n",
    "                else:\n",
    "                    stack.append(value)\n",
    "        elif isinstance(current_item, list):\n",
    "            for value in current_item:\n",
    "                stack.append(value)"
   ]
  },
  {
   "cell_type": "code",
   "execution_count": 96,
   "id": "35291ce0",
   "metadata": {},
   "outputs": [
    {
     "ename": "SyntaxError",
     "evalue": "unexpected EOF while parsing (Temp/ipykernel_56116/1312131288.py, line 33)",
     "output_type": "error",
     "traceback": [
      "\u001b[1;36m  File \u001b[1;32m\"C:\\Users\\patel\\AppData\\Local\\Temp/ipykernel_56116/1312131288.py\"\u001b[1;36m, line \u001b[1;32m33\u001b[0m\n\u001b[1;33m    print('\\n[{:.2f} seconds] Done!'.format(time.time() - start_time))\u001b[0m\n\u001b[1;37m                                                                      ^\u001b[0m\n\u001b[1;31mSyntaxError\u001b[0m\u001b[1;31m:\u001b[0m unexpected EOF while parsing\n"
     ]
    }
   ],
   "source": [
    "def main(url):\n",
    "    df_comment = pd.DataFrame()\n",
    "    try:\n",
    "        youtube_url = url\n",
    "        limit = COMMENT_LIMIT\n",
    "\n",
    "        print('Downloading Youtube comments for video:', youtube_url)\n",
    "\n",
    "        count = 0\n",
    "\n",
    "        start_time = time.time()\n",
    "\n",
    "        for comment in download_comments(youtube_url):\n",
    "\n",
    "            df_comment = df_comment.append(comment, ignore_index=True)\n",
    "\n",
    "            # comments overview\n",
    "            comment_json = json.dumps(comment, ensure_ascii=False)\n",
    "            print(comment_json)\n",
    "\n",
    "            count += 1\n",
    "\n",
    "            if limit and count >= limit:\n",
    "                break\n",
    "\n",
    "        print(\"DataFrame Shape: \",df_comment.shape,\"\\nComment DataFrame: \", df_comment)\n",
    "\n",
    "        if not os.path.isfile(FILE_NAME):\n",
    "            df_comment.to_csv(FILE_NAME, encoding='utf-8', index=False)\n",
    "        else:  # else it exists so append without writing the header\n",
    "            df_comment.to_csv(FILE_NAME, mode='a', encoding='utf-8', index=False, header=False)\n",
    "\n",
    "        print('\\n[{:.2f} seconds] Done!'.format(time.time() - start_time))"
   ]
  },
  {
   "cell_type": "code",
   "execution_count": 97,
   "id": "befc9ab3",
   "metadata": {},
   "outputs": [
    {
     "ename": "SyntaxError",
     "evalue": "invalid syntax (Temp/ipykernel_56116/98567332.py, line 1)",
     "output_type": "error",
     "traceback": [
      "\u001b[1;36m  File \u001b[1;32m\"C:\\Users\\patel\\AppData\\Local\\Temp/ipykernel_56116/98567332.py\"\u001b[1;36m, line \u001b[1;32m1\u001b[0m\n\u001b[1;33m    except Exception as e:\u001b[0m\n\u001b[1;37m    ^\u001b[0m\n\u001b[1;31mSyntaxError\u001b[0m\u001b[1;31m:\u001b[0m invalid syntax\n"
     ]
    }
   ],
   "source": [
    "except Exception as e:\n",
    "        print('Error:', str(e))\n",
    "        sys.exit(1)  "
   ]
  },
  {
   "cell_type": "markdown",
   "id": "cb3a2365",
   "metadata": {},
   "source": [
    "# 10. Write a python program to scrape a data for all available Hostels from https://www.hostelworld.com/ in “London” location. You have to scrape hostel name, distance from city centre, ratings, total reviews, overall reviews, privates from price, dorms from price, facilities and property description."
   ]
  },
  {
   "cell_type": "code",
   "execution_count": 3,
   "id": "cce1eb83",
   "metadata": {},
   "outputs": [
    {
     "name": "stderr",
     "output_type": "stream",
     "text": [
      "C:\\Users\\patel\\AppData\\Local\\Temp/ipykernel_67920/1705928529.py:1: DeprecationWarning: executable_path has been deprecated, please pass in a Service object\n",
      "  driver = webdriver.Chrome(r\"C:/Users/patel/Downloads/chromedriver_win32/chromedriver.exe\")\n"
     ]
    }
   ],
   "source": [
    "driver = webdriver.Chrome(r\"C:/Users/patel/Downloads/chromedriver_win32/chromedriver.exe\")"
   ]
  },
  {
   "cell_type": "code",
   "execution_count": 5,
   "id": "dcf21778",
   "metadata": {},
   "outputs": [],
   "source": [
    "url=\"https://www.hostelworld.com/London\"\n",
    "driver.get(url)"
   ]
  },
  {
   "cell_type": "code",
   "execution_count": 47,
   "id": "b9293461",
   "metadata": {},
   "outputs": [],
   "source": [
    "Hostel_Name=[]\n",
    "Distance=[]\n",
    "Ratings=[]\n",
    "To_Ov_Camera=[]\n",
    "F_P_Description=[]\n",
    "Battery=[]\n",
    "P_D_Price=[]"
   ]
  },
  {
   "cell_type": "code",
   "execution_count": null,
   "id": "cbfe058c",
   "metadata": {},
   "outputs": [],
   "source": []
  }
 ],
 "metadata": {
  "kernelspec": {
   "display_name": "Python 3 (ipykernel)",
   "language": "python",
   "name": "python3"
  },
  "language_info": {
   "codemirror_mode": {
    "name": "ipython",
    "version": 3
   },
   "file_extension": ".py",
   "mimetype": "text/x-python",
   "name": "python",
   "nbconvert_exporter": "python",
   "pygments_lexer": "ipython3",
   "version": "3.9.7"
  }
 },
 "nbformat": 4,
 "nbformat_minor": 5
}

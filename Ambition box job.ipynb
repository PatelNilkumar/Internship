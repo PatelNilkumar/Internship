{
 "cells": [
  {
   "cell_type": "code",
   "execution_count": 1,
   "id": "59317f97",
   "metadata": {},
   "outputs": [
    {
     "name": "stdout",
     "output_type": "stream",
     "text": [
      "Requirement already satisfied: selenium in c:\\programdata\\anaconda3\\lib\\site-packages (4.1.3)\n",
      "Requirement already satisfied: trio-websocket~=0.9 in c:\\programdata\\anaconda3\\lib\\site-packages (from selenium) (0.9.2)\n",
      "Requirement already satisfied: urllib3[secure,socks]~=1.26 in c:\\programdata\\anaconda3\\lib\\site-packages (from selenium) (1.26.7)\n",
      "Requirement already satisfied: trio~=0.17 in c:\\programdata\\anaconda3\\lib\\site-packages (from selenium) (0.20.0)\n",
      "Requirement already satisfied: attrs>=19.2.0 in c:\\programdata\\anaconda3\\lib\\site-packages (from trio~=0.17->selenium) (21.2.0)\n",
      "Requirement already satisfied: idna in c:\\programdata\\anaconda3\\lib\\site-packages (from trio~=0.17->selenium) (3.2)\n",
      "Requirement already satisfied: async-generator>=1.9 in c:\\programdata\\anaconda3\\lib\\site-packages (from trio~=0.17->selenium) (1.10)\n",
      "Requirement already satisfied: sniffio in c:\\programdata\\anaconda3\\lib\\site-packages (from trio~=0.17->selenium) (1.2.0)\n",
      "Requirement already satisfied: outcome in c:\\programdata\\anaconda3\\lib\\site-packages (from trio~=0.17->selenium) (1.1.0)\n",
      "Requirement already satisfied: sortedcontainers in c:\\programdata\\anaconda3\\lib\\site-packages (from trio~=0.17->selenium) (2.4.0)\n",
      "Requirement already satisfied: cffi>=1.14 in c:\\programdata\\anaconda3\\lib\\site-packages (from trio~=0.17->selenium) (1.14.6)\n",
      "Requirement already satisfied: pycparser in c:\\programdata\\anaconda3\\lib\\site-packages (from cffi>=1.14->trio~=0.17->selenium) (2.20)\n",
      "Requirement already satisfied: wsproto>=0.14 in c:\\programdata\\anaconda3\\lib\\site-packages (from trio-websocket~=0.9->selenium) (1.1.0)\n",
      "Requirement already satisfied: pyOpenSSL>=0.14 in c:\\programdata\\anaconda3\\lib\\site-packages (from urllib3[secure,socks]~=1.26->selenium) (21.0.0)\n",
      "Requirement already satisfied: cryptography>=1.3.4 in c:\\programdata\\anaconda3\\lib\\site-packages (from urllib3[secure,socks]~=1.26->selenium) (3.4.8)\n",
      "Requirement already satisfied: certifi in c:\\programdata\\anaconda3\\lib\\site-packages (from urllib3[secure,socks]~=1.26->selenium) (2021.10.8)\n",
      "Requirement already satisfied: PySocks!=1.5.7,<2.0,>=1.5.6 in c:\\programdata\\anaconda3\\lib\\site-packages (from urllib3[secure,socks]~=1.26->selenium) (1.7.1)\n",
      "Requirement already satisfied: six>=1.5.2 in c:\\programdata\\anaconda3\\lib\\site-packages (from pyOpenSSL>=0.14->urllib3[secure,socks]~=1.26->selenium) (1.16.0)\n",
      "Requirement already satisfied: h11<1,>=0.9.0 in c:\\programdata\\anaconda3\\lib\\site-packages (from wsproto>=0.14->trio-websocket~=0.9->selenium) (0.13.0)\n"
     ]
    }
   ],
   "source": [
    "!pip install selenium"
   ]
  },
  {
   "cell_type": "code",
   "execution_count": 2,
   "id": "a072908a",
   "metadata": {},
   "outputs": [],
   "source": [
    "import selenium\n",
    "import pandas as pd \n",
    "from selenium import webdriver\n",
    "import warnings\n",
    "warnings.filterwarnings(\"ignore\")\n",
    "import time"
   ]
  },
  {
   "cell_type": "code",
   "execution_count": 3,
   "id": "4e2196a7",
   "metadata": {},
   "outputs": [],
   "source": [
    "driver = webdriver.Chrome(r\"C:\\Users\\patel\\Downloads\\chromedriver_win32\\chromedriver.exe\")"
   ]
  },
  {
   "cell_type": "code",
   "execution_count": 6,
   "id": "663d36a5",
   "metadata": {},
   "outputs": [],
   "source": [
    "driver=webdriver.Chrome(\"chromedriver.exe\")\n",
    "time.sleep(2)"
   ]
  },
  {
   "cell_type": "code",
   "execution_count": 5,
   "id": "f54873a8",
   "metadata": {},
   "outputs": [],
   "source": [
    "driver.close()"
   ]
  },
  {
   "cell_type": "code",
   "execution_count": 7,
   "id": "c1b09fc2",
   "metadata": {},
   "outputs": [],
   "source": [
    "driver.get('https://www.ambitionbox.com/')"
   ]
  },
  {
   "cell_type": "code",
   "execution_count": 14,
   "id": "340e72e3",
   "metadata": {},
   "outputs": [],
   "source": [
    "job_titles=[]\n",
    "company_names=[]\n",
    "locations_list=[]\n",
    "rating_list=[]"
   ]
  },
  {
   "cell_type": "code",
   "execution_count": 17,
   "id": "12e3b0fb",
   "metadata": {},
   "outputs": [
    {
     "data": {
      "text/plain": [
       "[<selenium.webdriver.remote.webelement.WebElement (session=\"1924735a41a463589d48f734fdcc8520\", element=\"dc103396-3bc9-4d48-8adb-3d7a4b02c250\")>,\n",
       " <selenium.webdriver.remote.webelement.WebElement (session=\"1924735a41a463589d48f734fdcc8520\", element=\"42a6dcca-3a4c-41b3-8389-6cc6205c90ff\")>,\n",
       " <selenium.webdriver.remote.webelement.WebElement (session=\"1924735a41a463589d48f734fdcc8520\", element=\"740f93ec-930c-473a-82cf-9e9db2de76c8\")>,\n",
       " <selenium.webdriver.remote.webelement.WebElement (session=\"1924735a41a463589d48f734fdcc8520\", element=\"b7cf9f03-c3bd-4a8a-8392-0c62137e3307\")>,\n",
       " <selenium.webdriver.remote.webelement.WebElement (session=\"1924735a41a463589d48f734fdcc8520\", element=\"d7a4a750-4efc-4fd7-93ea-edcd20de641e\")>,\n",
       " <selenium.webdriver.remote.webelement.WebElement (session=\"1924735a41a463589d48f734fdcc8520\", element=\"5bee9fb7-09c3-47c1-bfdf-4a733aaa9639\")>,\n",
       " <selenium.webdriver.remote.webelement.WebElement (session=\"1924735a41a463589d48f734fdcc8520\", element=\"55c7f754-65b7-4bea-a620-bcca02f65e76\")>,\n",
       " <selenium.webdriver.remote.webelement.WebElement (session=\"1924735a41a463589d48f734fdcc8520\", element=\"4596bd74-ce00-4767-8ae1-a2d89d67873f\")>,\n",
       " <selenium.webdriver.remote.webelement.WebElement (session=\"1924735a41a463589d48f734fdcc8520\", element=\"6404671a-08f7-4383-b1f3-6dd7522974cd\")>,\n",
       " <selenium.webdriver.remote.webelement.WebElement (session=\"1924735a41a463589d48f734fdcc8520\", element=\"f4d0179a-365b-4cdd-b18e-cedf36916156\")>]"
      ]
     },
     "execution_count": 17,
     "metadata": {},
     "output_type": "execute_result"
    }
   ],
   "source": [
    "titles_tags=driver.find_elements_by_xpath(\"//a[@class='title noclick']\")\n",
    "titles_tags[0:10]"
   ]
  },
  {
   "cell_type": "code",
   "execution_count": 18,
   "id": "426d4800",
   "metadata": {},
   "outputs": [
    {
     "data": {
      "text/plain": [
       "['Machine Learning Engineer',\n",
       " 'Data Scientist',\n",
       " 'Data Scientist with SAS',\n",
       " 'Hiring For Data Scientist + Python/R+ Predictive Modeling',\n",
       " 'Urgent Requirement || Data Scientist || Noida',\n",
       " 'Data Scientist - Immediate Joiners',\n",
       " 'Data Scientist - Machine Learning (5-14 yrs)',\n",
       " 'Data Scientist- Fresher Opening - Newgen Software Technologies',\n",
       " 'Senior Data Scientist',\n",
       " 'Data Analyst / Data Scientist']"
      ]
     },
     "execution_count": 18,
     "metadata": {},
     "output_type": "execute_result"
    }
   ],
   "source": [
    "for i in titles_tags:\n",
    "    title=i.text\n",
    "    job_titles.append(title)\n",
    "job_titles[0:10]  "
   ]
  },
  {
   "cell_type": "code",
   "execution_count": 23,
   "id": "598727ab",
   "metadata": {},
   "outputs": [
    {
     "data": {
      "text/plain": [
       "[<selenium.webdriver.remote.webelement.WebElement (session=\"1924735a41a463589d48f734fdcc8520\", element=\"a7f9b04e-2f51-4628-8f65-67bf90ae1f45\")>,\n",
       " <selenium.webdriver.remote.webelement.WebElement (session=\"1924735a41a463589d48f734fdcc8520\", element=\"f5781445-84c4-4837-a461-0a0e47cfd57c\")>,\n",
       " <selenium.webdriver.remote.webelement.WebElement (session=\"1924735a41a463589d48f734fdcc8520\", element=\"4cc2e5d5-97ba-4386-a4fa-53a1e766326d\")>,\n",
       " <selenium.webdriver.remote.webelement.WebElement (session=\"1924735a41a463589d48f734fdcc8520\", element=\"8775a9f5-9e54-4e58-9857-e4fc86b131de\")>,\n",
       " <selenium.webdriver.remote.webelement.WebElement (session=\"1924735a41a463589d48f734fdcc8520\", element=\"45901a40-545f-41f7-898f-2ffc553806f0\")>,\n",
       " <selenium.webdriver.remote.webelement.WebElement (session=\"1924735a41a463589d48f734fdcc8520\", element=\"d6168ec4-5277-4a85-8942-bd352b0cf33f\")>,\n",
       " <selenium.webdriver.remote.webelement.WebElement (session=\"1924735a41a463589d48f734fdcc8520\", element=\"ec8d896c-ef01-4485-9057-ffd4926fe093\")>,\n",
       " <selenium.webdriver.remote.webelement.WebElement (session=\"1924735a41a463589d48f734fdcc8520\", element=\"4fef6779-e001-42b7-87e2-cfc0033b255b\")>,\n",
       " <selenium.webdriver.remote.webelement.WebElement (session=\"1924735a41a463589d48f734fdcc8520\", element=\"31d06867-9ad0-487a-b011-2bca61c2bd6b\")>,\n",
       " <selenium.webdriver.remote.webelement.WebElement (session=\"1924735a41a463589d48f734fdcc8520\", element=\"80224a3b-c099-415d-884d-f13609ae33ed\")>]"
      ]
     },
     "execution_count": 23,
     "metadata": {},
     "output_type": "execute_result"
    }
   ],
   "source": [
    "companies_tags=driver.find_elements_by_xpath(\"//p[@class='company body-medium']\")\n",
    "companies_tags[0:10]"
   ]
  },
  {
   "cell_type": "code",
   "execution_count": 24,
   "id": "1869f628",
   "metadata": {},
   "outputs": [
    {
     "data": {
      "text/plain": [
       "['GENPACT India Private Limited',\n",
       " 'GENPACT India Private Limited',\n",
       " 'Tech Mahindra Ltd',\n",
       " 'GENPACT India Private Limited',\n",
       " 'HCL Technologies',\n",
       " 'Bristlecone India Limited',\n",
       " 'Zyoin',\n",
       " 'Newgen Software Technologies Ltd.',\n",
       " 'Pitney Bowes India Pvt Ltd',\n",
       " 'JK Technosoft Ltd']"
      ]
     },
     "execution_count": 24,
     "metadata": {},
     "output_type": "execute_result"
    }
   ],
   "source": [
    "for i in companies_tags:\n",
    "    company_name=i.text\n",
    "    company_names.append(company_name)\n",
    "company_names[0:10] "
   ]
  },
  {
   "cell_type": "code",
   "execution_count": 83,
   "id": "d385c4ff",
   "metadata": {},
   "outputs": [
    {
     "data": {
      "text/plain": [
       "[<selenium.webdriver.remote.webelement.WebElement (session=\"1924735a41a463589d48f734fdcc8520\", element=\"9edf958c-d1bf-4394-a4b2-00a4e6ab550a\")>,\n",
       " <selenium.webdriver.remote.webelement.WebElement (session=\"1924735a41a463589d48f734fdcc8520\", element=\"0d36ee48-0e7f-4cff-9d17-fe28bfba3a63\")>,\n",
       " <selenium.webdriver.remote.webelement.WebElement (session=\"1924735a41a463589d48f734fdcc8520\", element=\"646410b0-4d09-404a-83f4-834056980888\")>,\n",
       " <selenium.webdriver.remote.webelement.WebElement (session=\"1924735a41a463589d48f734fdcc8520\", element=\"90e2a186-02e3-4c4d-bd79-08e00f2404f3\")>,\n",
       " <selenium.webdriver.remote.webelement.WebElement (session=\"1924735a41a463589d48f734fdcc8520\", element=\"3eca528a-9a06-4a8b-aa74-a2b575f582c1\")>,\n",
       " <selenium.webdriver.remote.webelement.WebElement (session=\"1924735a41a463589d48f734fdcc8520\", element=\"6513be15-6cd6-4ea4-91e3-332f783348f3\")>,\n",
       " <selenium.webdriver.remote.webelement.WebElement (session=\"1924735a41a463589d48f734fdcc8520\", element=\"388dcd85-c930-48e3-a8d4-37e45c6c33e6\")>,\n",
       " <selenium.webdriver.remote.webelement.WebElement (session=\"1924735a41a463589d48f734fdcc8520\", element=\"c3349104-cc71-4f41-87a6-0c6ed4c863c7\")>,\n",
       " <selenium.webdriver.remote.webelement.WebElement (session=\"1924735a41a463589d48f734fdcc8520\", element=\"8cecce58-8f9a-4774-b773-fa35cb6bf95c\")>,\n",
       " <selenium.webdriver.remote.webelement.WebElement (session=\"1924735a41a463589d48f734fdcc8520\", element=\"61c5d167-7f56-47ae-a685-19a8fe0fcc6b\")>]"
      ]
     },
     "execution_count": 83,
     "metadata": {},
     "output_type": "execute_result"
    }
   ],
   "source": [
    "locations_tags=driver.find_elements_by_xpath(\"//div[@class='entity loc']\")\n",
    "locations_tags[0:10]"
   ]
  },
  {
   "cell_type": "code",
   "execution_count": 81,
   "id": "bc694cae",
   "metadata": {},
   "outputs": [
    {
     "data": {
      "text/plain": [
       "['', '', '', '', '', '', '', '', '', '']"
      ]
     },
     "execution_count": 81,
     "metadata": {},
     "output_type": "execute_result"
    }
   ],
   "source": [
    "for i in locations_tags :\n",
    "    location=i.text\n",
    "    locations_list.append(location)\n",
    "locations_list[0:10]     "
   ]
  },
  {
   "cell_type": "code",
   "execution_count": 58,
   "id": "b736f652",
   "metadata": {},
   "outputs": [
    {
     "data": {
      "text/plain": [
       "[<selenium.webdriver.remote.webelement.WebElement (session=\"1924735a41a463589d48f734fdcc8520\", element=\"fb10bb52-48e8-4c32-8f23-bac79849cf73\")>,\n",
       " <selenium.webdriver.remote.webelement.WebElement (session=\"1924735a41a463589d48f734fdcc8520\", element=\"f192002d-13a9-4a86-aad6-3b5ff79ac351\")>,\n",
       " <selenium.webdriver.remote.webelement.WebElement (session=\"1924735a41a463589d48f734fdcc8520\", element=\"bbdf2bcb-8399-4a8d-9e6e-48bed98fc89a\")>,\n",
       " <selenium.webdriver.remote.webelement.WebElement (session=\"1924735a41a463589d48f734fdcc8520\", element=\"caf7b90e-860c-4cee-83ac-a7541e1a828e\")>,\n",
       " <selenium.webdriver.remote.webelement.WebElement (session=\"1924735a41a463589d48f734fdcc8520\", element=\"9f5f2bb1-3169-4d02-a555-89b577acab85\")>,\n",
       " <selenium.webdriver.remote.webelement.WebElement (session=\"1924735a41a463589d48f734fdcc8520\", element=\"25cd0cfe-4315-4289-8507-e614f8a2d3a5\")>,\n",
       " <selenium.webdriver.remote.webelement.WebElement (session=\"1924735a41a463589d48f734fdcc8520\", element=\"2f7acd4a-f0d9-4cf7-949d-783577464147\")>,\n",
       " <selenium.webdriver.remote.webelement.WebElement (session=\"1924735a41a463589d48f734fdcc8520\", element=\"09a961ef-f54c-4566-8d6d-ce965f511512\")>,\n",
       " <selenium.webdriver.remote.webelement.WebElement (session=\"1924735a41a463589d48f734fdcc8520\", element=\"c4b0d6c7-49d8-4560-a0f4-a98b76215cc6\")>,\n",
       " <selenium.webdriver.remote.webelement.WebElement (session=\"1924735a41a463589d48f734fdcc8520\", element=\"dfeeeb32-1249-4d1d-b1c6-5f87df606197\")>]"
      ]
     },
     "execution_count": 58,
     "metadata": {},
     "output_type": "execute_result"
    }
   ],
   "source": [
    "rating_tags=driver.find_elements_by_xpath(\"//div[@class='rating-wrapper']\")\n",
    "rating_tags[0:10]"
   ]
  },
  {
   "cell_type": "code",
   "execution_count": 59,
   "id": "b4c4e838",
   "metadata": {},
   "outputs": [
    {
     "data": {
      "text/plain": [
       "['',\n",
       " '',\n",
       " '',\n",
       " '4.0\\nbased on 16.9k Reviews',\n",
       " '4.0\\n(16.9k Reviews)',\n",
       " '4.0\\n(16.9k Reviews)',\n",
       " '3.7\\n(17.2k Reviews)',\n",
       " '4.0\\n(16.9k Reviews)',\n",
       " '3.8\\n(18.1k Reviews)',\n",
       " '3.8\\n(270 Reviews)']"
      ]
     },
     "execution_count": 59,
     "metadata": {},
     "output_type": "execute_result"
    }
   ],
   "source": [
    "for i in rating_tags :\n",
    "    rating=i.text\n",
    "    rating_list.append(rating)\n",
    "rating_list[0:10] "
   ]
  },
  {
   "cell_type": "code",
   "execution_count": 84,
   "id": "5430dcce",
   "metadata": {},
   "outputs": [
    {
     "name": "stdout",
     "output_type": "stream",
     "text": [
      "10 10 14 288\n"
     ]
    }
   ],
   "source": [
    "print(len(job_titles),len(company_names),len(rating_list),len(locations_list))"
   ]
  },
  {
   "cell_type": "code",
   "execution_count": 97,
   "id": "8648adee",
   "metadata": {},
   "outputs": [
    {
     "data": {
      "text/html": [
       "<div>\n",
       "<style scoped>\n",
       "    .dataframe tbody tr th:only-of-type {\n",
       "        vertical-align: middle;\n",
       "    }\n",
       "\n",
       "    .dataframe tbody tr th {\n",
       "        vertical-align: top;\n",
       "    }\n",
       "\n",
       "    .dataframe thead th {\n",
       "        text-align: right;\n",
       "    }\n",
       "</style>\n",
       "<table border=\"1\" class=\"dataframe\">\n",
       "  <thead>\n",
       "    <tr style=\"text-align: right;\">\n",
       "      <th></th>\n",
       "      <th>title</th>\n",
       "      <th>company</th>\n",
       "    </tr>\n",
       "  </thead>\n",
       "  <tbody>\n",
       "    <tr>\n",
       "      <th>0</th>\n",
       "      <td>Machine Learning Engineer</td>\n",
       "      <td>GENPACT India Private Limited</td>\n",
       "    </tr>\n",
       "    <tr>\n",
       "      <th>1</th>\n",
       "      <td>Data Scientist</td>\n",
       "      <td>GENPACT India Private Limited</td>\n",
       "    </tr>\n",
       "    <tr>\n",
       "      <th>2</th>\n",
       "      <td>Data Scientist with SAS</td>\n",
       "      <td>Tech Mahindra Ltd</td>\n",
       "    </tr>\n",
       "    <tr>\n",
       "      <th>3</th>\n",
       "      <td>Hiring For Data Scientist + Python/R+ Predicti...</td>\n",
       "      <td>GENPACT India Private Limited</td>\n",
       "    </tr>\n",
       "    <tr>\n",
       "      <th>4</th>\n",
       "      <td>Urgent Requirement || Data Scientist || Noida</td>\n",
       "      <td>HCL Technologies</td>\n",
       "    </tr>\n",
       "    <tr>\n",
       "      <th>5</th>\n",
       "      <td>Data Scientist - Immediate Joiners</td>\n",
       "      <td>Bristlecone India Limited</td>\n",
       "    </tr>\n",
       "    <tr>\n",
       "      <th>6</th>\n",
       "      <td>Data Scientist - Machine Learning (5-14 yrs)</td>\n",
       "      <td>Zyoin</td>\n",
       "    </tr>\n",
       "    <tr>\n",
       "      <th>7</th>\n",
       "      <td>Data Scientist- Fresher Opening - Newgen Softw...</td>\n",
       "      <td>Newgen Software Technologies Ltd.</td>\n",
       "    </tr>\n",
       "    <tr>\n",
       "      <th>8</th>\n",
       "      <td>Senior Data Scientist</td>\n",
       "      <td>Pitney Bowes India Pvt Ltd</td>\n",
       "    </tr>\n",
       "    <tr>\n",
       "      <th>9</th>\n",
       "      <td>Data Analyst / Data Scientist</td>\n",
       "      <td>JK Technosoft Ltd</td>\n",
       "    </tr>\n",
       "  </tbody>\n",
       "</table>\n",
       "</div>"
      ],
      "text/plain": [
       "                                               title  \\\n",
       "0                          Machine Learning Engineer   \n",
       "1                                     Data Scientist   \n",
       "2                            Data Scientist with SAS   \n",
       "3  Hiring For Data Scientist + Python/R+ Predicti...   \n",
       "4      Urgent Requirement || Data Scientist || Noida   \n",
       "5                 Data Scientist - Immediate Joiners   \n",
       "6       Data Scientist - Machine Learning (5-14 yrs)   \n",
       "7  Data Scientist- Fresher Opening - Newgen Softw...   \n",
       "8                              Senior Data Scientist   \n",
       "9                      Data Analyst / Data Scientist   \n",
       "\n",
       "                             company  \n",
       "0      GENPACT India Private Limited  \n",
       "1      GENPACT India Private Limited  \n",
       "2                  Tech Mahindra Ltd  \n",
       "3      GENPACT India Private Limited  \n",
       "4                   HCL Technologies  \n",
       "5          Bristlecone India Limited  \n",
       "6                              Zyoin  \n",
       "7  Newgen Software Technologies Ltd.  \n",
       "8         Pitney Bowes India Pvt Ltd  \n",
       "9                  JK Technosoft Ltd  "
      ]
     },
     "execution_count": 97,
     "metadata": {},
     "output_type": "execute_result"
    }
   ],
   "source": [
    "jobs"
   ]
  },
  {
   "cell_type": "code",
   "execution_count": null,
   "id": "61271934",
   "metadata": {},
   "outputs": [],
   "source": []
  }
 ],
 "metadata": {
  "kernelspec": {
   "display_name": "Python 3 (ipykernel)",
   "language": "python",
   "name": "python3"
  },
  "language_info": {
   "codemirror_mode": {
    "name": "ipython",
    "version": 3
   },
   "file_extension": ".py",
   "mimetype": "text/x-python",
   "name": "python",
   "nbconvert_exporter": "python",
   "pygments_lexer": "ipython3",
   "version": "3.9.7"
  }
 },
 "nbformat": 4,
 "nbformat_minor": 5
}
